{
 "cells": [
  {
   "cell_type": "code",
   "execution_count": 26,
   "metadata": {
    "ExecuteTime": {
     "end_time": "2021-08-16T03:35:43.627287Z",
     "start_time": "2021-08-16T03:35:43.587050Z"
    }
   },
   "outputs": [
    {
     "name": "stdout",
     "output_type": "stream",
     "text": [
      "The autoreload extension is already loaded. To reload it, use:\n",
      "  %reload_ext autoreload\n"
     ]
    }
   ],
   "source": [
    "%load_ext autoreload\n",
    "%autoreload 2\n",
    "import os\n",
    "import sys\n",
    "import pandas as pd\n",
    "import sklearn\n",
    "import re\n",
    "\n",
    "\n",
    "from ai_schema import *\n",
    "from config_ai.utils import jload, jdump_lines\n",
    "from jsonpath_ng import parse\n",
    "\n",
    "\n"
   ]
  },
  {
   "cell_type": "code",
   "execution_count": 64,
   "metadata": {
    "ExecuteTime": {
     "end_time": "2021-08-16T09:57:51.793391Z",
     "start_time": "2021-08-16T09:57:49.962350Z"
    }
   },
   "outputs": [
    {
     "data": {
      "text/plain": [
       "'parsing exp:/nfs/pony/chenhao/experiment/clue_wsc/relation_classify_nowarm_lr2'"
      ]
     },
     "execution_count": 64,
     "metadata": {},
     "output_type": "execute_result"
    },
    {
     "data": {
      "text/plain": [
       "'parsing exp:/nfs/pony/chenhao/experiment/clue_wsc/relation_classify_nowarm_lr2/2021-08-13-11:30:00'"
      ]
     },
     "execution_count": 64,
     "metadata": {},
     "output_type": "execute_result"
    },
    {
     "data": {
      "text/plain": [
       "('relation_classify_nowarm_lr2', 0.8421052631578947)"
      ]
     },
     "execution_count": 64,
     "metadata": {},
     "output_type": "execute_result"
    },
    {
     "data": {
      "text/plain": [
       "'parsing exp:/nfs/pony/chenhao/experiment/clue_wsc/relation_classify_nowarm_lr2/2021-08-13-11:30:07'"
      ]
     },
     "execution_count": 64,
     "metadata": {},
     "output_type": "execute_result"
    },
    {
     "data": {
      "text/plain": [
       "('relation_classify_nowarm_lr2', 0.8223684210526315)"
      ]
     },
     "execution_count": 64,
     "metadata": {},
     "output_type": "execute_result"
    },
    {
     "data": {
      "text/plain": [
       "'parsing exp:/nfs/pony/chenhao/experiment/clue_wsc/relation_classify_nowarm_lr2/2021-08-13-11:32:10'"
      ]
     },
     "execution_count": 64,
     "metadata": {},
     "output_type": "execute_result"
    },
    {
     "data": {
      "text/plain": [
       "('relation_classify_nowarm_lr2', 0.8322368421052633)"
      ]
     },
     "execution_count": 64,
     "metadata": {},
     "output_type": "execute_result"
    },
    {
     "data": {
      "text/plain": [
       "'parsing exp:/nfs/pony/chenhao/experiment/clue_wsc/tensorboard'"
      ]
     },
     "execution_count": 64,
     "metadata": {},
     "output_type": "execute_result"
    },
    {
     "data": {
      "text/plain": [
       "'parsing exp:/nfs/pony/chenhao/experiment/clue_wsc/relation_classify_nowarm_lr3'"
      ]
     },
     "execution_count": 64,
     "metadata": {},
     "output_type": "execute_result"
    },
    {
     "data": {
      "text/plain": [
       "'parsing exp:/nfs/pony/chenhao/experiment/clue_wsc/relation_classify_nowarm_lr3/2021-08-13-11:32:10'"
      ]
     },
     "execution_count": 64,
     "metadata": {},
     "output_type": "execute_result"
    },
    {
     "data": {
      "text/plain": [
       "('relation_classify_nowarm_lr3', 0.8388157894736842)"
      ]
     },
     "execution_count": 64,
     "metadata": {},
     "output_type": "execute_result"
    },
    {
     "data": {
      "text/plain": [
       "'parsing exp:/nfs/pony/chenhao/experiment/clue_wsc/relation_classify_nowarm_lr3/2021-08-13-11:36:09'"
      ]
     },
     "execution_count": 64,
     "metadata": {},
     "output_type": "execute_result"
    },
    {
     "data": {
      "text/plain": [
       "('relation_classify_nowarm_lr3', 0.8388157894736842)"
      ]
     },
     "execution_count": 64,
     "metadata": {},
     "output_type": "execute_result"
    },
    {
     "data": {
      "text/plain": [
       "'parsing exp:/nfs/pony/chenhao/experiment/clue_wsc/relation_classify_nowarm_lr3/2021-08-13-11:37:07'"
      ]
     },
     "execution_count": 64,
     "metadata": {},
     "output_type": "execute_result"
    },
    {
     "data": {
      "text/plain": [
       "('relation_classify_nowarm_lr3', 0.8552631578947367)"
      ]
     },
     "execution_count": 64,
     "metadata": {},
     "output_type": "execute_result"
    },
    {
     "data": {
      "text/plain": [
       "'parsing exp:/nfs/pony/chenhao/experiment/clue_wsc/relation_classify_warm_lr2'"
      ]
     },
     "execution_count": 64,
     "metadata": {},
     "output_type": "execute_result"
    },
    {
     "data": {
      "text/plain": [
       "'parsing exp:/nfs/pony/chenhao/experiment/clue_wsc/relation_classify_warm_lr2/2021-08-13-11:39:16'"
      ]
     },
     "execution_count": 64,
     "metadata": {},
     "output_type": "execute_result"
    },
    {
     "data": {
      "text/plain": [
       "('relation_classify_warm_lr2', 0.805921052631579)"
      ]
     },
     "execution_count": 64,
     "metadata": {},
     "output_type": "execute_result"
    },
    {
     "data": {
      "text/plain": [
       "'parsing exp:/nfs/pony/chenhao/experiment/clue_wsc/relation_classify_warm_lr2/2021-08-13-11:41:16'"
      ]
     },
     "execution_count": 64,
     "metadata": {},
     "output_type": "execute_result"
    },
    {
     "data": {
      "text/plain": [
       "('relation_classify_warm_lr2', 0.8223684210526315)"
      ]
     },
     "execution_count": 64,
     "metadata": {},
     "output_type": "execute_result"
    },
    {
     "data": {
      "text/plain": [
       "'parsing exp:/nfs/pony/chenhao/experiment/clue_wsc/relation_classify_warm_lr3'"
      ]
     },
     "execution_count": 64,
     "metadata": {},
     "output_type": "execute_result"
    },
    {
     "data": {
      "text/plain": [
       "'parsing exp:/nfs/pony/chenhao/experiment/clue_wsc/relation_classify_warm_lr3/2021-08-13-11:44:16'"
      ]
     },
     "execution_count": 64,
     "metadata": {},
     "output_type": "execute_result"
    },
    {
     "data": {
      "text/plain": [
       "('relation_classify_warm_lr3', 0.8421052631578947)"
      ]
     },
     "execution_count": 64,
     "metadata": {},
     "output_type": "execute_result"
    },
    {
     "data": {
      "text/plain": [
       "'parsing exp:/nfs/pony/chenhao/experiment/clue_wsc/relation_classify_warm_lr3/2021-08-13-11:46:23'"
      ]
     },
     "execution_count": 64,
     "metadata": {},
     "output_type": "execute_result"
    },
    {
     "data": {
      "text/plain": [
       "('relation_classify_warm_lr3', 0.8388157894736842)"
      ]
     },
     "execution_count": 64,
     "metadata": {},
     "output_type": "execute_result"
    },
    {
     "data": {
      "text/plain": [
       "'parsing exp:/nfs/pony/chenhao/experiment/clue_wsc/relation_classify_warm_lr3/2021-08-13-11:47:24'"
      ]
     },
     "execution_count": 64,
     "metadata": {},
     "output_type": "execute_result"
    },
    {
     "data": {
      "text/plain": [
       "('relation_classify_warm_lr3', 0.8289473684210527)"
      ]
     },
     "execution_count": 64,
     "metadata": {},
     "output_type": "execute_result"
    },
    {
     "data": {
      "text/plain": [
       "'parsing exp:/nfs/pony/chenhao/experiment/clue_wsc/relation_classify_CLS'"
      ]
     },
     "execution_count": 64,
     "metadata": {},
     "output_type": "execute_result"
    },
    {
     "data": {
      "text/plain": [
       "'parsing exp:/nfs/pony/chenhao/experiment/clue_wsc/relation_classify_CLS/2021-08-13-14:15:25'"
      ]
     },
     "execution_count": 64,
     "metadata": {},
     "output_type": "execute_result"
    },
    {
     "data": {
      "text/plain": [
       "('relation_classify_CLS', 0.8157894736842104)"
      ]
     },
     "execution_count": 64,
     "metadata": {},
     "output_type": "execute_result"
    },
    {
     "data": {
      "text/plain": [
       "'parsing exp:/nfs/pony/chenhao/experiment/clue_wsc/relation_classify_CLS/2021-08-13-14:17:27'"
      ]
     },
     "execution_count": 64,
     "metadata": {},
     "output_type": "execute_result"
    },
    {
     "data": {
      "text/plain": [
       "('relation_classify_CLS', 0.8486842105263158)"
      ]
     },
     "execution_count": 64,
     "metadata": {},
     "output_type": "execute_result"
    },
    {
     "data": {
      "text/plain": [
       "'parsing exp:/nfs/pony/chenhao/experiment/clue_wsc/relation_classify_CLS/2021-08-13-14:17:58'"
      ]
     },
     "execution_count": 64,
     "metadata": {},
     "output_type": "execute_result"
    },
    {
     "data": {
      "text/plain": [
       "('relation_classify_CLS', 0.8651315789473685)"
      ]
     },
     "execution_count": 64,
     "metadata": {},
     "output_type": "execute_result"
    },
    {
     "data": {
      "text/plain": [
       "'parsing exp:/nfs/pony/chenhao/experiment/clue_wsc/relation_classify_ENTITY_START'"
      ]
     },
     "execution_count": 64,
     "metadata": {},
     "output_type": "execute_result"
    },
    {
     "data": {
      "text/plain": [
       "'parsing exp:/nfs/pony/chenhao/experiment/clue_wsc/relation_classify_ENTITY_START/2021-08-13-14:16:48'"
      ]
     },
     "execution_count": 64,
     "metadata": {},
     "output_type": "execute_result"
    },
    {
     "data": {
      "text/plain": [
       "('relation_classify_ENTITY_START', 0.8289473684210527)"
      ]
     },
     "execution_count": 64,
     "metadata": {},
     "output_type": "execute_result"
    },
    {
     "data": {
      "text/plain": [
       "'parsing exp:/nfs/pony/chenhao/experiment/clue_wsc/relation_classify_ENTITY_START/2021-08-13-14:21:20'"
      ]
     },
     "execution_count": 64,
     "metadata": {},
     "output_type": "execute_result"
    },
    {
     "data": {
      "text/plain": [
       "('relation_classify_ENTITY_START', 0.8421052631578947)"
      ]
     },
     "execution_count": 64,
     "metadata": {},
     "output_type": "execute_result"
    },
    {
     "data": {
      "text/plain": [
       "'parsing exp:/nfs/pony/chenhao/experiment/clue_wsc/relation_classify_ENTITY_START/2021-08-13-14:48:26'"
      ]
     },
     "execution_count": 64,
     "metadata": {},
     "output_type": "execute_result"
    },
    {
     "data": {
      "text/plain": [
       "('relation_classify_ENTITY_START', 0.8355263157894737)"
      ]
     },
     "execution_count": 64,
     "metadata": {},
     "output_type": "execute_result"
    },
    {
     "data": {
      "text/plain": [
       "'parsing exp:/nfs/pony/chenhao/experiment/clue_wsc/relation_classify_ENTITY_START_END'"
      ]
     },
     "execution_count": 64,
     "metadata": {},
     "output_type": "execute_result"
    },
    {
     "data": {
      "text/plain": [
       "'parsing exp:/nfs/pony/chenhao/experiment/clue_wsc/relation_classify_ENTITY_START_END/2021-08-13-14:23:41'"
      ]
     },
     "execution_count": 64,
     "metadata": {},
     "output_type": "execute_result"
    },
    {
     "data": {
      "text/plain": [
       "('relation_classify_ENTITY_START_END', 0.875)"
      ]
     },
     "execution_count": 64,
     "metadata": {},
     "output_type": "execute_result"
    },
    {
     "data": {
      "text/plain": [
       "'parsing exp:/nfs/pony/chenhao/experiment/clue_wsc/relation_classify_ENTITY_START_END/2021-08-13-14:23:51'"
      ]
     },
     "execution_count": 64,
     "metadata": {},
     "output_type": "execute_result"
    },
    {
     "data": {
      "text/plain": [
       "('relation_classify_ENTITY_START_END', 0.8322368421052633)"
      ]
     },
     "execution_count": 64,
     "metadata": {},
     "output_type": "execute_result"
    },
    {
     "data": {
      "text/plain": [
       "'parsing exp:/nfs/pony/chenhao/experiment/clue_wsc/relation_classify_ENTITY_START_END/2021-08-13-14:24:27'"
      ]
     },
     "execution_count": 64,
     "metadata": {},
     "output_type": "execute_result"
    },
    {
     "data": {
      "text/plain": [
       "('relation_classify_ENTITY_START_END', 0.8486842105263158)"
      ]
     },
     "execution_count": 64,
     "metadata": {},
     "output_type": "execute_result"
    },
    {
     "data": {
      "text/plain": [
       "'parsing exp:/nfs/pony/chenhao/experiment/clue_wsc/relation_classify_drop1_nordrop'"
      ]
     },
     "execution_count": 64,
     "metadata": {},
     "output_type": "execute_result"
    },
    {
     "data": {
      "text/plain": [
       "'parsing exp:/nfs/pony/chenhao/experiment/clue_wsc/relation_classify_drop1_nordrop/2021-08-13-14:56:58'"
      ]
     },
     "execution_count": 64,
     "metadata": {},
     "output_type": "execute_result"
    },
    {
     "data": {
      "text/plain": [
       "('relation_classify_drop1_nordrop', 0.8486842105263158)"
      ]
     },
     "execution_count": 64,
     "metadata": {},
     "output_type": "execute_result"
    },
    {
     "data": {
      "text/plain": [
       "'parsing exp:/nfs/pony/chenhao/experiment/clue_wsc/relation_classify_drop1_nordrop/2021-08-13-14:57:01'"
      ]
     },
     "execution_count": 64,
     "metadata": {},
     "output_type": "execute_result"
    },
    {
     "data": {
      "text/plain": [
       "('relation_classify_drop1_nordrop', 0.8552631578947367)"
      ]
     },
     "execution_count": 64,
     "metadata": {},
     "output_type": "execute_result"
    },
    {
     "data": {
      "text/plain": [
       "'parsing exp:/nfs/pony/chenhao/experiment/clue_wsc/relation_classify_drop1_nordrop/2021-08-13-14:59:12'"
      ]
     },
     "execution_count": 64,
     "metadata": {},
     "output_type": "execute_result"
    },
    {
     "data": {
      "text/plain": [
       "('relation_classify_drop1_nordrop', 0.8585526315789475)"
      ]
     },
     "execution_count": 64,
     "metadata": {},
     "output_type": "execute_result"
    },
    {
     "data": {
      "text/plain": [
       "'parsing exp:/nfs/pony/chenhao/experiment/clue_wsc/relation_classify_drop1_nordrop/2021-08-13-16:40:55'"
      ]
     },
     "execution_count": 64,
     "metadata": {},
     "output_type": "execute_result"
    },
    {
     "data": {
      "text/plain": [
       "('relation_classify_drop1_nordrop', 0.8453947368421053)"
      ]
     },
     "execution_count": 64,
     "metadata": {},
     "output_type": "execute_result"
    },
    {
     "data": {
      "text/plain": [
       "'parsing exp:/nfs/pony/chenhao/experiment/clue_wsc/relation_classify_drop1_nordrop/2021-08-13-16:40:59'"
      ]
     },
     "execution_count": 64,
     "metadata": {},
     "output_type": "execute_result"
    },
    {
     "data": {
      "text/plain": [
       "('relation_classify_drop1_nordrop', 0.8585526315789475)"
      ]
     },
     "execution_count": 64,
     "metadata": {},
     "output_type": "execute_result"
    },
    {
     "data": {
      "text/plain": [
       "'parsing exp:/nfs/pony/chenhao/experiment/clue_wsc/relation_classify_drop1_nordrop/2021-08-13-16:41:02'"
      ]
     },
     "execution_count": 64,
     "metadata": {},
     "output_type": "execute_result"
    },
    {
     "data": {
      "text/plain": [
       "('relation_classify_drop1_nordrop', 0.8355263157894737)"
      ]
     },
     "execution_count": 64,
     "metadata": {},
     "output_type": "execute_result"
    },
    {
     "data": {
      "text/plain": [
       "'parsing exp:/nfs/pony/chenhao/experiment/clue_wsc/relation_classify_drop1_rdrop4'"
      ]
     },
     "execution_count": 64,
     "metadata": {},
     "output_type": "execute_result"
    },
    {
     "data": {
      "text/plain": [
       "'parsing exp:/nfs/pony/chenhao/experiment/clue_wsc/relation_classify_drop1_rdrop4/2021-08-13-14:59:12'"
      ]
     },
     "execution_count": 64,
     "metadata": {},
     "output_type": "execute_result"
    },
    {
     "data": {
      "text/plain": [
       "('relation_classify_drop1_rdrop4', 0.8157894736842104)"
      ]
     },
     "execution_count": 64,
     "metadata": {},
     "output_type": "execute_result"
    },
    {
     "data": {
      "text/plain": [
       "'parsing exp:/nfs/pony/chenhao/experiment/clue_wsc/relation_classify_drop1_rdrop4/2021-08-13-16:40:52'"
      ]
     },
     "execution_count": 64,
     "metadata": {},
     "output_type": "execute_result"
    },
    {
     "data": {
      "text/plain": [
       "'parsing exp:/nfs/pony/chenhao/experiment/clue_wsc/relation_classify_drop1_rdrop4/2021-08-13-16:43:00'"
      ]
     },
     "execution_count": 64,
     "metadata": {},
     "output_type": "execute_result"
    },
    {
     "data": {
      "text/plain": [
       "('relation_classify_drop1_rdrop4', 0.8157894736842104)"
      ]
     },
     "execution_count": 64,
     "metadata": {},
     "output_type": "execute_result"
    },
    {
     "data": {
      "text/plain": [
       "'parsing exp:/nfs/pony/chenhao/experiment/clue_wsc/relation_classify_drop1_rdrop4/2021-08-13-16:43:02'"
      ]
     },
     "execution_count": 64,
     "metadata": {},
     "output_type": "execute_result"
    },
    {
     "data": {
      "text/plain": [
       "('relation_classify_drop1_rdrop4', 0.868421052631579)"
      ]
     },
     "execution_count": 64,
     "metadata": {},
     "output_type": "execute_result"
    },
    {
     "data": {
      "text/plain": [
       "'parsing exp:/nfs/pony/chenhao/experiment/clue_wsc/relation_classify_drop1_rdrop4/2021-08-13-16:57:08'"
      ]
     },
     "execution_count": 64,
     "metadata": {},
     "output_type": "execute_result"
    },
    {
     "data": {
      "text/plain": [
       "('relation_classify_drop1_rdrop4', 0.8618421052631579)"
      ]
     },
     "execution_count": 64,
     "metadata": {},
     "output_type": "execute_result"
    },
    {
     "data": {
      "text/plain": [
       "'parsing exp:/nfs/pony/chenhao/experiment/clue_wsc/relation_classify_drop1_rdrop2'"
      ]
     },
     "execution_count": 64,
     "metadata": {},
     "output_type": "execute_result"
    },
    {
     "data": {
      "text/plain": [
       "'parsing exp:/nfs/pony/chenhao/experiment/clue_wsc/relation_classify_drop1_rdrop2/2021-08-13-15:03:08'"
      ]
     },
     "execution_count": 64,
     "metadata": {},
     "output_type": "execute_result"
    },
    {
     "data": {
      "text/plain": [
       "'parsing exp:/nfs/pony/chenhao/experiment/clue_wsc/relation_classify_drop1_rdrop2/2021-08-13-15:03:13'"
      ]
     },
     "execution_count": 64,
     "metadata": {},
     "output_type": "execute_result"
    },
    {
     "data": {
      "text/plain": [
       "'parsing exp:/nfs/pony/chenhao/experiment/clue_wsc/relation_classify_drop1_rdrop2/2021-08-13-15:06:17'"
      ]
     },
     "execution_count": 64,
     "metadata": {},
     "output_type": "execute_result"
    },
    {
     "data": {
      "text/plain": [
       "('relation_classify_drop1_rdrop2', 0.8519736842105264)"
      ]
     },
     "execution_count": 64,
     "metadata": {},
     "output_type": "execute_result"
    },
    {
     "data": {
      "text/plain": [
       "'parsing exp:/nfs/pony/chenhao/experiment/clue_wsc/relation_classify_drop1_rdrop2/2021-08-13-16:43:55'"
      ]
     },
     "execution_count": 64,
     "metadata": {},
     "output_type": "execute_result"
    },
    {
     "data": {
      "text/plain": [
       "'parsing exp:/nfs/pony/chenhao/experiment/clue_wsc/relation_classify_drop1_rdrop2/2021-08-13-16:47:06'"
      ]
     },
     "execution_count": 64,
     "metadata": {},
     "output_type": "execute_result"
    },
    {
     "data": {
      "text/plain": [
       "'parsing exp:/nfs/pony/chenhao/experiment/clue_wsc/relation_classify_drop1_rdrop2/2021-08-13-16:57:05'"
      ]
     },
     "execution_count": 64,
     "metadata": {},
     "output_type": "execute_result"
    },
    {
     "data": {
      "text/plain": [
       "('relation_classify_drop1_rdrop2', 0.8486842105263158)"
      ]
     },
     "execution_count": 64,
     "metadata": {},
     "output_type": "execute_result"
    },
    {
     "data": {
      "text/plain": [
       "'parsing exp:/nfs/pony/chenhao/experiment/clue_wsc/relation_classify_drop1_rdrop2/2021-08-13-16:57:07'"
      ]
     },
     "execution_count": 64,
     "metadata": {},
     "output_type": "execute_result"
    },
    {
     "data": {
      "text/plain": [
       "('relation_classify_drop1_rdrop2', 0.8092105263157895)"
      ]
     },
     "execution_count": 64,
     "metadata": {},
     "output_type": "execute_result"
    },
    {
     "data": {
      "text/plain": [
       "'parsing exp:/nfs/pony/chenhao/experiment/clue_wsc/relation_classify_drop1_rdrop2/2021-08-13-16:57:11'"
      ]
     },
     "execution_count": 64,
     "metadata": {},
     "output_type": "execute_result"
    },
    {
     "data": {
      "text/plain": [
       "('relation_classify_drop1_rdrop2', 0.8388157894736842)"
      ]
     },
     "execution_count": 64,
     "metadata": {},
     "output_type": "execute_result"
    },
    {
     "data": {
      "text/plain": [
       "'parsing exp:/nfs/pony/chenhao/experiment/clue_wsc/relation_classify_drop3_nordrop'"
      ]
     },
     "execution_count": 64,
     "metadata": {},
     "output_type": "execute_result"
    },
    {
     "data": {
      "text/plain": [
       "'parsing exp:/nfs/pony/chenhao/experiment/clue_wsc/relation_classify_drop3_nordrop/2021-08-13-15:06:15'"
      ]
     },
     "execution_count": 64,
     "metadata": {},
     "output_type": "execute_result"
    },
    {
     "data": {
      "text/plain": [
       "('relation_classify_drop3_nordrop', 0.8289473684210527)"
      ]
     },
     "execution_count": 64,
     "metadata": {},
     "output_type": "execute_result"
    },
    {
     "data": {
      "text/plain": [
       "'parsing exp:/nfs/pony/chenhao/experiment/clue_wsc/relation_classify_drop3_nordrop/2021-08-13-15:06:18'"
      ]
     },
     "execution_count": 64,
     "metadata": {},
     "output_type": "execute_result"
    },
    {
     "data": {
      "text/plain": [
       "('relation_classify_drop3_nordrop', 0.8552631578947367)"
      ]
     },
     "execution_count": 64,
     "metadata": {},
     "output_type": "execute_result"
    },
    {
     "data": {
      "text/plain": [
       "'parsing exp:/nfs/pony/chenhao/experiment/clue_wsc/relation_classify_drop3_nordrop/2021-08-13-15:07:40'"
      ]
     },
     "execution_count": 64,
     "metadata": {},
     "output_type": "execute_result"
    },
    {
     "data": {
      "text/plain": [
       "('relation_classify_drop3_nordrop', 0.8388157894736842)"
      ]
     },
     "execution_count": 64,
     "metadata": {},
     "output_type": "execute_result"
    },
    {
     "data": {
      "text/plain": [
       "'parsing exp:/nfs/pony/chenhao/experiment/clue_wsc/relation_classify_drop3_nordrop/2021-08-13-16:59:15'"
      ]
     },
     "execution_count": 64,
     "metadata": {},
     "output_type": "execute_result"
    },
    {
     "data": {
      "text/plain": [
       "('relation_classify_drop3_nordrop', 0.8256578947368421)"
      ]
     },
     "execution_count": 64,
     "metadata": {},
     "output_type": "execute_result"
    },
    {
     "data": {
      "text/plain": [
       "'parsing exp:/nfs/pony/chenhao/experiment/clue_wsc/relation_classify_drop3_nordrop/2021-08-13-16:59:16'"
      ]
     },
     "execution_count": 64,
     "metadata": {},
     "output_type": "execute_result"
    },
    {
     "data": {
      "text/plain": [
       "('relation_classify_drop3_nordrop', 0.8421052631578947)"
      ]
     },
     "execution_count": 64,
     "metadata": {},
     "output_type": "execute_result"
    },
    {
     "data": {
      "text/plain": [
       "'parsing exp:/nfs/pony/chenhao/experiment/clue_wsc/relation_classify_drop3_nordrop/2021-08-13-17:06:24'"
      ]
     },
     "execution_count": 64,
     "metadata": {},
     "output_type": "execute_result"
    },
    {
     "data": {
      "text/plain": [
       "('relation_classify_drop3_nordrop', 0.8486842105263158)"
      ]
     },
     "execution_count": 64,
     "metadata": {},
     "output_type": "execute_result"
    },
    {
     "data": {
      "text/plain": [
       "'parsing exp:/nfs/pony/chenhao/experiment/clue_wsc/relation_classify_drop3_rdrop4'"
      ]
     },
     "execution_count": 64,
     "metadata": {},
     "output_type": "execute_result"
    },
    {
     "data": {
      "text/plain": [
       "'parsing exp:/nfs/pony/chenhao/experiment/clue_wsc/relation_classify_drop3_rdrop4/2021-08-13-15:09:26'"
      ]
     },
     "execution_count": 64,
     "metadata": {},
     "output_type": "execute_result"
    },
    {
     "data": {
      "text/plain": [
       "('relation_classify_drop3_rdrop4', 0.8223684210526315)"
      ]
     },
     "execution_count": 64,
     "metadata": {},
     "output_type": "execute_result"
    },
    {
     "data": {
      "text/plain": [
       "'parsing exp:/nfs/pony/chenhao/experiment/clue_wsc/relation_classify_drop3_rdrop4/2021-08-13-15:09:27'"
      ]
     },
     "execution_count": 64,
     "metadata": {},
     "output_type": "execute_result"
    },
    {
     "data": {
      "text/plain": [
       "('relation_classify_drop3_rdrop4', 0.819078947368421)"
      ]
     },
     "execution_count": 64,
     "metadata": {},
     "output_type": "execute_result"
    },
    {
     "data": {
      "text/plain": [
       "'parsing exp:/nfs/pony/chenhao/experiment/clue_wsc/relation_classify_drop3_rdrop4/2021-08-13-15:12:30'"
      ]
     },
     "execution_count": 64,
     "metadata": {},
     "output_type": "execute_result"
    },
    {
     "data": {
      "text/plain": [
       "'parsing exp:/nfs/pony/chenhao/experiment/clue_wsc/relation_classify_drop3_rdrop4/2021-08-13-16:47:06'"
      ]
     },
     "execution_count": 64,
     "metadata": {},
     "output_type": "execute_result"
    },
    {
     "data": {
      "text/plain": [
       "'parsing exp:/nfs/pony/chenhao/experiment/clue_wsc/relation_classify_drop3_rdrop4/2021-08-13-17:05:20'"
      ]
     },
     "execution_count": 64,
     "metadata": {},
     "output_type": "execute_result"
    },
    {
     "data": {
      "text/plain": [
       "('relation_classify_drop3_rdrop4', 0.8157894736842104)"
      ]
     },
     "execution_count": 64,
     "metadata": {},
     "output_type": "execute_result"
    },
    {
     "data": {
      "text/plain": [
       "'parsing exp:/nfs/pony/chenhao/experiment/clue_wsc/relation_classify_drop3_rdrop4/2021-08-13-17:05:24'"
      ]
     },
     "execution_count": 64,
     "metadata": {},
     "output_type": "execute_result"
    },
    {
     "data": {
      "text/plain": [
       "('relation_classify_drop3_rdrop4', 0.8256578947368421)"
      ]
     },
     "execution_count": 64,
     "metadata": {},
     "output_type": "execute_result"
    },
    {
     "data": {
      "text/plain": [
       "'parsing exp:/nfs/pony/chenhao/experiment/clue_wsc/relation_classify_drop3_rdrop2'"
      ]
     },
     "execution_count": 64,
     "metadata": {},
     "output_type": "execute_result"
    },
    {
     "data": {
      "text/plain": [
       "'parsing exp:/nfs/pony/chenhao/experiment/clue_wsc/relation_classify_drop3_rdrop2/2021-08-13-15:12:22'"
      ]
     },
     "execution_count": 64,
     "metadata": {},
     "output_type": "execute_result"
    },
    {
     "data": {
      "text/plain": [
       "'parsing exp:/nfs/pony/chenhao/experiment/clue_wsc/relation_classify_drop3_rdrop2/2021-08-13-15:13:33'"
      ]
     },
     "execution_count": 64,
     "metadata": {},
     "output_type": "execute_result"
    },
    {
     "data": {
      "text/plain": [
       "'parsing exp:/nfs/pony/chenhao/experiment/clue_wsc/relation_classify_drop3_rdrop2/2021-08-13-15:15:38'"
      ]
     },
     "execution_count": 64,
     "metadata": {},
     "output_type": "execute_result"
    },
    {
     "data": {
      "text/plain": [
       "('relation_classify_drop3_rdrop2', 0.8256578947368421)"
      ]
     },
     "execution_count": 64,
     "metadata": {},
     "output_type": "execute_result"
    },
    {
     "data": {
      "text/plain": [
       "'parsing exp:/nfs/pony/chenhao/experiment/clue_wsc/relation_classify_drop3_rdrop2/2021-08-13-16:47:00'"
      ]
     },
     "execution_count": 64,
     "metadata": {},
     "output_type": "execute_result"
    },
    {
     "data": {
      "text/plain": [
       "'parsing exp:/nfs/pony/chenhao/experiment/clue_wsc/relation_classify_drop3_rdrop2/2021-08-13-16:47:09'"
      ]
     },
     "execution_count": 64,
     "metadata": {},
     "output_type": "execute_result"
    },
    {
     "data": {
      "text/plain": [
       "'parsing exp:/nfs/pony/chenhao/experiment/clue_wsc/relation_classify_drop3_rdrop2/2021-08-13-17:06:14'"
      ]
     },
     "execution_count": 64,
     "metadata": {},
     "output_type": "execute_result"
    },
    {
     "data": {
      "text/plain": [
       "('relation_classify_drop3_rdrop2', 0.8388157894736842)"
      ]
     },
     "execution_count": 64,
     "metadata": {},
     "output_type": "execute_result"
    },
    {
     "data": {
      "text/plain": [
       "'parsing exp:/nfs/pony/chenhao/experiment/clue_wsc/relation_classify_drop3_rdrop2/2021-08-13-17:07:26'"
      ]
     },
     "execution_count": 64,
     "metadata": {},
     "output_type": "execute_result"
    },
    {
     "data": {
      "text/plain": [
       "('relation_classify_drop3_rdrop2', 0.8519736842105264)"
      ]
     },
     "execution_count": 64,
     "metadata": {},
     "output_type": "execute_result"
    },
    {
     "data": {
      "text/plain": [
       "'parsing exp:/nfs/pony/chenhao/experiment/clue_wsc/relation_classify_drop3_rdrop2/2021-08-13-17:11:17'"
      ]
     },
     "execution_count": 64,
     "metadata": {},
     "output_type": "execute_result"
    },
    {
     "data": {
      "text/plain": [
       "('relation_classify_drop3_rdrop2', 0.805921052631579)"
      ]
     },
     "execution_count": 64,
     "metadata": {},
     "output_type": "execute_result"
    },
    {
     "data": {
      "text/plain": [
       "'parsing exp:/nfs/pony/chenhao/experiment/clue_wsc/relation_classify_drop2_nordrop'"
      ]
     },
     "execution_count": 64,
     "metadata": {},
     "output_type": "execute_result"
    },
    {
     "data": {
      "text/plain": [
       "'parsing exp:/nfs/pony/chenhao/experiment/clue_wsc/relation_classify_drop2_nordrop/2021-08-13-15:14:26'"
      ]
     },
     "execution_count": 64,
     "metadata": {},
     "output_type": "execute_result"
    },
    {
     "data": {
      "text/plain": [
       "('relation_classify_drop2_nordrop', 0.8421052631578947)"
      ]
     },
     "execution_count": 64,
     "metadata": {},
     "output_type": "execute_result"
    },
    {
     "data": {
      "text/plain": [
       "'parsing exp:/nfs/pony/chenhao/experiment/clue_wsc/relation_classify_drop2_nordrop/2021-08-13-15:14:32'"
      ]
     },
     "execution_count": 64,
     "metadata": {},
     "output_type": "execute_result"
    },
    {
     "data": {
      "text/plain": [
       "('relation_classify_drop2_nordrop', 0.8388157894736842)"
      ]
     },
     "execution_count": 64,
     "metadata": {},
     "output_type": "execute_result"
    },
    {
     "data": {
      "text/plain": [
       "'parsing exp:/nfs/pony/chenhao/experiment/clue_wsc/relation_classify_drop2_nordrop/2021-08-13-15:16:32'"
      ]
     },
     "execution_count": 64,
     "metadata": {},
     "output_type": "execute_result"
    },
    {
     "data": {
      "text/plain": [
       "('relation_classify_drop2_nordrop', 0.8421052631578947)"
      ]
     },
     "execution_count": 64,
     "metadata": {},
     "output_type": "execute_result"
    },
    {
     "data": {
      "text/plain": [
       "'parsing exp:/nfs/pony/chenhao/experiment/clue_wsc/relation_classify_drop2_nordrop/2021-08-13-17:13:32'"
      ]
     },
     "execution_count": 64,
     "metadata": {},
     "output_type": "execute_result"
    },
    {
     "data": {
      "text/plain": [
       "('relation_classify_drop2_nordrop', 0.8322368421052633)"
      ]
     },
     "execution_count": 64,
     "metadata": {},
     "output_type": "execute_result"
    },
    {
     "data": {
      "text/plain": [
       "'parsing exp:/nfs/pony/chenhao/experiment/clue_wsc/relation_classify_drop2_nordrop/2021-08-13-17:13:33'"
      ]
     },
     "execution_count": 64,
     "metadata": {},
     "output_type": "execute_result"
    },
    {
     "data": {
      "text/plain": [
       "('relation_classify_drop2_nordrop', 0.8585526315789475)"
      ]
     },
     "execution_count": 64,
     "metadata": {},
     "output_type": "execute_result"
    },
    {
     "data": {
      "text/plain": [
       "'parsing exp:/nfs/pony/chenhao/experiment/clue_wsc/relation_classify_drop2_nordrop/2021-08-13-17:13:34'"
      ]
     },
     "execution_count": 64,
     "metadata": {},
     "output_type": "execute_result"
    },
    {
     "data": {
      "text/plain": [
       "('relation_classify_drop2_nordrop', 0.8486842105263158)"
      ]
     },
     "execution_count": 64,
     "metadata": {},
     "output_type": "execute_result"
    },
    {
     "data": {
      "text/plain": [
       "'parsing exp:/nfs/pony/chenhao/experiment/clue_wsc/relation_classify_drop2_rdrop4'"
      ]
     },
     "execution_count": 64,
     "metadata": {},
     "output_type": "execute_result"
    },
    {
     "data": {
      "text/plain": [
       "'parsing exp:/nfs/pony/chenhao/experiment/clue_wsc/relation_classify_drop2_rdrop4/2021-08-13-15:19:39'"
      ]
     },
     "execution_count": 64,
     "metadata": {},
     "output_type": "execute_result"
    },
    {
     "data": {
      "text/plain": [
       "'parsing exp:/nfs/pony/chenhao/experiment/clue_wsc/relation_classify_drop2_rdrop4/2021-08-13-15:19:44'"
      ]
     },
     "execution_count": 64,
     "metadata": {},
     "output_type": "execute_result"
    },
    {
     "data": {
      "text/plain": [
       "('relation_classify_drop2_rdrop4', 0.8289473684210527)"
      ]
     },
     "execution_count": 64,
     "metadata": {},
     "output_type": "execute_result"
    },
    {
     "data": {
      "text/plain": [
       "'parsing exp:/nfs/pony/chenhao/experiment/clue_wsc/relation_classify_drop2_rdrop4/2021-08-13-15:20:43'"
      ]
     },
     "execution_count": 64,
     "metadata": {},
     "output_type": "execute_result"
    },
    {
     "data": {
      "text/plain": [
       "('relation_classify_drop2_rdrop4', 0.8388157894736842)"
      ]
     },
     "execution_count": 64,
     "metadata": {},
     "output_type": "execute_result"
    },
    {
     "data": {
      "text/plain": [
       "'parsing exp:/nfs/pony/chenhao/experiment/clue_wsc/relation_classify_drop2_rdrop4/2021-08-13-16:49:07'"
      ]
     },
     "execution_count": 64,
     "metadata": {},
     "output_type": "execute_result"
    },
    {
     "data": {
      "text/plain": [
       "'parsing exp:/nfs/pony/chenhao/experiment/clue_wsc/relation_classify_drop2_rdrop4/2021-08-13-17:15:22'"
      ]
     },
     "execution_count": 64,
     "metadata": {},
     "output_type": "execute_result"
    },
    {
     "data": {
      "text/plain": [
       "('relation_classify_drop2_rdrop4', 0.8355263157894737)"
      ]
     },
     "execution_count": 64,
     "metadata": {},
     "output_type": "execute_result"
    },
    {
     "data": {
      "text/plain": [
       "'parsing exp:/nfs/pony/chenhao/experiment/clue_wsc/relation_classify_drop2_rdrop4/2021-08-13-17:16:40'"
      ]
     },
     "execution_count": 64,
     "metadata": {},
     "output_type": "execute_result"
    },
    {
     "data": {
      "text/plain": [
       "('relation_classify_drop2_rdrop4', 0.8322368421052633)"
      ]
     },
     "execution_count": 64,
     "metadata": {},
     "output_type": "execute_result"
    },
    {
     "data": {
      "text/plain": [
       "'parsing exp:/nfs/pony/chenhao/experiment/clue_wsc/relation_classify_drop2_rdrop2'"
      ]
     },
     "execution_count": 64,
     "metadata": {},
     "output_type": "execute_result"
    },
    {
     "data": {
      "text/plain": [
       "'parsing exp:/nfs/pony/chenhao/experiment/clue_wsc/relation_classify_drop2_rdrop2/2021-08-13-15:21:42'"
      ]
     },
     "execution_count": 64,
     "metadata": {},
     "output_type": "execute_result"
    },
    {
     "data": {
      "text/plain": [
       "'parsing exp:/nfs/pony/chenhao/experiment/clue_wsc/relation_classify_drop2_rdrop2/2021-08-13-15:22:40'"
      ]
     },
     "execution_count": 64,
     "metadata": {},
     "output_type": "execute_result"
    },
    {
     "data": {
      "text/plain": [
       "'parsing exp:/nfs/pony/chenhao/experiment/clue_wsc/relation_classify_drop2_rdrop2/2021-08-13-15:22:47'"
      ]
     },
     "execution_count": 64,
     "metadata": {},
     "output_type": "execute_result"
    },
    {
     "data": {
      "text/plain": [
       "'parsing exp:/nfs/pony/chenhao/experiment/clue_wsc/relation_classify_drop2_rdrop2/2021-08-13-16:49:04'"
      ]
     },
     "execution_count": 64,
     "metadata": {},
     "output_type": "execute_result"
    },
    {
     "data": {
      "text/plain": [
       "'parsing exp:/nfs/pony/chenhao/experiment/clue_wsc/relation_classify_drop2_rdrop2/2021-08-13-16:49:08'"
      ]
     },
     "execution_count": 64,
     "metadata": {},
     "output_type": "execute_result"
    },
    {
     "data": {
      "text/plain": [
       "'parsing exp:/nfs/pony/chenhao/experiment/clue_wsc/relation_classify_drop2_rdrop2/2021-08-13-16:50:32'"
      ]
     },
     "execution_count": 64,
     "metadata": {},
     "output_type": "execute_result"
    },
    {
     "data": {
      "text/plain": [
       "'parsing exp:/nfs/pony/chenhao/experiment/clue_wsc/relation_classify_drop2_rdrop2/2021-08-13-17:18:40'"
      ]
     },
     "execution_count": 64,
     "metadata": {},
     "output_type": "execute_result"
    },
    {
     "data": {
      "text/plain": [
       "('relation_classify_drop2_rdrop2', 0.8552631578947367)"
      ]
     },
     "execution_count": 64,
     "metadata": {},
     "output_type": "execute_result"
    },
    {
     "data": {
      "text/plain": [
       "'parsing exp:/nfs/pony/chenhao/experiment/clue_wsc/relation_classify_drop2_rdrop2/2021-08-13-17:19:46'"
      ]
     },
     "execution_count": 64,
     "metadata": {},
     "output_type": "execute_result"
    },
    {
     "data": {
      "text/plain": [
       "('relation_classify_drop2_rdrop2', 0.8421052631578947)"
      ]
     },
     "execution_count": 64,
     "metadata": {},
     "output_type": "execute_result"
    },
    {
     "data": {
      "text/plain": [
       "'parsing exp:/nfs/pony/chenhao/experiment/clue_wsc/relation_classify_drop2_rdrop2/2021-08-13-17:20:43'"
      ]
     },
     "execution_count": 64,
     "metadata": {},
     "output_type": "execute_result"
    },
    {
     "data": {
      "text/plain": [
       "('relation_classify_drop2_rdrop2', 0.8453947368421053)"
      ]
     },
     "execution_count": 64,
     "metadata": {},
     "output_type": "execute_result"
    },
    {
     "data": {
      "text/plain": [
       "'parsing exp:/nfs/pony/chenhao/experiment/clue_wsc/relation_classify_roberta_wwm'"
      ]
     },
     "execution_count": 64,
     "metadata": {},
     "output_type": "execute_result"
    },
    {
     "data": {
      "text/plain": [
       "'parsing exp:/nfs/pony/chenhao/experiment/clue_wsc/relation_classify_roberta_wwm/2021-08-13-18:24:28'"
      ]
     },
     "execution_count": 64,
     "metadata": {},
     "output_type": "execute_result"
    },
    {
     "data": {
      "text/plain": [
       "('relation_classify_roberta_wwm', 0.8585526315789475)"
      ]
     },
     "execution_count": 64,
     "metadata": {},
     "output_type": "execute_result"
    },
    {
     "data": {
      "text/plain": [
       "'parsing exp:/nfs/pony/chenhao/experiment/clue_wsc/relation_classify_roberta_wwm/2021-08-13-18:24:45'"
      ]
     },
     "execution_count": 64,
     "metadata": {},
     "output_type": "execute_result"
    },
    {
     "data": {
      "text/plain": [
       "('relation_classify_roberta_wwm', 0.8388157894736842)"
      ]
     },
     "execution_count": 64,
     "metadata": {},
     "output_type": "execute_result"
    },
    {
     "data": {
      "text/plain": [
       "'parsing exp:/nfs/pony/chenhao/experiment/clue_wsc/relation_classify_roberta_wwm/2021-08-13-18:24:49'"
      ]
     },
     "execution_count": 64,
     "metadata": {},
     "output_type": "execute_result"
    },
    {
     "data": {
      "text/plain": [
       "('relation_classify_roberta_wwm', 0.8519736842105264)"
      ]
     },
     "execution_count": 64,
     "metadata": {},
     "output_type": "execute_result"
    },
    {
     "data": {
      "text/plain": [
       "'parsing exp:/nfs/pony/chenhao/experiment/clue_wsc/relation_classify_roberta'"
      ]
     },
     "execution_count": 64,
     "metadata": {},
     "output_type": "execute_result"
    },
    {
     "data": {
      "text/plain": [
       "'parsing exp:/nfs/pony/chenhao/experiment/clue_wsc/relation_classify_roberta/2021-08-13-18:24:41'"
      ]
     },
     "execution_count": 64,
     "metadata": {},
     "output_type": "execute_result"
    },
    {
     "data": {
      "text/plain": [
       "('relation_classify_roberta', 0.8519736842105264)"
      ]
     },
     "execution_count": 64,
     "metadata": {},
     "output_type": "execute_result"
    },
    {
     "data": {
      "text/plain": [
       "'parsing exp:/nfs/pony/chenhao/experiment/clue_wsc/relation_classify_roberta/2021-08-13-18:29:54'"
      ]
     },
     "execution_count": 64,
     "metadata": {},
     "output_type": "execute_result"
    },
    {
     "data": {
      "text/plain": [
       "('relation_classify_roberta', 0.8552631578947367)"
      ]
     },
     "execution_count": 64,
     "metadata": {},
     "output_type": "execute_result"
    },
    {
     "data": {
      "text/plain": [
       "'parsing exp:/nfs/pony/chenhao/experiment/clue_wsc/relation_classify_roberta/2021-08-13-18:30:50'"
      ]
     },
     "execution_count": 64,
     "metadata": {},
     "output_type": "execute_result"
    },
    {
     "data": {
      "text/plain": [
       "('relation_classify_roberta', 0.819078947368421)"
      ]
     },
     "execution_count": 64,
     "metadata": {},
     "output_type": "execute_result"
    },
    {
     "data": {
      "text/plain": [
       "'parsing exp:/nfs/pony/chenhao/experiment/clue_wsc/relation_classify_macbert'"
      ]
     },
     "execution_count": 64,
     "metadata": {},
     "output_type": "execute_result"
    },
    {
     "data": {
      "text/plain": [
       "'parsing exp:/nfs/pony/chenhao/experiment/clue_wsc/relation_classify_macbert/2021-08-13-18:30:35'"
      ]
     },
     "execution_count": 64,
     "metadata": {},
     "output_type": "execute_result"
    },
    {
     "data": {
      "text/plain": [
       "('relation_classify_macbert', 0.7894736842105263)"
      ]
     },
     "execution_count": 64,
     "metadata": {},
     "output_type": "execute_result"
    },
    {
     "data": {
      "text/plain": [
       "'parsing exp:/nfs/pony/chenhao/experiment/clue_wsc/relation_classify_macbert/2021-08-13-18:31:40'"
      ]
     },
     "execution_count": 64,
     "metadata": {},
     "output_type": "execute_result"
    },
    {
     "data": {
      "text/plain": [
       "('relation_classify_macbert', 0.7927631578947368)"
      ]
     },
     "execution_count": 64,
     "metadata": {},
     "output_type": "execute_result"
    },
    {
     "data": {
      "text/plain": [
       "'parsing exp:/nfs/pony/chenhao/experiment/clue_wsc/relation_classify_macbert/2021-08-13-18:36:04'"
      ]
     },
     "execution_count": 64,
     "metadata": {},
     "output_type": "execute_result"
    },
    {
     "data": {
      "text/plain": [
       "('relation_classify_macbert', 0.8355263157894737)"
      ]
     },
     "execution_count": 64,
     "metadata": {},
     "output_type": "execute_result"
    },
    {
     "data": {
      "text/plain": [
       "'parsing exp:/nfs/pony/chenhao/experiment/clue_wsc/relation_classify_uerbert'"
      ]
     },
     "execution_count": 64,
     "metadata": {},
     "output_type": "execute_result"
    },
    {
     "data": {
      "text/plain": [
       "'parsing exp:/nfs/pony/chenhao/experiment/clue_wsc/relation_classify_uerbert/2021-08-13-18:36:49'"
      ]
     },
     "execution_count": 64,
     "metadata": {},
     "output_type": "execute_result"
    },
    {
     "data": {
      "text/plain": [
       "('relation_classify_uerbert', 0.805921052631579)"
      ]
     },
     "execution_count": 64,
     "metadata": {},
     "output_type": "execute_result"
    },
    {
     "data": {
      "text/plain": [
       "'parsing exp:/nfs/pony/chenhao/experiment/clue_wsc/relation_classify_uerbert/2021-08-13-18:36:59'"
      ]
     },
     "execution_count": 64,
     "metadata": {},
     "output_type": "execute_result"
    },
    {
     "data": {
      "text/plain": [
       "('relation_classify_uerbert', 0.7828947368421053)"
      ]
     },
     "execution_count": 64,
     "metadata": {},
     "output_type": "execute_result"
    },
    {
     "data": {
      "text/plain": [
       "'parsing exp:/nfs/pony/chenhao/experiment/clue_wsc/relation_classify_uerbert/2021-08-13-18:37:46'"
      ]
     },
     "execution_count": 64,
     "metadata": {},
     "output_type": "execute_result"
    },
    {
     "data": {
      "text/plain": [
       "('relation_classify_uerbert', 0.7796052631578947)"
      ]
     },
     "execution_count": 64,
     "metadata": {},
     "output_type": "execute_result"
    },
    {
     "data": {
      "text/plain": [
       "'parsing exp:/nfs/pony/chenhao/experiment/clue_wsc/relation_classify_roberta_wwm_large'"
      ]
     },
     "execution_count": 64,
     "metadata": {},
     "output_type": "execute_result"
    },
    {
     "data": {
      "text/plain": [
       "'parsing exp:/nfs/pony/chenhao/experiment/clue_wsc/relation_classify_roberta_wwm_large/2021-08-13-18:42:02'"
      ]
     },
     "execution_count": 64,
     "metadata": {},
     "output_type": "execute_result"
    },
    {
     "data": {
      "text/plain": [
       "('relation_classify_roberta_wwm_large', 0.8388157894736842)"
      ]
     },
     "execution_count": 64,
     "metadata": {},
     "output_type": "execute_result"
    },
    {
     "data": {
      "text/plain": [
       "'parsing exp:/nfs/pony/chenhao/experiment/clue_wsc/relation_classify_roberta_wwm_large/2021-08-13-18:43:07'"
      ]
     },
     "execution_count": 64,
     "metadata": {},
     "output_type": "execute_result"
    },
    {
     "data": {
      "text/plain": [
       "('relation_classify_roberta_wwm_large', 0.8453947368421053)"
      ]
     },
     "execution_count": 64,
     "metadata": {},
     "output_type": "execute_result"
    },
    {
     "data": {
      "text/plain": [
       "'parsing exp:/nfs/pony/chenhao/experiment/clue_wsc/relation_classify_roberta_wwm_large/2021-08-13-18:43:49'"
      ]
     },
     "execution_count": 64,
     "metadata": {},
     "output_type": "execute_result"
    },
    {
     "data": {
      "text/plain": [
       "('relation_classify_roberta_wwm_large', 0.8519736842105264)"
      ]
     },
     "execution_count": 64,
     "metadata": {},
     "output_type": "execute_result"
    },
    {
     "data": {
      "text/plain": [
       "'parsing exp:/nfs/pony/chenhao/experiment/clue_wsc/relation_classify_roberta_large'"
      ]
     },
     "execution_count": 64,
     "metadata": {},
     "output_type": "execute_result"
    },
    {
     "data": {
      "text/plain": [
       "'parsing exp:/nfs/pony/chenhao/experiment/clue_wsc/relation_classify_roberta_large/2021-08-13-18:45:13'"
      ]
     },
     "execution_count": 64,
     "metadata": {},
     "output_type": "execute_result"
    },
    {
     "data": {
      "text/plain": [
       "('relation_classify_roberta_large', 0.8223684210526315)"
      ]
     },
     "execution_count": 64,
     "metadata": {},
     "output_type": "execute_result"
    },
    {
     "data": {
      "text/plain": [
       "'parsing exp:/nfs/pony/chenhao/experiment/clue_wsc/relation_classify_roberta_large/2021-08-13-18:55:12'"
      ]
     },
     "execution_count": 64,
     "metadata": {},
     "output_type": "execute_result"
    },
    {
     "data": {
      "text/plain": [
       "('relation_classify_roberta_large', 0.8256578947368421)"
      ]
     },
     "execution_count": 64,
     "metadata": {},
     "output_type": "execute_result"
    },
    {
     "data": {
      "text/plain": [
       "'parsing exp:/nfs/pony/chenhao/experiment/clue_wsc/relation_classify_roberta_large/2021-08-13-18:55:22'"
      ]
     },
     "execution_count": 64,
     "metadata": {},
     "output_type": "execute_result"
    },
    {
     "data": {
      "text/plain": [
       "('relation_classify_roberta_large', 0.8421052631578947)"
      ]
     },
     "execution_count": 64,
     "metadata": {},
     "output_type": "execute_result"
    },
    {
     "data": {
      "text/plain": [
       "'parsing exp:/nfs/pony/chenhao/experiment/clue_wsc/relation_classify_fold-3'"
      ]
     },
     "execution_count": 64,
     "metadata": {},
     "output_type": "execute_result"
    },
    {
     "data": {
      "text/plain": [
       "'parsing exp:/nfs/pony/chenhao/experiment/clue_wsc/relation_classify_fold-3/2021-08-16-10:38:11'"
      ]
     },
     "execution_count": 64,
     "metadata": {},
     "output_type": "execute_result"
    },
    {
     "data": {
      "text/plain": [
       "('relation_classify_fold-3', 0.912621359223301)"
      ]
     },
     "execution_count": 64,
     "metadata": {},
     "output_type": "execute_result"
    },
    {
     "data": {
      "text/plain": [
       "'parsing exp:/nfs/pony/chenhao/experiment/clue_wsc/relation_classify_fold-1'"
      ]
     },
     "execution_count": 64,
     "metadata": {},
     "output_type": "execute_result"
    },
    {
     "data": {
      "text/plain": [
       "'parsing exp:/nfs/pony/chenhao/experiment/clue_wsc/relation_classify_fold-1/2021-08-16-10:39:09'"
      ]
     },
     "execution_count": 64,
     "metadata": {},
     "output_type": "execute_result"
    },
    {
     "data": {
      "text/plain": [
       "('relation_classify_fold-1', 0.9161290322580645)"
      ]
     },
     "execution_count": 64,
     "metadata": {},
     "output_type": "execute_result"
    },
    {
     "data": {
      "text/plain": [
       "'parsing exp:/nfs/pony/chenhao/experiment/clue_wsc/relation_classify_fold-0'"
      ]
     },
     "execution_count": 64,
     "metadata": {},
     "output_type": "execute_result"
    },
    {
     "data": {
      "text/plain": [
       "'parsing exp:/nfs/pony/chenhao/experiment/clue_wsc/relation_classify_fold-0/2021-08-16-10:39:10'"
      ]
     },
     "execution_count": 64,
     "metadata": {},
     "output_type": "execute_result"
    },
    {
     "data": {
      "text/plain": [
       "('relation_classify_fold-0', 0.8870967741935484)"
      ]
     },
     "execution_count": 64,
     "metadata": {},
     "output_type": "execute_result"
    },
    {
     "data": {
      "text/plain": [
       "'parsing exp:/nfs/pony/chenhao/experiment/clue_wsc/relation_classify_fold-2'"
      ]
     },
     "execution_count": 64,
     "metadata": {},
     "output_type": "execute_result"
    },
    {
     "data": {
      "text/plain": [
       "'parsing exp:/nfs/pony/chenhao/experiment/clue_wsc/relation_classify_fold-2/2021-08-16-10:40:28'"
      ]
     },
     "execution_count": 64,
     "metadata": {},
     "output_type": "execute_result"
    },
    {
     "data": {
      "text/plain": [
       "('relation_classify_fold-2', 0.8870967741935484)"
      ]
     },
     "execution_count": 64,
     "metadata": {},
     "output_type": "execute_result"
    },
    {
     "data": {
      "text/plain": [
       "'parsing exp:/nfs/pony/chenhao/experiment/clue_wsc/relation_classify_large_fold-1'"
      ]
     },
     "execution_count": 64,
     "metadata": {},
     "output_type": "execute_result"
    },
    {
     "data": {
      "text/plain": [
       "'parsing exp:/nfs/pony/chenhao/experiment/clue_wsc/relation_classify_large_fold-1/2021-08-16-10:42:39'"
      ]
     },
     "execution_count": 64,
     "metadata": {},
     "output_type": "execute_result"
    },
    {
     "data": {
      "text/plain": [
       "('relation_classify_large_fold-1', 0.9258064516129032)"
      ]
     },
     "execution_count": 64,
     "metadata": {},
     "output_type": "execute_result"
    },
    {
     "data": {
      "text/plain": [
       "'parsing exp:/nfs/pony/chenhao/experiment/clue_wsc/relation_classify_large_fold-0'"
      ]
     },
     "execution_count": 64,
     "metadata": {},
     "output_type": "execute_result"
    },
    {
     "data": {
      "text/plain": [
       "'parsing exp:/nfs/pony/chenhao/experiment/clue_wsc/relation_classify_large_fold-0/2021-08-16-10:44:38'"
      ]
     },
     "execution_count": 64,
     "metadata": {},
     "output_type": "execute_result"
    },
    {
     "data": {
      "text/plain": [
       "('relation_classify_large_fold-0', 0.8935483870967742)"
      ]
     },
     "execution_count": 64,
     "metadata": {},
     "output_type": "execute_result"
    },
    {
     "data": {
      "text/plain": [
       "'parsing exp:/nfs/pony/chenhao/experiment/clue_wsc/relation_classify_large_fold-2'"
      ]
     },
     "execution_count": 64,
     "metadata": {},
     "output_type": "execute_result"
    },
    {
     "data": {
      "text/plain": [
       "'parsing exp:/nfs/pony/chenhao/experiment/clue_wsc/relation_classify_large_fold-2/2021-08-16-10:54:23'"
      ]
     },
     "execution_count": 64,
     "metadata": {},
     "output_type": "execute_result"
    },
    {
     "data": {
      "text/plain": [
       "('relation_classify_large_fold-2', 0.8483870967741935)"
      ]
     },
     "execution_count": 64,
     "metadata": {},
     "output_type": "execute_result"
    },
    {
     "data": {
      "text/plain": [
       "'parsing exp:/nfs/pony/chenhao/experiment/clue_wsc/relation_classify_fold-4'"
      ]
     },
     "execution_count": 64,
     "metadata": {},
     "output_type": "execute_result"
    },
    {
     "data": {
      "text/plain": [
       "'parsing exp:/nfs/pony/chenhao/experiment/clue_wsc/relation_classify_fold-4/2021-08-16-10:54:36'"
      ]
     },
     "execution_count": 64,
     "metadata": {},
     "output_type": "execute_result"
    },
    {
     "data": {
      "text/plain": [
       "('relation_classify_fold-4', 0.8996763754045307)"
      ]
     },
     "execution_count": 64,
     "metadata": {},
     "output_type": "execute_result"
    },
    {
     "data": {
      "text/plain": [
       "'parsing exp:/nfs/pony/chenhao/experiment/clue_wsc/relation_classify_large_fold-3'"
      ]
     },
     "execution_count": 64,
     "metadata": {},
     "output_type": "execute_result"
    },
    {
     "data": {
      "text/plain": [
       "'parsing exp:/nfs/pony/chenhao/experiment/clue_wsc/relation_classify_large_fold-3/2021-08-16-10:58:40'"
      ]
     },
     "execution_count": 64,
     "metadata": {},
     "output_type": "execute_result"
    },
    {
     "data": {
      "text/plain": [
       "('relation_classify_large_fold-3', 0.9029126213592235)"
      ]
     },
     "execution_count": 64,
     "metadata": {},
     "output_type": "execute_result"
    },
    {
     "data": {
      "text/plain": [
       "'parsing exp:/nfs/pony/chenhao/experiment/clue_wsc/relation_classify_large_fold-4'"
      ]
     },
     "execution_count": 64,
     "metadata": {},
     "output_type": "execute_result"
    },
    {
     "data": {
      "text/plain": [
       "'parsing exp:/nfs/pony/chenhao/experiment/clue_wsc/relation_classify_large_fold-4/2021-08-16-11:08:47'"
      ]
     },
     "execution_count": 64,
     "metadata": {},
     "output_type": "execute_result"
    },
    {
     "data": {
      "text/plain": [
       "('relation_classify_large_fold-4', 0.8964401294498382)"
      ]
     },
     "execution_count": 64,
     "metadata": {},
     "output_type": "execute_result"
    }
   ],
   "source": [
    "experiment_path = \"/nfs/pony/chenhao/experiment/clue_wsc\"\n",
    "exp_pattern = re.compile(r\".*fold.*\")\n",
    "exp_pattern = re.compile(r\".*\")\n",
    "\n",
    "\n",
    "metrci_path = \"$.micro.f1\"\n",
    "metrci_path = parse(metrci_path)\n",
    "threshold = 0.75\n",
    "# pos_label = \"true\"\n",
    "\n",
    "\n",
    "dev_records = dict()\n",
    "test_records = dict()\n",
    "\n",
    "def parse_output(exp, output, records):\n",
    "    prob = [e[\"predict\"][\"prob\"] if e[\"predict\"][\"name\"] == pos_label else 1.-e[\"predict\"][\"prob\"]  for e in output]\n",
    "    records[exp] = prob\n",
    "    if \"target\" not in records and \"label\" in output[0]:\n",
    "        target = [e[\"label\"][\"prob\"] if e[\"label\"][\"name\"] == pos_label else 1.-e[\"label\"][\"prob\"]  for e in output]\n",
    "        records[\"target\"] = target\n",
    "    \n",
    "    \n",
    "    \n",
    "\n",
    "\n",
    "for exp in os.listdir(experiment_path)[:]:    \n",
    "    if re.match(exp_pattern,exp):\n",
    "        exp_path = f\"{experiment_path}/{exp}\"        \n",
    "        tmp = os.listdir(exp_path)\n",
    "        cands = [exp_path]\n",
    "        \n",
    "        for item in tmp:\n",
    "            if item.startswith(\"2021\"):\n",
    "                tmp_path = f\"{exp_path}/{item}\"\n",
    "                cands.append(tmp_path)\n",
    "        for p in cands:\n",
    "            f\"parsing exp:{p}\"   \n",
    "            try:\n",
    "                dev_metric = jload(f\"{p}/eval/dev.json\")\n",
    "    #             dev_metric\n",
    "                dev_metric = [a.value for a in metrci_path.find(dev_metric)][0]\n",
    "    #             dev_metric\n",
    "                if dev_metric >= threshold:\n",
    "                    exp, dev_metric\n",
    "                    dev_output = jload(f\"{p}/output/dev.json\")\n",
    "                    parse_output(exp, dev_output, dev_records)\n",
    "\n",
    "                    test_output = jload(f\"{p}/output/test.json\")\n",
    "                    parse_output(exp, test_output, test_records)\n",
    "\n",
    "            except Exception as e:\n",
    "                \n",
    "#                 e, p\n",
    "                pass\n",
    "\n",
    "# dev_records\n",
    "# test_records\n",
    "        \n",
    "# dev_df = pd.DataFrame.from_dict(dev_records)\n",
    "test_df = pd.DataFrame.from_dict(test_records)\n",
    "\n",
    "\n",
    "        \n"
   ]
  },
  {
   "cell_type": "code",
   "execution_count": 61,
   "metadata": {
    "ExecuteTime": {
     "end_time": "2021-08-16T09:54:45.956626Z",
     "start_time": "2021-08-16T09:54:44.802378Z"
    }
   },
   "outputs": [
    {
     "data": {
      "text/plain": [
       "(FileNotFoundError(2, 'No such file or directory'),\n",
       " '/nfs/pony/chenhao/experiment/clue_ocnli/ocnli_roberta_wwm_nowarm_lr3')"
      ]
     },
     "execution_count": 61,
     "metadata": {},
     "output_type": "execute_result"
    },
    {
     "data": {
      "text/plain": [
       "('ocnli_roberta_wwm_nowarm_lr3', 0.7606779661016949)"
      ]
     },
     "execution_count": 61,
     "metadata": {},
     "output_type": "execute_result"
    },
    {
     "data": {
      "text/plain": [
       "('ocnli_roberta_wwm_nowarm_lr3', 0.7627118644067796)"
      ]
     },
     "execution_count": 61,
     "metadata": {},
     "output_type": "execute_result"
    },
    {
     "data": {
      "text/plain": [
       "(FileNotFoundError(2, 'No such file or directory'),\n",
       " '/nfs/pony/chenhao/experiment/clue_ocnli/ocnli_roberta_wwm_nowarm_lr2')"
      ]
     },
     "execution_count": 61,
     "metadata": {},
     "output_type": "execute_result"
    },
    {
     "data": {
      "text/plain": [
       "('ocnli_roberta_wwm_nowarm_lr2', 0.7606779661016949)"
      ]
     },
     "execution_count": 61,
     "metadata": {},
     "output_type": "execute_result"
    },
    {
     "data": {
      "text/plain": [
       "('ocnli_roberta_wwm_nowarm_lr2', 0.7671186440677967)"
      ]
     },
     "execution_count": 61,
     "metadata": {},
     "output_type": "execute_result"
    },
    {
     "data": {
      "text/plain": [
       "('ocnli_roberta_wwm_nowarm_lr2', 0.7627118644067796)"
      ]
     },
     "execution_count": 61,
     "metadata": {},
     "output_type": "execute_result"
    },
    {
     "data": {
      "text/plain": [
       "(FileNotFoundError(2, 'No such file or directory'),\n",
       " '/nfs/pony/chenhao/experiment/clue_ocnli/tensorboard')"
      ]
     },
     "execution_count": 61,
     "metadata": {},
     "output_type": "execute_result"
    },
    {
     "data": {
      "text/plain": [
       "(FileNotFoundError(2, 'No such file or directory'),\n",
       " '/nfs/pony/chenhao/experiment/clue_ocnli/ocnli_roberta_wwm_warm_lr2')"
      ]
     },
     "execution_count": 61,
     "metadata": {},
     "output_type": "execute_result"
    },
    {
     "data": {
      "text/plain": [
       "('ocnli_roberta_wwm_warm_lr2', 0.763728813559322)"
      ]
     },
     "execution_count": 61,
     "metadata": {},
     "output_type": "execute_result"
    },
    {
     "data": {
      "text/plain": [
       "('ocnli_roberta_wwm_warm_lr2', 0.7603389830508476)"
      ]
     },
     "execution_count": 61,
     "metadata": {},
     "output_type": "execute_result"
    },
    {
     "data": {
      "text/plain": [
       "(FileNotFoundError(2, 'No such file or directory'),\n",
       " '/nfs/pony/chenhao/experiment/clue_ocnli/ocnli_roberta_wwm_warm_lr3')"
      ]
     },
     "execution_count": 61,
     "metadata": {},
     "output_type": "execute_result"
    },
    {
     "data": {
      "text/plain": [
       "('ocnli_roberta_wwm_warm_lr3', 0.7620338983050847)"
      ]
     },
     "execution_count": 61,
     "metadata": {},
     "output_type": "execute_result"
    },
    {
     "data": {
      "text/plain": [
       "('ocnli_roberta_wwm_warm_lr3', 0.76)"
      ]
     },
     "execution_count": 61,
     "metadata": {},
     "output_type": "execute_result"
    },
    {
     "data": {
      "text/plain": [
       "(FileNotFoundError(2, 'No such file or directory'),\n",
       " '/nfs/pony/chenhao/experiment/clue_ocnli/ocnli_roberta_wwm_drop3_nordrop')"
      ]
     },
     "execution_count": 61,
     "metadata": {},
     "output_type": "execute_result"
    },
    {
     "data": {
      "text/plain": [
       "('ocnli_roberta_wwm_drop3_nordrop', 0.7627118644067796)"
      ]
     },
     "execution_count": 61,
     "metadata": {},
     "output_type": "execute_result"
    },
    {
     "data": {
      "text/plain": [
       "(FileNotFoundError(2, 'No such file or directory'),\n",
       " '/nfs/pony/chenhao/experiment/clue_ocnli/ocnli_roberta_wwm_nodrop_nordrop')"
      ]
     },
     "execution_count": 61,
     "metadata": {},
     "output_type": "execute_result"
    },
    {
     "data": {
      "text/plain": [
       "(FileNotFoundError(2, 'No such file or directory'),\n",
       " '/nfs/pony/chenhao/experiment/clue_ocnli/ocnli_roberta_wwm_nodrop_rdrop2')"
      ]
     },
     "execution_count": 61,
     "metadata": {},
     "output_type": "execute_result"
    },
    {
     "data": {
      "text/plain": [
       "('ocnli_roberta_wwm_nodrop_rdrop2', 0.7694915254237288)"
      ]
     },
     "execution_count": 61,
     "metadata": {},
     "output_type": "execute_result"
    },
    {
     "data": {
      "text/plain": [
       "(FileNotFoundError(2, 'No such file or directory'),\n",
       " '/nfs/pony/chenhao/experiment/clue_ocnli/ocnli_roberta_wwm_nodrop_rdrop4')"
      ]
     },
     "execution_count": 61,
     "metadata": {},
     "output_type": "execute_result"
    },
    {
     "data": {
      "text/plain": [
       "('ocnli_roberta_wwm_nodrop_rdrop4', 0.7823728813559322)"
      ]
     },
     "execution_count": 61,
     "metadata": {},
     "output_type": "execute_result"
    },
    {
     "data": {
      "text/plain": [
       "(FileNotFoundError(2, 'No such file or directory'),\n",
       " '/nfs/pony/chenhao/experiment/clue_ocnli/ocnli_roberta_wwm_drop3_rdrop4')"
      ]
     },
     "execution_count": 61,
     "metadata": {},
     "output_type": "execute_result"
    },
    {
     "data": {
      "text/plain": [
       "('ocnli_roberta_wwm_drop3_rdrop4', 0.7749152542372881)"
      ]
     },
     "execution_count": 61,
     "metadata": {},
     "output_type": "execute_result"
    },
    {
     "data": {
      "text/plain": [
       "(FileNotFoundError(2, 'No such file or directory'),\n",
       " '/nfs/pony/chenhao/experiment/clue_ocnli/ocnli_roberta_wwm_drop3_rdrop2')"
      ]
     },
     "execution_count": 61,
     "metadata": {},
     "output_type": "execute_result"
    },
    {
     "data": {
      "text/plain": [
       "('ocnli_roberta_wwm_drop3_rdrop2', 0.7722033898305085)"
      ]
     },
     "execution_count": 61,
     "metadata": {},
     "output_type": "execute_result"
    },
    {
     "data": {
      "text/plain": [
       "(FileNotFoundError(2, 'No such file or directory'),\n",
       " '/nfs/pony/chenhao/experiment/clue_ocnli/ocnli_roberta_wwm_drop2_nordrop')"
      ]
     },
     "execution_count": 61,
     "metadata": {},
     "output_type": "execute_result"
    },
    {
     "data": {
      "text/plain": [
       "(FileNotFoundError(2, 'No such file or directory'),\n",
       " '/nfs/pony/chenhao/experiment/clue_ocnli/ocnli_roberta_wwm_drop2_rdrop4')"
      ]
     },
     "execution_count": 61,
     "metadata": {},
     "output_type": "execute_result"
    },
    {
     "data": {
      "text/plain": [
       "('ocnli_roberta_wwm_drop2_rdrop4', 0.775593220338983)"
      ]
     },
     "execution_count": 61,
     "metadata": {},
     "output_type": "execute_result"
    },
    {
     "data": {
      "text/plain": [
       "(FileNotFoundError(2, 'No such file or directory'),\n",
       " '/nfs/pony/chenhao/experiment/clue_ocnli/ocnli_roberta_wwm_roberta_wwm')"
      ]
     },
     "execution_count": 61,
     "metadata": {},
     "output_type": "execute_result"
    },
    {
     "data": {
      "text/plain": [
       "('ocnli_roberta_wwm_roberta_wwm', 0.7725423728813559)"
      ]
     },
     "execution_count": 61,
     "metadata": {},
     "output_type": "execute_result"
    },
    {
     "data": {
      "text/plain": [
       "(FileNotFoundError(2, 'No such file or directory'),\n",
       " '/nfs/pony/chenhao/experiment/clue_ocnli/ocnli_roberta_wwm_roberta_wwm/2021-08-13-17:36:03')"
      ]
     },
     "execution_count": 61,
     "metadata": {},
     "output_type": "execute_result"
    },
    {
     "data": {
      "text/plain": [
       "(FileNotFoundError(2, 'No such file or directory'),\n",
       " '/nfs/pony/chenhao/experiment/clue_ocnli/ocnli_roberta_wwm_roberta_wwm/2021-08-13-17:36:08')"
      ]
     },
     "execution_count": 61,
     "metadata": {},
     "output_type": "execute_result"
    },
    {
     "data": {
      "text/plain": [
       "(FileNotFoundError(2, 'No such file or directory'),\n",
       " '/nfs/pony/chenhao/experiment/clue_ocnli/ocnli_roberta_wwm_roberta_wwm/2021-08-13-17:36:12')"
      ]
     },
     "execution_count": 61,
     "metadata": {},
     "output_type": "execute_result"
    },
    {
     "data": {
      "text/plain": [
       "(FileNotFoundError(2, 'No such file or directory'),\n",
       " '/nfs/pony/chenhao/experiment/clue_ocnli/ocnli_roberta_wwm_uerbert')"
      ]
     },
     "execution_count": 61,
     "metadata": {},
     "output_type": "execute_result"
    },
    {
     "data": {
      "text/plain": [
       "(FileNotFoundError(2, 'No such file or directory'),\n",
       " '/nfs/pony/chenhao/experiment/clue_ocnli/ocnli_roberta_wwm_roberta')"
      ]
     },
     "execution_count": 61,
     "metadata": {},
     "output_type": "execute_result"
    },
    {
     "data": {
      "text/plain": [
       "(FileNotFoundError(2, 'No such file or directory'),\n",
       " '/nfs/pony/chenhao/experiment/clue_ocnli/ocnli_roberta_wwm_roberta/2021-08-13-14:54:37')"
      ]
     },
     "execution_count": 61,
     "metadata": {},
     "output_type": "execute_result"
    },
    {
     "data": {
      "text/plain": [
       "(FileNotFoundError(2, 'No such file or directory'),\n",
       " '/nfs/pony/chenhao/experiment/clue_ocnli/ocnli_roberta_wwm_roberta/2021-08-13-17:36:08')"
      ]
     },
     "execution_count": 61,
     "metadata": {},
     "output_type": "execute_result"
    },
    {
     "data": {
      "text/plain": [
       "(FileNotFoundError(2, 'No such file or directory'),\n",
       " '/nfs/pony/chenhao/experiment/clue_ocnli/ocnli_roberta_wwm_macbert')"
      ]
     },
     "execution_count": 61,
     "metadata": {},
     "output_type": "execute_result"
    },
    {
     "data": {
      "text/plain": [
       "('ocnli_roberta_wwm_macbert', 0.7738983050847457)"
      ]
     },
     "execution_count": 61,
     "metadata": {},
     "output_type": "execute_result"
    },
    {
     "data": {
      "text/plain": [
       "(FileNotFoundError(2, 'No such file or directory'),\n",
       " '/nfs/pony/chenhao/experiment/clue_ocnli/ocnli_roberta_wwm_roberta_wwm_large')"
      ]
     },
     "execution_count": 61,
     "metadata": {},
     "output_type": "execute_result"
    },
    {
     "data": {
      "text/plain": [
       "('ocnli_roberta_wwm_roberta_wwm_large', 0.7894915254237288)"
      ]
     },
     "execution_count": 61,
     "metadata": {},
     "output_type": "execute_result"
    },
    {
     "data": {
      "text/plain": [
       "(FileNotFoundError(2, 'No such file or directory'),\n",
       " '/nfs/pony/chenhao/experiment/clue_ocnli/ocnli_roberta_wwm_fold-1')"
      ]
     },
     "execution_count": 61,
     "metadata": {},
     "output_type": "execute_result"
    },
    {
     "data": {
      "text/plain": [
       "(FileNotFoundError(2, 'No such file or directory'),\n",
       " '/nfs/pony/chenhao/experiment/clue_ocnli/ocnli_roberta_wwm_fold-1/2021-08-16-10:40:51')"
      ]
     },
     "execution_count": 61,
     "metadata": {},
     "output_type": "execute_result"
    },
    {
     "data": {
      "text/plain": [
       "(FileNotFoundError(2, 'No such file or directory'),\n",
       " '/nfs/pony/chenhao/experiment/clue_ocnli/ocnli_roberta_wwm_fold-1/2021-08-16-11:49:57')"
      ]
     },
     "execution_count": 61,
     "metadata": {},
     "output_type": "execute_result"
    },
    {
     "data": {
      "text/plain": [
       "(FileNotFoundError(2, 'No such file or directory'),\n",
       " '/nfs/pony/chenhao/experiment/clue_ocnli/ocnli_roberta_wwm_fold-2')"
      ]
     },
     "execution_count": 61,
     "metadata": {},
     "output_type": "execute_result"
    },
    {
     "data": {
      "text/plain": [
       "(FileNotFoundError(2, 'No such file or directory'),\n",
       " '/nfs/pony/chenhao/experiment/clue_ocnli/ocnli_roberta_wwm_fold-2/2021-08-16-10:41:01')"
      ]
     },
     "execution_count": 61,
     "metadata": {},
     "output_type": "execute_result"
    },
    {
     "data": {
      "text/plain": [
       "(FileNotFoundError(2, 'No such file or directory'),\n",
       " '/nfs/pony/chenhao/experiment/clue_ocnli/ocnli_roberta_wwm_fold-2/2021-08-16-11:49:57')"
      ]
     },
     "execution_count": 61,
     "metadata": {},
     "output_type": "execute_result"
    },
    {
     "data": {
      "text/plain": [
       "(FileNotFoundError(2, 'No such file or directory'),\n",
       " '/nfs/pony/chenhao/experiment/clue_ocnli/ocnli_roberta_wwm_fold-0')"
      ]
     },
     "execution_count": 61,
     "metadata": {},
     "output_type": "execute_result"
    },
    {
     "data": {
      "text/plain": [
       "('ocnli_roberta_wwm_fold-0', 0.7824498969844539)"
      ]
     },
     "execution_count": 61,
     "metadata": {},
     "output_type": "execute_result"
    },
    {
     "data": {
      "text/plain": [
       "(FileNotFoundError(2, 'No such file or directory'),\n",
       " '/nfs/pony/chenhao/experiment/clue_ocnli/ocnli_roberta_wwm_fold-3')"
      ]
     },
     "execution_count": 61,
     "metadata": {},
     "output_type": "execute_result"
    },
    {
     "data": {
      "text/plain": [
       "(FileNotFoundError(2, 'No such file or directory'),\n",
       " '/nfs/pony/chenhao/experiment/clue_ocnli/ocnli_roberta_wwm_fold-3/2021-08-16-10:47:03')"
      ]
     },
     "execution_count": 61,
     "metadata": {},
     "output_type": "execute_result"
    },
    {
     "data": {
      "text/plain": [
       "('ocnli_roberta_wwm_fold-3', 0.7809309731197902)"
      ]
     },
     "execution_count": 61,
     "metadata": {},
     "output_type": "execute_result"
    },
    {
     "data": {
      "text/plain": [
       "(FileNotFoundError(2, 'No such file or directory'),\n",
       " '/nfs/pony/chenhao/experiment/clue_ocnli/ocnli_roberta_wwm_fold-4')"
      ]
     },
     "execution_count": 61,
     "metadata": {},
     "output_type": "execute_result"
    },
    {
     "data": {
      "text/plain": [
       "(FileNotFoundError(2, 'No such file or directory'),\n",
       " '/nfs/pony/chenhao/experiment/clue_ocnli/ocnli_roberta_wwm_fold-4/2021-08-16-10:48:03')"
      ]
     },
     "execution_count": 61,
     "metadata": {},
     "output_type": "execute_result"
    },
    {
     "data": {
      "text/plain": [
       "(FileNotFoundError(2, 'No such file or directory'),\n",
       " '/nfs/pony/chenhao/experiment/clue_ocnli/ocnli_roberta_wwm_fold-4/2021-08-16-15:31:10')"
      ]
     },
     "execution_count": 61,
     "metadata": {},
     "output_type": "execute_result"
    },
    {
     "data": {
      "text/plain": [
       "20"
      ]
     },
     "execution_count": 61,
     "metadata": {},
     "output_type": "execute_result"
    }
   ],
   "source": [
    "experiment_path = \"/nfs/pony/chenhao/experiment/clue_ocnli\"\n",
    "exp_pattern = re.compile(r\".*fold.*\")\n",
    "exp_pattern = re.compile(r\".*\")\n",
    "\n",
    "\n",
    "metrci_path = \"$.micro.f1\"\n",
    "metrci_path = parse(metrci_path)\n",
    "threshold = 0.76\n",
    "# pos_label = \"true\"\n",
    "\n",
    "\n",
    "test_records = []    \n",
    "\n",
    "\n",
    "for exp in os.listdir(experiment_path)[:]:    \n",
    "    if re.match(exp_pattern,exp):\n",
    "        exp_path = f\"{experiment_path}/{exp}\"        \n",
    "        tmp = os.listdir(exp_path)\n",
    "        cands = [exp_path]\n",
    "        \n",
    "        for item in tmp:\n",
    "            if item.startswith(\"2021\"):\n",
    "                tmp_path = f\"{exp_path}/{item}\"\n",
    "                cands.append(tmp_path)\n",
    "        for p in cands:\n",
    "\n",
    "            try:\n",
    "\n",
    "                dev_metric = jload(f\"{p}/eval/dev.json\")\n",
    "    #             dev_metric\n",
    "                dev_metric = [a.value for a in metrci_path.find(dev_metric)][0]\n",
    "    #             dev_metric\n",
    "                if dev_metric >= threshold:\n",
    "                    exp, dev_metric\n",
    "\n",
    "                    test_output = jload(f\"{p}/output/test.json\")\n",
    "                    test_records.append([e[\"predict\"] for e in test_output])\n",
    "            except Exception as e:\n",
    "                e,p\n",
    "                pass\n",
    "\n",
    "# dev_records\n",
    "# test_records\n",
    "len(test_records)\n",
    "\n",
    "\n",
    "\n",
    "        "
   ]
  },
  {
   "cell_type": "code",
   "execution_count": 57,
   "metadata": {
    "ExecuteTime": {
     "end_time": "2021-08-16T09:49:33.478928Z",
     "start_time": "2021-08-16T09:49:33.386861Z"
    }
   },
   "outputs": [
    {
     "data": {
      "text/plain": [
       "3000"
      ]
     },
     "execution_count": 57,
     "metadata": {},
     "output_type": "execute_result"
    }
   ],
   "source": [
    "assemble = []\n",
    "from config_ai.utils import group_by\n",
    "\n",
    "idx=0\n",
    "\n",
    "for item in zip(*test_records):\n",
    "#     idx+=1\n",
    "#     if idx>50:\n",
    "#         break\n",
    "    tmp = group_by(item, key=lambda x:x[\"name\"], map_func=lambda x:x[\"prob\"])\n",
    "    tmp = [(sum(v), k) for k,v in tmp.items()]\n",
    "    rs = sorted(tmp, reverse=True)[0]\n",
    "    assemble.append(rs)\n",
    "#     rs\n",
    "\n",
    "len(assemble)"
   ]
  },
  {
   "cell_type": "code",
   "execution_count": 59,
   "metadata": {
    "ExecuteTime": {
     "end_time": "2021-08-16T09:51:50.475967Z",
     "start_time": "2021-08-16T09:51:50.212935Z"
    }
   },
   "outputs": [
    {
     "data": {
      "text/plain": [
       "3000"
      ]
     },
     "execution_count": 59,
     "metadata": {},
     "output_type": "execute_result"
    },
    {
     "data": {
      "text/plain": [
       "[{'id': 0, 'label': 'neutral'},\n",
       " {'id': 1, 'label': 'neutral'},\n",
       " {'id': 2, 'label': 'contradiction'},\n",
       " {'id': 3, 'label': 'neutral'}]"
      ]
     },
     "execution_count": 59,
     "metadata": {},
     "output_type": "execute_result"
    }
   ],
   "source": [
    "rs = [dict(id=idx, label=e[1]) for idx, e in enumerate(assemble)]\n",
    "len(rs)\n",
    "rs[:4]\n",
    "\n",
    "jdump_lines(rs, \"/nfs/pony/chenhao/data/clue/submit/20210816/ocnli_50k_predict.json\")\n",
    "\n"
   ]
  },
  {
   "cell_type": "code",
   "execution_count": 68,
   "metadata": {
    "ExecuteTime": {
     "end_time": "2021-08-16T10:17:46.034519Z",
     "start_time": "2021-08-16T10:17:45.938970Z"
    }
   },
   "outputs": [
    {
     "data": {
      "text/html": [
       "<div>\n",
       "<style scoped>\n",
       "    .dataframe tbody tr th:only-of-type {\n",
       "        vertical-align: middle;\n",
       "    }\n",
       "\n",
       "    .dataframe tbody tr th {\n",
       "        vertical-align: top;\n",
       "    }\n",
       "\n",
       "    .dataframe thead th {\n",
       "        text-align: right;\n",
       "    }\n",
       "</style>\n",
       "<table border=\"1\" class=\"dataframe\">\n",
       "  <thead>\n",
       "    <tr style=\"text-align: right;\">\n",
       "      <th></th>\n",
       "      <th>relation_classify_nowarm_lr2</th>\n",
       "      <th>relation_classify_nowarm_lr3</th>\n",
       "      <th>relation_classify_warm_lr2</th>\n",
       "      <th>relation_classify_warm_lr3</th>\n",
       "      <th>relation_classify_CLS</th>\n",
       "      <th>relation_classify_ENTITY_START</th>\n",
       "      <th>relation_classify_ENTITY_START_END</th>\n",
       "      <th>relation_classify_drop1_nordrop</th>\n",
       "      <th>relation_classify_drop1_rdrop4</th>\n",
       "      <th>relation_classify_drop1_rdrop2</th>\n",
       "      <th>...</th>\n",
       "      <th>relation_classify_fold-3</th>\n",
       "      <th>relation_classify_fold-1</th>\n",
       "      <th>relation_classify_fold-0</th>\n",
       "      <th>relation_classify_fold-2</th>\n",
       "      <th>relation_classify_large_fold-1</th>\n",
       "      <th>relation_classify_large_fold-0</th>\n",
       "      <th>relation_classify_large_fold-2</th>\n",
       "      <th>relation_classify_fold-4</th>\n",
       "      <th>relation_classify_large_fold-3</th>\n",
       "      <th>relation_classify_large_fold-4</th>\n",
       "    </tr>\n",
       "  </thead>\n",
       "  <tbody>\n",
       "    <tr>\n",
       "      <th>0</th>\n",
       "      <td>0.999811</td>\n",
       "      <td>0.999020</td>\n",
       "      <td>0.995474</td>\n",
       "      <td>0.999940</td>\n",
       "      <td>0.997767</td>\n",
       "      <td>0.992093</td>\n",
       "      <td>0.984697</td>\n",
       "      <td>0.999506</td>\n",
       "      <td>0.999838</td>\n",
       "      <td>0.985834</td>\n",
       "      <td>...</td>\n",
       "      <td>0.998121</td>\n",
       "      <td>0.999641</td>\n",
       "      <td>0.982119</td>\n",
       "      <td>0.999454</td>\n",
       "      <td>0.999966</td>\n",
       "      <td>0.998150</td>\n",
       "      <td>0.999972</td>\n",
       "      <td>0.999998</td>\n",
       "      <td>0.999993</td>\n",
       "      <td>0.999829</td>\n",
       "    </tr>\n",
       "    <tr>\n",
       "      <th>1</th>\n",
       "      <td>0.999728</td>\n",
       "      <td>0.999450</td>\n",
       "      <td>0.993181</td>\n",
       "      <td>0.999925</td>\n",
       "      <td>0.999696</td>\n",
       "      <td>0.997525</td>\n",
       "      <td>0.999945</td>\n",
       "      <td>0.999774</td>\n",
       "      <td>0.999952</td>\n",
       "      <td>0.998680</td>\n",
       "      <td>...</td>\n",
       "      <td>0.999858</td>\n",
       "      <td>0.997248</td>\n",
       "      <td>0.999810</td>\n",
       "      <td>0.989857</td>\n",
       "      <td>0.999879</td>\n",
       "      <td>0.998951</td>\n",
       "      <td>0.999878</td>\n",
       "      <td>0.999995</td>\n",
       "      <td>0.999706</td>\n",
       "      <td>0.998357</td>\n",
       "    </tr>\n",
       "    <tr>\n",
       "      <th>2</th>\n",
       "      <td>0.999975</td>\n",
       "      <td>0.999762</td>\n",
       "      <td>0.999509</td>\n",
       "      <td>0.999933</td>\n",
       "      <td>0.971077</td>\n",
       "      <td>0.993336</td>\n",
       "      <td>0.999985</td>\n",
       "      <td>0.999558</td>\n",
       "      <td>0.999362</td>\n",
       "      <td>0.998714</td>\n",
       "      <td>...</td>\n",
       "      <td>0.999765</td>\n",
       "      <td>0.999923</td>\n",
       "      <td>0.999930</td>\n",
       "      <td>0.999319</td>\n",
       "      <td>0.999943</td>\n",
       "      <td>0.997635</td>\n",
       "      <td>0.999991</td>\n",
       "      <td>1.000000</td>\n",
       "      <td>0.999952</td>\n",
       "      <td>0.999109</td>\n",
       "    </tr>\n",
       "    <tr>\n",
       "      <th>3</th>\n",
       "      <td>0.909885</td>\n",
       "      <td>0.122118</td>\n",
       "      <td>0.790465</td>\n",
       "      <td>0.988932</td>\n",
       "      <td>0.002568</td>\n",
       "      <td>0.460181</td>\n",
       "      <td>0.695859</td>\n",
       "      <td>0.887418</td>\n",
       "      <td>0.321349</td>\n",
       "      <td>0.352801</td>\n",
       "      <td>...</td>\n",
       "      <td>0.605541</td>\n",
       "      <td>0.470325</td>\n",
       "      <td>0.000136</td>\n",
       "      <td>0.009917</td>\n",
       "      <td>0.001738</td>\n",
       "      <td>0.431514</td>\n",
       "      <td>0.999423</td>\n",
       "      <td>0.002959</td>\n",
       "      <td>0.386583</td>\n",
       "      <td>0.001212</td>\n",
       "    </tr>\n",
       "    <tr>\n",
       "      <th>4</th>\n",
       "      <td>0.974842</td>\n",
       "      <td>0.018472</td>\n",
       "      <td>0.764687</td>\n",
       "      <td>0.883381</td>\n",
       "      <td>0.996248</td>\n",
       "      <td>0.108269</td>\n",
       "      <td>0.998131</td>\n",
       "      <td>0.690671</td>\n",
       "      <td>0.996806</td>\n",
       "      <td>0.832220</td>\n",
       "      <td>...</td>\n",
       "      <td>0.985369</td>\n",
       "      <td>0.988578</td>\n",
       "      <td>0.945269</td>\n",
       "      <td>0.969163</td>\n",
       "      <td>0.997528</td>\n",
       "      <td>0.975717</td>\n",
       "      <td>0.999725</td>\n",
       "      <td>0.998880</td>\n",
       "      <td>0.999257</td>\n",
       "      <td>0.004588</td>\n",
       "    </tr>\n",
       "  </tbody>\n",
       "</table>\n",
       "<p>5 rows × 32 columns</p>\n",
       "</div>"
      ],
      "text/plain": [
       "   relation_classify_nowarm_lr2  relation_classify_nowarm_lr3  \\\n",
       "0                      0.999811                      0.999020   \n",
       "1                      0.999728                      0.999450   \n",
       "2                      0.999975                      0.999762   \n",
       "3                      0.909885                      0.122118   \n",
       "4                      0.974842                      0.018472   \n",
       "\n",
       "   relation_classify_warm_lr2  relation_classify_warm_lr3  \\\n",
       "0                    0.995474                    0.999940   \n",
       "1                    0.993181                    0.999925   \n",
       "2                    0.999509                    0.999933   \n",
       "3                    0.790465                    0.988932   \n",
       "4                    0.764687                    0.883381   \n",
       "\n",
       "   relation_classify_CLS  relation_classify_ENTITY_START  \\\n",
       "0               0.997767                        0.992093   \n",
       "1               0.999696                        0.997525   \n",
       "2               0.971077                        0.993336   \n",
       "3               0.002568                        0.460181   \n",
       "4               0.996248                        0.108269   \n",
       "\n",
       "   relation_classify_ENTITY_START_END  relation_classify_drop1_nordrop  \\\n",
       "0                            0.984697                         0.999506   \n",
       "1                            0.999945                         0.999774   \n",
       "2                            0.999985                         0.999558   \n",
       "3                            0.695859                         0.887418   \n",
       "4                            0.998131                         0.690671   \n",
       "\n",
       "   relation_classify_drop1_rdrop4  relation_classify_drop1_rdrop2  ...  \\\n",
       "0                        0.999838                        0.985834  ...   \n",
       "1                        0.999952                        0.998680  ...   \n",
       "2                        0.999362                        0.998714  ...   \n",
       "3                        0.321349                        0.352801  ...   \n",
       "4                        0.996806                        0.832220  ...   \n",
       "\n",
       "   relation_classify_fold-3  relation_classify_fold-1  \\\n",
       "0                  0.998121                  0.999641   \n",
       "1                  0.999858                  0.997248   \n",
       "2                  0.999765                  0.999923   \n",
       "3                  0.605541                  0.470325   \n",
       "4                  0.985369                  0.988578   \n",
       "\n",
       "   relation_classify_fold-0  relation_classify_fold-2  \\\n",
       "0                  0.982119                  0.999454   \n",
       "1                  0.999810                  0.989857   \n",
       "2                  0.999930                  0.999319   \n",
       "3                  0.000136                  0.009917   \n",
       "4                  0.945269                  0.969163   \n",
       "\n",
       "   relation_classify_large_fold-1  relation_classify_large_fold-0  \\\n",
       "0                        0.999966                        0.998150   \n",
       "1                        0.999879                        0.998951   \n",
       "2                        0.999943                        0.997635   \n",
       "3                        0.001738                        0.431514   \n",
       "4                        0.997528                        0.975717   \n",
       "\n",
       "   relation_classify_large_fold-2  relation_classify_fold-4  \\\n",
       "0                        0.999972                  0.999998   \n",
       "1                        0.999878                  0.999995   \n",
       "2                        0.999991                  1.000000   \n",
       "3                        0.999423                  0.002959   \n",
       "4                        0.999725                  0.998880   \n",
       "\n",
       "   relation_classify_large_fold-3  relation_classify_large_fold-4  \n",
       "0                        0.999993                        0.999829  \n",
       "1                        0.999706                        0.998357  \n",
       "2                        0.999952                        0.999109  \n",
       "3                        0.386583                        0.001212  \n",
       "4                        0.999257                        0.004588  \n",
       "\n",
       "[5 rows x 32 columns]"
      ]
     },
     "execution_count": 68,
     "metadata": {},
     "output_type": "execute_result"
    },
    {
     "data": {
      "text/plain": [
       "(290,)"
      ]
     },
     "execution_count": 68,
     "metadata": {},
     "output_type": "execute_result"
    },
    {
     "data": {
      "text/plain": [
       "0    0.991491\n",
       "1    0.995745\n",
       "2    0.994717\n",
       "3    0.393878\n",
       "4    0.839980\n",
       "5    0.039777\n",
       "6    0.091074\n",
       "7    0.029218\n",
       "8    0.491958\n",
       "9    0.616854\n",
       "dtype: float64"
      ]
     },
     "execution_count": 68,
     "metadata": {},
     "output_type": "execute_result"
    }
   ],
   "source": [
    "test_df.head()\n",
    "prob = np.sum(test_df, axis=1)/test_df.shape[1]\n",
    "prob.shape\n",
    "prob[:10]\n",
    "\n"
   ]
  },
  {
   "cell_type": "code",
   "execution_count": 69,
   "metadata": {
    "ExecuteTime": {
     "end_time": "2021-08-16T10:17:50.231763Z",
     "start_time": "2021-08-16T10:17:50.178237Z"
    }
   },
   "outputs": [
    {
     "data": {
      "text/plain": [
       "290"
      ]
     },
     "execution_count": 69,
     "metadata": {},
     "output_type": "execute_result"
    },
    {
     "data": {
      "text/plain": [
       "[{'id': 1, 'label': 'true'},\n",
       " {'id': 2, 'label': 'true'},\n",
       " {'id': 3, 'label': 'true'},\n",
       " {'id': 4, 'label': 'false'}]"
      ]
     },
     "execution_count": 69,
     "metadata": {},
     "output_type": "execute_result"
    }
   ],
   "source": [
    "rs = [dict(id=idx+1, label=\"false\" if e<0.5 else \"true\") for idx, e in enumerate(prob)]\n",
    "len(rs)\n",
    "rs[:4]\n",
    "\n",
    "jdump_lines(rs, \"/nfs/pony/chenhao/data/clue/submit/20210816/wsc_predict.json\")\n",
    "\n",
    "\n",
    "\n"
   ]
  },
  {
   "cell_type": "code",
   "execution_count": null,
   "metadata": {},
   "outputs": [],
   "source": []
  },
  {
   "cell_type": "code",
   "execution_count": 9,
   "metadata": {
    "ExecuteTime": {
     "end_time": "2021-08-12T07:35:28.436921Z",
     "start_time": "2021-08-12T07:35:26.982964Z"
    }
   },
   "outputs": [
    {
     "ename": "ValueError",
     "evalue": "This solver needs samples of at least 2 classes in the data, but the data contains only one class: 0.0",
     "output_type": "error",
     "traceback": [
      "\u001b[0;31m---------------------------------------------------------------------------\u001b[0m",
      "\u001b[0;31mValueError\u001b[0m                                Traceback (most recent call last)",
      "\u001b[0;32m<ipython-input-9-d328fe06afd6>\u001b[0m in \u001b[0;36m<module>\u001b[0;34m\u001b[0m\n\u001b[1;32m     10\u001b[0m \u001b[0;34m\u001b[0m\u001b[0m\n\u001b[1;32m     11\u001b[0m \u001b[0mLR\u001b[0m \u001b[0;34m=\u001b[0m \u001b[0mLogisticRegression\u001b[0m\u001b[0;34m(\u001b[0m\u001b[0mmax_iter\u001b[0m\u001b[0;34m=\u001b[0m\u001b[0;36m1000\u001b[0m\u001b[0;34m)\u001b[0m\u001b[0;34m\u001b[0m\u001b[0m\n\u001b[0;32m---> 12\u001b[0;31m \u001b[0mLR\u001b[0m\u001b[0;34m.\u001b[0m\u001b[0mfit\u001b[0m\u001b[0;34m(\u001b[0m\u001b[0mX_train\u001b[0m\u001b[0;34m,\u001b[0m\u001b[0my_train\u001b[0m\u001b[0;34m)\u001b[0m\u001b[0;34m\u001b[0m\u001b[0m\n\u001b[0m\u001b[1;32m     13\u001b[0m \u001b[0mLR\u001b[0m\u001b[0;34m.\u001b[0m\u001b[0mscore\u001b[0m\u001b[0;34m(\u001b[0m\u001b[0mX_train\u001b[0m\u001b[0;34m,\u001b[0m \u001b[0my_train\u001b[0m\u001b[0;34m)\u001b[0m\u001b[0;34m\u001b[0m\u001b[0m\n\u001b[1;32m     14\u001b[0m \u001b[0;34m\u001b[0m\u001b[0m\n",
      "\u001b[0;32m~/miniconda3/envs/chenhao-py3.6-tf2.0/lib/python3.6/site-packages/sklearn/linear_model/_logistic.py\u001b[0m in \u001b[0;36mfit\u001b[0;34m(self, X, y, sample_weight)\u001b[0m\n\u001b[1;32m   1554\u001b[0m             raise ValueError(\"This solver needs samples of at least 2 classes\"\n\u001b[1;32m   1555\u001b[0m                              \u001b[0;34m\" in the data, but the data contains only one\"\u001b[0m\u001b[0;34m\u001b[0m\u001b[0m\n\u001b[0;32m-> 1556\u001b[0;31m                              \" class: %r\" % classes_[0])\n\u001b[0m\u001b[1;32m   1557\u001b[0m \u001b[0;34m\u001b[0m\u001b[0m\n\u001b[1;32m   1558\u001b[0m         \u001b[0;32mif\u001b[0m \u001b[0mlen\u001b[0m\u001b[0;34m(\u001b[0m\u001b[0mself\u001b[0m\u001b[0;34m.\u001b[0m\u001b[0mclasses_\u001b[0m\u001b[0;34m)\u001b[0m \u001b[0;34m==\u001b[0m \u001b[0;36m2\u001b[0m\u001b[0;34m:\u001b[0m\u001b[0;34m\u001b[0m\u001b[0m\n",
      "\u001b[0;31mValueError\u001b[0m: This solver needs samples of at least 2 classes in the data, but the data contains only one class: 0.0"
     ]
    }
   ],
   "source": [
    "\n",
    "from sklearn.linear_model import LogisticRegression\n",
    "train_col = dev_df.columns.tolist()\n",
    "train_col.remove(\"target\")\n",
    "# train_col\n",
    "\n",
    "X_train = dev_df[train_col]\n",
    "y_train = dev_df[\"target\"]\n",
    "\n",
    "\n",
    "\n",
    "LR = LogisticRegression(max_iter=1000)\n",
    "LR.fit(X_train,y_train)\n",
    "LR.score(X_train, y_train)\n",
    "\n",
    "X_test = test_df[train_col]\n",
    "\n",
    "\n",
    "test_pred = LR.predict(X_test)\n",
    "\n",
    "test_pred\n",
    "\n",
    "\n",
    "\n",
    "# LR.predict(X_test)\n",
    "\n",
    "\n",
    "\n",
    "\n",
    "# lr = LogisticRegression(C=1000.0, random_state=0)"
   ]
  },
  {
   "cell_type": "code",
   "execution_count": 67,
   "metadata": {
    "ExecuteTime": {
     "end_time": "2021-07-30T06:41:51.887463Z",
     "start_time": "2021-07-30T06:41:51.851624Z"
    }
   },
   "outputs": [
    {
     "data": {
      "text/plain": [
       "[{'id': 1, 'label': 'true'},\n",
       " {'id': 2, 'label': 'true'},\n",
       " {'id': 3, 'label': 'true'}]"
      ]
     },
     "execution_count": 67,
     "metadata": {},
     "output_type": "execute_result"
    }
   ],
   "source": [
    "labels = [\"false\", \"true\"]\n",
    "\n",
    "wsc_pred = [dict(id=idx+1, label=labels[int(e)])for idx, e in enumerate(test_pred)]\n",
    "wsc_pred[:3]\n",
    "jdump_lines(wsc_pred, \"/nfs/pony/chenhao/data/clue/submit/20210729/wsc_predict.json\")\n"
   ]
  },
  {
   "cell_type": "code",
   "execution_count": null,
   "metadata": {},
   "outputs": [],
   "source": []
  }
 ],
 "metadata": {
  "hide_input": false,
  "kernelspec": {
   "display_name": "chenhao-py3.6-tf2.0",
   "language": "python",
   "name": "chenhao-py3.6-tf2.0"
  },
  "language_info": {
   "codemirror_mode": {
    "name": "ipython",
    "version": 3
   },
   "file_extension": ".py",
   "mimetype": "text/x-python",
   "name": "python",
   "nbconvert_exporter": "python",
   "pygments_lexer": "ipython3",
   "version": "3.6.2"
  },
  "toc": {
   "base_numbering": 1,
   "nav_menu": {},
   "number_sections": true,
   "sideBar": true,
   "skip_h1_title": false,
   "title_cell": "Table of Contents",
   "title_sidebar": "Contents",
   "toc_cell": false,
   "toc_position": {},
   "toc_section_display": true,
   "toc_window_display": false
  },
  "varInspector": {
   "cols": {
    "lenName": 16,
    "lenType": 16,
    "lenVar": 40
   },
   "kernels_config": {
    "python": {
     "delete_cmd_postfix": "",
     "delete_cmd_prefix": "del ",
     "library": "var_list.py",
     "varRefreshCmd": "print(var_dic_list())"
    },
    "r": {
     "delete_cmd_postfix": ") ",
     "delete_cmd_prefix": "rm(",
     "library": "var_list.r",
     "varRefreshCmd": "cat(var_dic_list()) "
    }
   },
   "types_to_exclude": [
    "module",
    "function",
    "builtin_function_or_method",
    "instance",
    "_Feature"
   ],
   "window_display": false
  }
 },
 "nbformat": 4,
 "nbformat_minor": 4
}
