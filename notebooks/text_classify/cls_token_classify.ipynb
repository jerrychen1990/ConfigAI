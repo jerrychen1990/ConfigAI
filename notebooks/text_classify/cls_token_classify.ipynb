{
 "cells": [
  {
   "cell_type": "markdown",
   "metadata": {},
   "source": [
    "# load package and model"
   ]
  },
  {
   "cell_type": "code",
   "execution_count": 1,
   "metadata": {
    "ExecuteTime": {
     "end_time": "2022-08-08T10:13:33.661064Z",
     "start_time": "2022-08-08T10:13:33.429561Z"
    }
   },
   "outputs": [
    {
     "data": {
      "text/plain": [
       "['/Users/chenhao/workspace/ConfigAI',\n",
       " '/Users/chenhao/workspace/ConfigAI/notebooks/text_classify',\n",
       " '/Library/Developer/CommandLineTools/Library/Frameworks/Python3.framework/Versions/3.8/lib/python38.zip',\n",
       " '/Library/Developer/CommandLineTools/Library/Frameworks/Python3.framework/Versions/3.8/lib/python3.8',\n",
       " '/Library/Developer/CommandLineTools/Library/Frameworks/Python3.framework/Versions/3.8/lib/python3.8/lib-dynload',\n",
       " '',\n",
       " '/Users/chenhao/workspace/ConfigAI/venv/lib/python3.8/site-packages']"
      ]
     },
     "execution_count": 1,
     "metadata": {},
     "output_type": "execute_result"
    }
   ],
   "source": [
    "import os\n",
    "import sys\n",
    "CONFIG_AI_PATH=os.environ[\"CONFIG_AI_PATH\"]\n",
    "if CONFIG_AI_PATH not in sys.path:\n",
    "    sys.path.insert(0, CONFIG_AI_PATH)\n",
    "sys.path\n",
    "\n",
    "\n",
    "\n",
    "\n",
    "from config_ai.models.text_classify import CLSTokenClassifyModel\n",
    "# from config_ai.evaluate import eval_text_classify\n",
    "# from config_ai.models.text_classify.common import *\n",
    "# from config_ai.data_utils import *\n",
    "# from config_ai.backend import set_tf_config\n",
    "# from config_ai.models import load_model\n",
    "from config_ai.experiments import get_model_config\n",
    "from config_ai.utils import read_config\n",
    "from snippets.utils import *\n",
    "\n",
    "# os.environ[\"CUDA_VISIBLE_DEVICES\"] = \"1\"\n",
    "# set_tf_config()\n"
   ]
  },
  {
   "cell_type": "code",
   "execution_count": 2,
   "metadata": {
    "ExecuteTime": {
     "end_time": "2022-08-08T10:13:35.945126Z",
     "start_time": "2022-08-08T10:13:35.914784Z"
    }
   },
   "outputs": [
    {
     "name": "stderr",
     "output_type": "stream",
     "text": [
      "2022-08-08 18:13:35 [INFO][utils.py:75]:parsing config with path:/Users/chenhao/workspace/ConfigAI/examples/text_classify/sentiment_cls_token_classify.ini\n",
      "2022-08-08 18:13:35 [INFO][utils.py:90]:loading base config...\n",
      "2022-08-08 18:13:35 [INFO][utils.py:75]:parsing config with path:/Users/chenhao/workspace/ConfigAI/examples/base_config.ini\n"
     ]
    },
    {
     "data": {
      "text/plain": [
       "{'common_config': {'experiment_dir': '/Users/chenhao/experiment',\n",
       "  'project_name': 'config_ai_example',\n",
       "  'is_train': True,\n",
       "  'is_test': True,\n",
       "  'is_save': True,\n",
       "  'save_args': {'fmt': 'h5'},\n",
       "  'eval_phase_list': ['train', 'dev'],\n",
       "  'output_phase_list': ['train', 'dev', 'test'],\n",
       "  'is_overwrite_experiment': True,\n",
       "  'default_random_seed': 10,\n",
       "  'base_config': '/Users/chenhao/workspace/ConfigAI/examples/base_config.ini',\n",
       "  'model_cls': 'CLSTokenClassifyModel',\n",
       "  'model_name': 'cls_token_classify_example'},\n",
       " 'tokenizer_config': {'tokenizer_name': 'bert_word_piece',\n",
       "  'tokenizer_args': {'vocabs': '/Users/chenhao/pretrain/chinese_rbt4_L-4_H-768_A-12/vocab.txt'}},\n",
       " 'nn_model_config': {'pretrained_model_tag': 'bert',\n",
       "  'pretrained_model_path': '/Users/chenhao/pretrain/chinese_rbt4_L-4_H-768_A-12'},\n",
       " 'compile_config': {'optimizer_name': 'adam',\n",
       "  'optimizer_args': {'learning_rate': 3e-05}},\n",
       " 'train_config': {'epochs': 2,\n",
       "  'batch_size': 32,\n",
       "  'overwrite_cache': False,\n",
       "  'steps_per_epoch': 100},\n",
       " 'test_config': {'batch_size': 64, 'overwrite_cache': False},\n",
       " 'callback_config': {'tensorboard_callback': True},\n",
       " 'data_config': {'train_data_path': '/Users/chenhao/workspace/ConfigAI/data/sentiment_classify/labeled.jsonl',\n",
       "  'dev_data_path': '/Users/chenhao/workspace/ConfigAI/data/sentiment_classify/labeled.jsonl',\n",
       "  'test_data_path': '/Users/chenhao/workspace/ConfigAI/data/sentiment_classify/labeled.jsonl'},\n",
       " 'task_config': {'label_path': '/Users/chenhao/workspace/ConfigAI/data/sentiment_classify/labels.txt',\n",
       "  'max_len': 128,\n",
       "  'multi_label': False}}"
      ]
     },
     "execution_count": 2,
     "metadata": {},
     "output_type": "execute_result"
    },
    {
     "name": "stderr",
     "output_type": "stream",
     "text": [
      "2022-08-08 18:13:35 [INFO][core.py:45]:loading config\n",
      "2022-08-08 18:13:35 [INFO][core.py:46]:init model with config:\n"
     ]
    },
    {
     "data": {
      "text/plain": [
       "{0: '正向', 1: '中性', 2: '负向'}"
      ]
     },
     "execution_count": 2,
     "metadata": {},
     "output_type": "execute_result"
    }
   ],
   "source": [
    "config_path = f\"{CONFIG_AI_PATH}/examples/text_classify/sentiment_cls_token_classify.ini\"\n",
    "\n",
    "config = read_config(config_path)\n",
    "config\n",
    "model_config = get_model_config(config)\n",
    "# model_config\n",
    "\n",
    "model = CLSTokenClassifyModel(config=model_config)\n",
    "model.id2label"
   ]
  },
  {
   "cell_type": "markdown",
   "metadata": {},
   "source": [
    "# process data"
   ]
  },
  {
   "cell_type": "code",
   "execution_count": 6,
   "metadata": {
    "ExecuteTime": {
     "end_time": "2022-08-08T10:17:04.048331Z",
     "start_time": "2022-08-08T10:17:03.844594Z"
    }
   },
   "outputs": [
    {
     "data": {
      "text/plain": [
       "'/Users/chenhao/workspace/ConfigAI/data/sentiment_classify/labeled.jsonl: 3 items'"
      ]
     },
     "execution_count": 6,
     "metadata": {},
     "output_type": "execute_result"
    },
    {
     "data": {
      "text/plain": [
       "'/Users/chenhao/workspace/ConfigAI/data/sentiment_classify/labeled.jsonl: 3 items'"
      ]
     },
     "execution_count": 6,
     "metadata": {},
     "output_type": "execute_result"
    },
    {
     "data": {
      "text/plain": [
       "'/Users/chenhao/workspace/ConfigAI/data/sentiment_classify/labeled.jsonl: 3 items'"
      ]
     },
     "execution_count": 6,
     "metadata": {},
     "output_type": "execute_result"
    },
    {
     "data": {
      "text/plain": [
       "TextExample(content='这家酒店真不错')"
      ]
     },
     "execution_count": 6,
     "metadata": {},
     "output_type": "execute_result"
    }
   ],
   "source": [
    "train_data_path = config['data_config']['train_data_path']\n",
    "train_data = model.load_examples(train_data_path)\n",
    "f\"{train_data_path}: {len(train_data)} items\"\n",
    "\n",
    "\n",
    "dev_data_path = config['data_config']['dev_data_path']\n",
    "dev_data = model.load_examples(dev_data_path)\n",
    "f\"{dev_data_path}: {len(dev_data)} items\"\n",
    "\n",
    "\n",
    "test_data_path = config['data_config']['test_data_path']\n",
    "test_data = model.load_examples(test_data_path)\n",
    "f\"{test_data_path}: {len(test_data)} items\"\n",
    "\n",
    "\n",
    "\n",
    "train_data[0]"
   ]
  },
  {
   "cell_type": "code",
   "execution_count": 5,
   "metadata": {
    "ExecuteTime": {
     "end_time": "2021-11-23T06:45:39.881014Z",
     "start_time": "2021-11-23T06:45:39.820818Z"
    }
   },
   "outputs": [],
   "source": [
    "data_manager = DataManager.get_instance(model=model, data=train_data)"
   ]
  },
  {
   "cell_type": "code",
   "execution_count": 6,
   "metadata": {
    "ExecuteTime": {
     "end_time": "2021-11-23T06:45:40.467207Z",
     "start_time": "2021-11-23T06:45:40.409033Z"
    }
   },
   "outputs": [
    {
     "data": {
      "text/plain": [
       "{'full_text': '这家酒店真不错',\n",
       " 'text': '这家酒店真不错',\n",
       " 'extra_text': None,\n",
       " 'token_ids': [101, 6821, 2157, 6983, 2421, 4696, 679, 7231, 102],\n",
       " 'segment_ids': [0, 0, 0, 0, 0, 0, 0, 0, 0],\n",
       " 'tokens': ['[CLS]', '这', '家', '酒', '店', '真', '不', '错', '[SEP]'],\n",
       " 'labels': ['正向']}"
      ]
     },
     "execution_count": 6,
     "metadata": {},
     "output_type": "execute_result"
    }
   ],
   "source": [
    "features = data_manager.get_features()\n",
    "feature = next(features)\n",
    "feature"
   ]
  },
  {
   "cell_type": "code",
   "execution_count": 7,
   "metadata": {
    "ExecuteTime": {
     "end_time": "2021-11-23T06:45:41.104196Z",
     "start_time": "2021-11-23T06:45:41.046562Z"
    }
   },
   "outputs": [
    {
     "data": {
      "text/plain": [
       "{'idx': 0,\n",
       " 'full_text': '这家酒店真不错',\n",
       " 'text': '这家酒店真不错',\n",
       " 'extra_text': None,\n",
       " 'token_ids': [101, 6821, 2157, 6983, 2421, 4696, 679, 7231, 102],\n",
       " 'segment_ids': [0, 0, 0, 0, 0, 0, 0, 0, 0],\n",
       " 'tokens': ['[CLS]', '这', '家', '酒', '店', '真', '不', '错', '[SEP]'],\n",
       " 'labels': ['正向'],\n",
       " 'classify_output': 0}"
      ]
     },
     "execution_count": 7,
     "metadata": {},
     "output_type": "execute_result"
    }
   ],
   "source": [
    "records = data_manager.get_records(mode=\"train\")\n",
    "next(records)\n",
    "\n"
   ]
  },
  {
   "cell_type": "markdown",
   "metadata": {},
   "source": [
    "# build&compile model"
   ]
  },
  {
   "cell_type": "code",
   "execution_count": 8,
   "metadata": {
    "ExecuteTime": {
     "end_time": "2021-11-23T06:45:46.717206Z",
     "start_time": "2021-11-23T06:45:42.270903Z"
    }
   },
   "outputs": [
    {
     "data": {
      "text/plain": [
       "{'pretrained_model_tag': 'bert',\n",
       " 'pretrained_model_path': '/nfs/pony/chenhao/pretrain/chinese_rbt4_L-4_H-768_A-12',\n",
       " 'transformer_kwargs': {'dropout_rate': 0.3}}"
      ]
     },
     "execution_count": 8,
     "metadata": {},
     "output_type": "execute_result"
    },
    {
     "name": "stderr",
     "output_type": "stream",
     "text": [
      "2021-11-23 14:45:42.327470: I tensorflow/core/platform/cpu_feature_guard.cc:143] Your CPU supports instructions that this TensorFlow binary was not compiled to use: AVX2 FMA\n",
      "2021-11-23 14:45:42.337630: I tensorflow/core/platform/profile_utils/cpu_utils.cc:102] CPU Frequency: 3597740000 Hz\n",
      "2021-11-23 14:45:42.338341: I tensorflow/compiler/xla/service/service.cc:168] XLA service 0x5566e1621300 initialized for platform Host (this does not guarantee that XLA will be used). Devices:\n",
      "2021-11-23 14:45:42.338370: I tensorflow/compiler/xla/service/service.cc:176]   StreamExecutor device (0): Host, Default Version\n",
      "2021-11-23 14:45:42.673919: I tensorflow/compiler/xla/service/service.cc:168] XLA service 0x5566e16bb810 initialized for platform CUDA (this does not guarantee that XLA will be used). Devices:\n",
      "2021-11-23 14:45:42.673951: I tensorflow/compiler/xla/service/service.cc:176]   StreamExecutor device (0): NVIDIA TITAN X (Pascal), Compute Capability 6.1\n",
      "2021-11-23 14:45:42.675245: I tensorflow/core/common_runtime/gpu/gpu_device.cc:1561] Found device 0 with properties: \n",
      "pciBusID: 0000:06:00.0 name: NVIDIA TITAN X (Pascal) computeCapability: 6.1\n",
      "coreClock: 1.531GHz coreCount: 28 deviceMemorySize: 11.91GiB deviceMemoryBandwidth: 447.48GiB/s\n",
      "2021-11-23 14:45:42.675299: I tensorflow/stream_executor/platform/default/dso_loader.cc:44] Successfully opened dynamic library libcudart.so.10.1\n",
      "2021-11-23 14:45:42.675320: I tensorflow/stream_executor/platform/default/dso_loader.cc:44] Successfully opened dynamic library libcublas.so.10\n",
      "2021-11-23 14:45:42.675338: I tensorflow/stream_executor/platform/default/dso_loader.cc:44] Successfully opened dynamic library libcufft.so.10\n",
      "2021-11-23 14:45:42.675356: I tensorflow/stream_executor/platform/default/dso_loader.cc:44] Successfully opened dynamic library libcurand.so.10\n",
      "2021-11-23 14:45:42.675373: I tensorflow/stream_executor/platform/default/dso_loader.cc:44] Successfully opened dynamic library libcusolver.so.10\n",
      "2021-11-23 14:45:42.675390: I tensorflow/stream_executor/platform/default/dso_loader.cc:44] Successfully opened dynamic library libcusparse.so.10\n",
      "2021-11-23 14:45:42.675408: I tensorflow/stream_executor/platform/default/dso_loader.cc:44] Successfully opened dynamic library libcudnn.so.7\n",
      "2021-11-23 14:45:42.677609: I tensorflow/core/common_runtime/gpu/gpu_device.cc:1703] Adding visible gpu devices: 0\n",
      "2021-11-23 14:45:42.677665: I tensorflow/stream_executor/platform/default/dso_loader.cc:44] Successfully opened dynamic library libcudart.so.10.1\n",
      "2021-11-23 14:45:42.679555: I tensorflow/core/common_runtime/gpu/gpu_device.cc:1102] Device interconnect StreamExecutor with strength 1 edge matrix:\n",
      "2021-11-23 14:45:42.679574: I tensorflow/core/common_runtime/gpu/gpu_device.cc:1108]      0 \n",
      "2021-11-23 14:45:42.679582: I tensorflow/core/common_runtime/gpu/gpu_device.cc:1121] 0:   N \n",
      "2021-11-23 14:45:42.681906: I tensorflow/core/common_runtime/gpu/gpu_device.cc:1247] Created TensorFlow device (/job:localhost/replica:0/task:0/device:GPU:0 with 10112 MB memory) -> physical GPU (device: 0, name: NVIDIA TITAN X (Pascal), pci bus id: 0000:06:00.0, compute capability: 6.1)\n",
      "2021-11-23 14:45:42 [INFO][mirrored_strategy.py:500]:Using MirroredStrategy with devices ('/job:localhost/replica:0/task:0/device:GPU:0',)\n",
      "2021-11-23 14:45:42 [INFO][tf_core.py:126]:number of devices: 1, use SINGLE scope\n",
      "2021-11-23 14:45:42 [INFO][nn_models.py:56]:loading from pretrained weights: /nfs/pony/chenhao/pretrain/chinese_rbt4_L-4_H-768_A-12/model.ckpt\n",
      "2021-11-23 14:45:46 [INFO][cls_token_classify.py:75]:nn model's summary:\n",
      "2021-11-23 14:45:46 [INFO][layer_utils.py:192]:Model: \"nn_model\"\n",
      "2021-11-23 14:45:46 [INFO][layer_utils.py:193]:__________________________________________________________________________________________________\n",
      "2021-11-23 14:45:46 [INFO][layer_utils.py:190]:Layer (type)                    Output Shape         Param #     Connected to                     \n",
      "2021-11-23 14:45:46 [INFO][layer_utils.py:195]:==================================================================================================\n",
      "2021-11-23 14:45:46 [INFO][layer_utils.py:190]:token_ids (InputLayer)          [(None, None)]       0                                            \n",
      "2021-11-23 14:45:46 [INFO][layer_utils.py:259]:__________________________________________________________________________________________________\n",
      "2021-11-23 14:45:46 [INFO][layer_utils.py:190]:segment_ids (InputLayer)        [(None, None)]       0                                            \n",
      "2021-11-23 14:45:46 [INFO][layer_utils.py:259]:__________________________________________________________________________________________________\n",
      "2021-11-23 14:45:46 [INFO][layer_utils.py:190]:model (Model)                   (None, None, 768)    44974080    token_ids[0][0]                  \n",
      "2021-11-23 14:45:46 [INFO][layer_utils.py:190]:                                                                 segment_ids[0][0]                \n",
      "2021-11-23 14:45:46 [INFO][layer_utils.py:259]:__________________________________________________________________________________________________\n",
      "2021-11-23 14:45:46 [INFO][layer_utils.py:190]:cls_layer (Lambda)              (None, 768)          0           model[1][0]                      \n",
      "2021-11-23 14:45:46 [INFO][layer_utils.py:259]:__________________________________________________________________________________________________\n",
      "2021-11-23 14:45:46 [INFO][layer_utils.py:190]:classifier (Dense)              (None, 3)            2307        cls_layer[0][0]                  \n",
      "2021-11-23 14:45:46 [INFO][layer_utils.py:257]:==================================================================================================\n",
      "2021-11-23 14:45:46 [INFO][layer_utils.py:268]:Total params: 44,976,387\n",
      "2021-11-23 14:45:46 [INFO][layer_utils.py:269]:Trainable params: 44,976,387\n",
      "2021-11-23 14:45:46 [INFO][layer_utils.py:270]:Non-trainable params: 0\n",
      "2021-11-23 14:45:46 [INFO][layer_utils.py:271]:__________________________________________________________________________________________________\n"
     ]
    },
    {
     "data": {
      "text/plain": [
       "<tensorflow.python.keras.engine.training.Model at 0x7f8fa03bfdc0>"
      ]
     },
     "execution_count": 8,
     "metadata": {},
     "output_type": "execute_result"
    }
   ],
   "source": [
    "nn_model_args = dict(**config[\"nn_model_config\"])\n",
    "nn_model_args.update(transformer_kwargs=dict(dropout_rate=0.3))\n",
    "nn_model_args\n",
    "\n",
    "model.build_model(**nn_model_args)\n",
    "\n"
   ]
  },
  {
   "cell_type": "code",
   "execution_count": 9,
   "metadata": {
    "ExecuteTime": {
     "end_time": "2021-11-23T06:45:47.624696Z",
     "start_time": "2021-11-23T06:45:46.774407Z"
    }
   },
   "outputs": [
    {
     "data": {
      "text/plain": [
       "{'optimizer_name': 'adam', 'optimizer_args': {'learning_rate': 3e-05}}"
      ]
     },
     "execution_count": 9,
     "metadata": {},
     "output_type": "execute_result"
    },
    {
     "name": "stderr",
     "output_type": "stream",
     "text": [
      "2021-11-23 14:45:46 [INFO][cls_token_classify.py:82]:compiling model...\n",
      "2021-11-23 14:45:46 [INFO][tf_core.py:126]:number of devices: 1, use SINGLE scope\n",
      "2021-11-23 14:45:47 [INFO][losses.py:101]:build loss layer with loss function:<function sparse_categorical_crossentropy at 0x7f902d0b9ca0>\n",
      "2021-11-23 14:45:47 [INFO][cls_token_classify.py:106]:training model's summary:\n",
      "2021-11-23 14:45:47 [INFO][layer_utils.py:192]:Model: \"train_model\"\n",
      "2021-11-23 14:45:47 [INFO][layer_utils.py:193]:__________________________________________________________________________________________________\n",
      "2021-11-23 14:45:47 [INFO][layer_utils.py:190]:Layer (type)                    Output Shape         Param #     Connected to                     \n",
      "2021-11-23 14:45:47 [INFO][layer_utils.py:195]:==================================================================================================\n",
      "2021-11-23 14:45:47 [INFO][layer_utils.py:190]:token_ids (InputLayer)          [(None, None)]       0                                            \n",
      "2021-11-23 14:45:47 [INFO][layer_utils.py:259]:__________________________________________________________________________________________________\n",
      "2021-11-23 14:45:47 [INFO][layer_utils.py:190]:segment_ids (InputLayer)        [(None, None)]       0                                            \n",
      "2021-11-23 14:45:47 [INFO][layer_utils.py:259]:__________________________________________________________________________________________________\n",
      "2021-11-23 14:45:47 [INFO][layer_utils.py:190]:classify_output (InputLayer)    [(None,)]            0                                            \n",
      "2021-11-23 14:45:47 [INFO][layer_utils.py:259]:__________________________________________________________________________________________________\n",
      "2021-11-23 14:45:47 [INFO][layer_utils.py:190]:nn_model (Model)                (None, 3)            44976387    token_ids[0][0]                  \n",
      "2021-11-23 14:45:47 [INFO][layer_utils.py:190]:                                                                 segment_ids[0][0]                \n",
      "2021-11-23 14:45:47 [INFO][layer_utils.py:259]:__________________________________________________________________________________________________\n",
      "2021-11-23 14:45:47 [INFO][layer_utils.py:190]:loss_layer (LossLayer)          (None,)              0           classify_output[0][0]            \n",
      "2021-11-23 14:45:47 [INFO][layer_utils.py:190]:                                                                 nn_model[1][0]                   \n",
      "2021-11-23 14:45:47 [INFO][layer_utils.py:259]:__________________________________________________________________________________________________\n",
      "2021-11-23 14:45:47 [INFO][layer_utils.py:190]:add_loss (AddLoss)              (None,)              0           loss_layer[0][0]                 \n",
      "2021-11-23 14:45:47 [INFO][layer_utils.py:259]:__________________________________________________________________________________________________\n",
      "2021-11-23 14:45:47 [INFO][layer_utils.py:190]:metric_layer (MetricLayer)      (None,)              0           classify_output[0][0]            \n",
      "2021-11-23 14:45:47 [INFO][layer_utils.py:190]:                                                                 nn_model[1][0]                   \n",
      "2021-11-23 14:45:47 [INFO][layer_utils.py:259]:__________________________________________________________________________________________________\n",
      "2021-11-23 14:45:47 [INFO][layer_utils.py:190]:add_metric (AddMetric)          (None,)              0           metric_layer[0][0]               \n",
      "2021-11-23 14:45:47 [INFO][layer_utils.py:257]:==================================================================================================\n",
      "2021-11-23 14:45:47 [INFO][layer_utils.py:268]:Total params: 44,976,387\n",
      "2021-11-23 14:45:47 [INFO][layer_utils.py:269]:Trainable params: 44,976,387\n",
      "2021-11-23 14:45:47 [INFO][layer_utils.py:270]:Non-trainable params: 0\n",
      "2021-11-23 14:45:47 [INFO][layer_utils.py:271]:__________________________________________________________________________________________________\n"
     ]
    }
   ],
   "source": [
    "compile_args = dict(**config[\"compile_config\"])\n",
    "# compile_args.update(rdrop_alpha=4)\n",
    "compile_args\n",
    "model.compile_model(**compile_args)\n"
   ]
  },
  {
   "cell_type": "code",
   "execution_count": 10,
   "metadata": {
    "ExecuteTime": {
     "end_time": "2021-11-23T06:45:49.300478Z",
     "start_time": "2021-11-23T06:45:49.234012Z"
    }
   },
   "outputs": [
    {
     "data": {
      "text/plain": [
       "[<tf.Tensor 'token_ids:0' shape=(None, None) dtype=int32>,\n",
       " <tf.Tensor 'segment_ids:0' shape=(None, None) dtype=int32>,\n",
       " <tf.Tensor 'classify_output:0' shape=(None,) dtype=int32>]"
      ]
     },
     "execution_count": 10,
     "metadata": {},
     "output_type": "execute_result"
    },
    {
     "data": {
      "text/plain": [
       "[<tf.Tensor 'nn_model/Identity:0' shape=(None, 3) dtype=float32>]"
      ]
     },
     "execution_count": 10,
     "metadata": {},
     "output_type": "execute_result"
    },
    {
     "data": {
      "text/plain": [
       "[<tf.Tensor 'loss_layer/Identity:0' shape=(None,) dtype=float32>]"
      ]
     },
     "execution_count": 10,
     "metadata": {},
     "output_type": "execute_result"
    },
    {
     "data": {
      "text/plain": [
       "[<tensorflow.python.keras.metrics.Mean at 0x7f8fa0168280>]"
      ]
     },
     "execution_count": 10,
     "metadata": {},
     "output_type": "execute_result"
    }
   ],
   "source": [
    "model.train_model.inputs\n",
    "model.train_model.outputs\n",
    "model.train_model.losses\n",
    "model.train_model.metrics\n"
   ]
  },
  {
   "cell_type": "code",
   "execution_count": 11,
   "metadata": {
    "ExecuteTime": {
     "end_time": "2021-11-23T06:45:49.996684Z",
     "start_time": "2021-11-23T06:45:49.941139Z"
    }
   },
   "outputs": [
    {
     "data": {
      "text/plain": [
       "({'token_ids': 'int32', 'segment_ids': 'int32', 'classify_output': 'int32'},\n",
       " {'token_ids': (None,), 'segment_ids': (None,), 'classify_output': ()})"
      ]
     },
     "execution_count": 11,
     "metadata": {},
     "output_type": "execute_result"
    },
    {
     "data": {
      "text/plain": [
       "({'token_ids': 'int32', 'segment_ids': 'int32'},\n",
       " {'token_ids': (None,), 'segment_ids': (None,)})"
      ]
     },
     "execution_count": 11,
     "metadata": {},
     "output_type": "execute_result"
    }
   ],
   "source": [
    "model.get_dataset_info(\"train\")\n",
    "model.get_dataset_info(\"test\")"
   ]
  },
  {
   "cell_type": "code",
   "execution_count": 12,
   "metadata": {
    "ExecuteTime": {
     "end_time": "2021-11-23T06:45:50.769349Z",
     "start_time": "2021-11-23T06:45:50.664695Z"
    }
   },
   "outputs": [
    {
     "data": {
      "text/plain": [
       "{'token_ids': array([[ 101, 6821, 2157, 6983, 2421, 4696,  679, 7231,  102]],\n",
       "       dtype=int32),\n",
       " 'segment_ids': array([[0, 0, 0, 0, 0, 0, 0, 0, 0]], dtype=int32),\n",
       " 'classify_output': array([0], dtype=int32)}"
      ]
     },
     "execution_count": 12,
     "metadata": {},
     "output_type": "execute_result"
    }
   ],
   "source": [
    "dataset = data_manager.get_train_dataset(batch_size=1)\n",
    "\n",
    "item = next(dataset.as_numpy_iterator())\n",
    "item\n"
   ]
  },
  {
   "cell_type": "markdown",
   "metadata": {},
   "source": [
    "# train_model"
   ]
  },
  {
   "cell_type": "code",
   "execution_count": 13,
   "metadata": {
    "ExecuteTime": {
     "end_time": "2021-11-23T06:46:22.187797Z",
     "start_time": "2021-11-23T06:45:51.929280Z"
    },
    "scrolled": true
   },
   "outputs": [
    {
     "data": {
      "text/plain": [
       "{'epochs': 2,\n",
       " 'batch_size': 8,\n",
       " 'overwrite_cache': False,\n",
       " 'steps_per_epoch': 100,\n",
       " 'verbose': 1}"
      ]
     },
     "execution_count": 13,
     "metadata": {},
     "output_type": "execute_result"
    },
    {
     "name": "stderr",
     "output_type": "stream",
     "text": [
      "100%|██████████| 3/3 [00:00<00:00, 4919.04it/s]\n",
      "2021-11-23 14:45:52 [INFO][tf_core.py:173]:train on 3 tensors\n"
     ]
    },
    {
     "name": "stdout",
     "output_type": "stream",
     "text": [
      "Epoch 1/2\n"
     ]
    },
    {
     "name": "stderr",
     "output_type": "stream",
     "text": [
      "2021-11-23 14:45:56.202100: I tensorflow/stream_executor/platform/default/dso_loader.cc:44] Successfully opened dynamic library libcublas.so.10\n"
     ]
    },
    {
     "name": "stdout",
     "output_type": "stream",
     "text": [
      "100/100 [==============================] - 13s 130ms/step - loss: 0.1805 - accuracy: 0.9675\n",
      "Epoch 2/2\n",
      "100/100 [==============================] - 12s 124ms/step - loss: 0.0043 - accuracy: 1.0000\n"
     ]
    },
    {
     "name": "stderr",
     "output_type": "stream",
     "text": [
      "2021-11-23 14:46:22 [INFO][tf_core.py:189]:training finished\n"
     ]
    }
   ],
   "source": [
    "train_args = dict(**config[\"train_config\"])\n",
    "train_args.update(steps_per_epoch=100, batch_size=8, verbose=1)\n",
    "train_args\n",
    "\n",
    "model.train(train_data=train_data, **train_args)"
   ]
  },
  {
   "cell_type": "markdown",
   "metadata": {},
   "source": [
    "# predict&evaluate"
   ]
  },
  {
   "cell_type": "code",
   "execution_count": 14,
   "metadata": {
    "ExecuteTime": {
     "end_time": "2021-11-23T06:48:08.044523Z",
     "start_time": "2021-11-23T06:48:07.468754Z"
    }
   },
   "outputs": [
    {
     "data": {
      "text/plain": [
       "[LabeledTextClassifyExample(text='这家酒店真不错', label=Label(name='正向', prob=1.0)),\n",
       " LabeledTextClassifyExample(text='这门课太差了', label=Label(name='负向', prob=1.0)),\n",
       " LabeledTextClassifyExample(text='这是一家酒店', label=Label(name='中性', prob=1.0))]"
      ]
     },
     "execution_count": 14,
     "metadata": {},
     "output_type": "execute_result"
    },
    {
     "name": "stderr",
     "output_type": "stream",
     "text": [
      "100%|██████████| 3/3 [00:00<00:00, 6064.05it/s]\n",
      "2021-11-23 14:48:07 [INFO][tf_core.py:204]:predicting with tf model...\n",
      "1it [00:00, 15.67it/s]\n",
      "2021-11-23 14:48:08 [INFO][decorators.py:28]:function:_model_predict cost:0.066 seconds\n",
      "2021-11-23 14:48:08 [INFO][decorators.py:28]:function:_post_predict cost:0.002 seconds\n"
     ]
    },
    {
     "data": {
      "text/plain": [
       "[Label(name='正向', prob=0.9997114539146423),\n",
       " Label(name='负向', prob=0.999711811542511),\n",
       " Label(name='中性', prob=0.9997040629386902)]"
      ]
     },
     "execution_count": 14,
     "metadata": {},
     "output_type": "execute_result"
    }
   ],
   "source": [
    "to_pred = train_data[:4]\n",
    "to_pred\n",
    "\n",
    "pred = model.predict(to_pred, show_detail=True)\n",
    "pred[:4]\n"
   ]
  },
  {
   "cell_type": "code",
   "execution_count": 15,
   "metadata": {
    "ExecuteTime": {
     "end_time": "2021-11-23T06:48:08.774444Z",
     "start_time": "2021-11-23T06:48:08.740936Z"
    }
   },
   "outputs": [
    {
     "data": {
      "text/plain": [
       "[{'text': '这家酒店真不错',\n",
       "  'label': {'name': '正向', 'prob': 1.0},\n",
       "  'predict': {'name': '正向', 'prob': 0.9997114539146423},\n",
       "  'tp_set': {'正向'},\n",
       "  'fp_set': set(),\n",
       "  'fn_set': set()},\n",
       " {'text': '这门课太差了',\n",
       "  'label': {'name': '负向', 'prob': 1.0},\n",
       "  'predict': {'name': '负向', 'prob': 0.999711811542511},\n",
       "  'tp_set': {'负向'},\n",
       "  'fp_set': set(),\n",
       "  'fn_set': set()},\n",
       " {'text': '这是一家酒店',\n",
       "  'label': {'name': '中性', 'prob': 1.0},\n",
       "  'predict': {'name': '中性', 'prob': 0.9997040629386902},\n",
       "  'tp_set': {'中性'},\n",
       "  'fp_set': set(),\n",
       "  'fn_set': set()}]"
      ]
     },
     "execution_count": 15,
     "metadata": {},
     "output_type": "execute_result"
    }
   ],
   "source": [
    "output_data = get_text_classify_output(to_pred, pred)\n",
    "output_data[:4]"
   ]
  },
  {
   "cell_type": "code",
   "execution_count": 16,
   "metadata": {
    "ExecuteTime": {
     "end_time": "2021-11-23T06:48:09.879301Z",
     "start_time": "2021-11-23T06:48:09.839604Z"
    }
   },
   "outputs": [
    {
     "data": {
      "text/plain": [
       "{'detail': {'中性': {'tp': 1,\n",
       "   'fp': 0,\n",
       "   'fn': 0,\n",
       "   'precision': 1.0,\n",
       "   'recall': 1.0,\n",
       "   'f1': 1.0},\n",
       "  '正向': {'tp': 1,\n",
       "   'fp': 0,\n",
       "   'fn': 0,\n",
       "   'precision': 1.0,\n",
       "   'recall': 1.0,\n",
       "   'f1': 1.0},\n",
       "  '负向': {'tp': 1,\n",
       "   'fp': 0,\n",
       "   'fn': 0,\n",
       "   'precision': 1.0,\n",
       "   'recall': 1.0,\n",
       "   'f1': 1.0}},\n",
       " 'micro': {'tp': 3,\n",
       "  'fp': 0,\n",
       "  'fn': 0,\n",
       "  'precision': 1.0,\n",
       "  'recall': 1.0,\n",
       "  'f1': 1.0},\n",
       " 'macro': {'precision': 1.0, 'recall': 1.0, 'f1': 1.0}}"
      ]
     },
     "execution_count": 16,
     "metadata": {},
     "output_type": "execute_result"
    }
   ],
   "source": [
    "true_labels = [e.label for e in to_pred]\n",
    "eval_rs = eval_text_classify(true_labels, pred)\n",
    "eval_rs"
   ]
  },
  {
   "cell_type": "markdown",
   "metadata": {},
   "source": [
    "# save&load"
   ]
  },
  {
   "cell_type": "code",
   "execution_count": 17,
   "metadata": {
    "ExecuteTime": {
     "end_time": "2021-11-23T06:48:13.615221Z",
     "start_time": "2021-11-23T06:48:11.596441Z"
    }
   },
   "outputs": [
    {
     "data": {
      "text/plain": [
       "{'format': 'h5'}"
      ]
     },
     "execution_count": 17,
     "metadata": {},
     "output_type": "execute_result"
    },
    {
     "data": {
      "text/plain": [
       "'/nfs/pony/chenhao/experiment/config_ai_example/cls_token_classify_example/model'"
      ]
     },
     "execution_count": 17,
     "metadata": {},
     "output_type": "execute_result"
    },
    {
     "name": "stderr",
     "output_type": "stream",
     "text": [
      "2021-11-23 14:48:11 [INFO][core.py:79]:saving model to /nfs/pony/chenhao/experiment/config_ai_example/cls_token_classify_example/model\n",
      "2021-11-23 14:48:11 [INFO][tf_core.py:55]:saving keras model to path:/nfs/pony/chenhao/experiment/config_ai_example/cls_token_classify_example/model/nn_model/nn_model.h5\n",
      "2021-11-23 14:48:13 [INFO][core.py:144]:save model done\n"
     ]
    }
   ],
   "source": [
    "model_path = os.path.join(config[\"common_config\"][\"experiment_dir\"],\n",
    "                          config[\"common_config\"][\"project_name\"],\n",
    "                          config[\"common_config\"][\"model_name\"],\"model\")\n",
    "\n",
    "save_args = dict(**config[\"common_config\"][\"save_args\"])\n",
    "del save_args[\"tf_serving_version\"]\n",
    "\n",
    "save_args\n",
    "model_path\n",
    "\n",
    "\n",
    "model.save(path=model_path, **save_args)\n",
    "\n",
    "\n"
   ]
  },
  {
   "cell_type": "code",
   "execution_count": 18,
   "metadata": {
    "ExecuteTime": {
     "end_time": "2021-11-23T06:48:17.068402Z",
     "start_time": "2021-11-23T06:48:13.724476Z"
    }
   },
   "outputs": [
    {
     "name": "stderr",
     "output_type": "stream",
     "text": [
      "2021-11-23 14:48:13 [INFO][core.py:90]:loading model from path:/nfs/pony/chenhao/experiment/config_ai_example/cls_token_classify_example/model\n",
      "2021-11-23 14:48:13 [INFO][core.py:47]:init model with config:\n",
      "2021-11-23 14:48:13 [INFO][core.py:124]:initializing tokenizer with config:\n",
      "{\n",
      "    \"tokenizer_name\": \"bert_word_piece\",\n",
      "    \"tokenizer_args\": {\n",
      "        \"vocabs\": \"/nfs/pony/chenhao/pretrain/chinese_rbt4_L-4_H-768_A-12/vocab.txt\"\n",
      "    }\n",
      "}\n",
      "2021-11-23 14:48:13 [INFO][core.py:138]:tokenizer initialized with 21128 vocabs\n",
      "2021-11-23 14:48:13 [INFO][tf_core.py:157]:loading keras model from path:/nfs/pony/chenhao/experiment/config_ai_example/cls_token_classify_example/model/nn_model/nn_model.h5 with format:h5\n",
      "2021-11-23 14:48:17 [INFO][layer_utils.py:192]:Model: \"nn_model\"\n",
      "2021-11-23 14:48:17 [INFO][layer_utils.py:193]:__________________________________________________________________________________________________\n",
      "2021-11-23 14:48:17 [INFO][layer_utils.py:190]:Layer (type)                    Output Shape         Param #     Connected to                     \n",
      "2021-11-23 14:48:17 [INFO][layer_utils.py:195]:==================================================================================================\n",
      "2021-11-23 14:48:17 [INFO][layer_utils.py:190]:token_ids (InputLayer)          [(None, None)]       0                                            \n",
      "2021-11-23 14:48:17 [INFO][layer_utils.py:259]:__________________________________________________________________________________________________\n",
      "2021-11-23 14:48:17 [INFO][layer_utils.py:190]:segment_ids (InputLayer)        [(None, None)]       0                                            \n",
      "2021-11-23 14:48:17 [INFO][layer_utils.py:259]:__________________________________________________________________________________________________\n",
      "2021-11-23 14:48:17 [INFO][layer_utils.py:190]:model (Model)                   (None, None, 768)    44974080    token_ids[0][0]                  \n",
      "2021-11-23 14:48:17 [INFO][layer_utils.py:190]:                                                                 segment_ids[0][0]                \n",
      "2021-11-23 14:48:17 [INFO][layer_utils.py:259]:__________________________________________________________________________________________________\n",
      "2021-11-23 14:48:17 [INFO][layer_utils.py:190]:cls_layer (Lambda)              (None, 768)          0           model[1][0]                      \n",
      "2021-11-23 14:48:17 [INFO][layer_utils.py:259]:__________________________________________________________________________________________________\n",
      "2021-11-23 14:48:17 [INFO][layer_utils.py:190]:classifier (Dense)              (None, 3)            2307        cls_layer[0][0]                  \n",
      "2021-11-23 14:48:17 [INFO][layer_utils.py:257]:==================================================================================================\n",
      "2021-11-23 14:48:17 [INFO][layer_utils.py:268]:Total params: 44,976,387\n",
      "2021-11-23 14:48:17 [INFO][layer_utils.py:269]:Trainable params: 44,976,387\n",
      "2021-11-23 14:48:17 [INFO][layer_utils.py:270]:Non-trainable params: 0\n",
      "2021-11-23 14:48:17 [INFO][layer_utils.py:271]:__________________________________________________________________________________________________\n",
      "2021-11-23 14:48:17 [INFO][core.py:158]:load model done\n"
     ]
    },
    {
     "data": {
      "text/plain": [
       "<config_ai.models.text_classify.cls_token_classify.CLSTokenClassifyModel at 0x7f90c45208e0>"
      ]
     },
     "execution_count": 18,
     "metadata": {},
     "output_type": "execute_result"
    }
   ],
   "source": [
    "loaded_model = load_model(path=model_path)\n",
    "loaded_model"
   ]
  },
  {
   "cell_type": "code",
   "execution_count": 20,
   "metadata": {
    "ExecuteTime": {
     "end_time": "2021-11-22T07:05:23.210486Z",
     "start_time": "2021-11-22T07:05:23.143440Z"
    }
   },
   "outputs": [
    {
     "name": "stderr",
     "output_type": "stream",
     "text": [
      "100%|██████████| 3/3 [00:00<00:00, 11285.12it/s]\n",
      "2021-11-22 15:05:23 [INFO][tf_core.py:204]:predicting with tf model...\n",
      "2021-11-22 15:05:23 [INFO][decorators.py:28]:function:_model_predict cost:0.036 seconds\n",
      "2021-11-22 15:05:23 [INFO][decorators.py:28]:function:_post_predict cost:0.001 seconds\n"
     ]
    },
    {
     "data": {
      "text/plain": [
       "[Label(name='正向', prob=0.9998229146003723),\n",
       " Label(name='负向', prob=0.9997743964195251),\n",
       " Label(name='中性', prob=0.9997645020484924)]"
      ]
     },
     "execution_count": 20,
     "metadata": {},
     "output_type": "execute_result"
    }
   ],
   "source": [
    "loaded_pred = loaded_model.predict(data=to_pred)\n",
    "loaded_pred"
   ]
  },
  {
   "cell_type": "code",
   "execution_count": null,
   "metadata": {},
   "outputs": [],
   "source": []
  }
 ],
 "metadata": {
  "hide_input": false,
  "kernelspec": {
   "display_name": "configai",
   "language": "python",
   "name": "configai"
  },
  "language_info": {
   "codemirror_mode": {
    "name": "ipython",
    "version": 3
   },
   "file_extension": ".py",
   "mimetype": "text/x-python",
   "name": "python",
   "nbconvert_exporter": "python",
   "pygments_lexer": "ipython3",
   "version": "3.8.9"
  },
  "toc": {
   "base_numbering": 1,
   "nav_menu": {},
   "number_sections": true,
   "sideBar": true,
   "skip_h1_title": false,
   "title_cell": "Table of Contents",
   "title_sidebar": "Contents",
   "toc_cell": false,
   "toc_position": {},
   "toc_section_display": true,
   "toc_window_display": false
  },
  "varInspector": {
   "cols": {
    "lenName": 16,
    "lenType": 16,
    "lenVar": 40
   },
   "kernels_config": {
    "python": {
     "delete_cmd_postfix": "",
     "delete_cmd_prefix": "del ",
     "library": "var_list.py",
     "varRefreshCmd": "print(var_dic_list())"
    },
    "r": {
     "delete_cmd_postfix": ") ",
     "delete_cmd_prefix": "rm(",
     "library": "var_list.r",
     "varRefreshCmd": "cat(var_dic_list()) "
    }
   },
   "position": {
    "height": "508px",
    "left": "1088px",
    "right": "20px",
    "top": "120px",
    "width": "333px"
   },
   "types_to_exclude": [
    "module",
    "function",
    "builtin_function_or_method",
    "instance",
    "_Feature"
   ],
   "window_display": false
  }
 },
 "nbformat": 4,
 "nbformat_minor": 4
}
