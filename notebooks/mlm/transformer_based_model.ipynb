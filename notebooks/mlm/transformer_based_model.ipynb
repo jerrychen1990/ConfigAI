{
 "cells": [
  {
   "cell_type": "markdown",
   "metadata": {},
   "source": [
    "# load package and model"
   ]
  },
  {
   "cell_type": "code",
   "execution_count": 1,
   "metadata": {
    "ExecuteTime": {
     "end_time": "2021-11-23T07:45:52.759325Z",
     "start_time": "2021-11-23T07:45:50.797620Z"
    }
   },
   "outputs": [
    {
     "name": "stdout",
     "output_type": "stream",
     "text": [
      "The autoreload extension is already loaded. To reload it, use:\n",
      "  %reload_ext autoreload\n"
     ]
    },
    {
     "data": {
      "text/plain": [
       "['/nfs/pony/chenhao/workspace/ConfigAI/notebooks/mlm',\n",
       " '/nfs/pony/chenhao/workspace/python-snippets',\n",
       " '/nfs/pony/chenhao/workspace/ConfigAI',\n",
       " '/nfs/pony/chenhao/workspace/bert4keras',\n",
       " '/nfs/pony/chenhao/workspace/ConfigAI/notebooks/mlm',\n",
       " '/nfs/pony/chenhao/envs/config_ai/lib/python38.zip',\n",
       " '/nfs/pony/chenhao/envs/config_ai/lib/python3.8',\n",
       " '/nfs/pony/chenhao/envs/config_ai/lib/python3.8/lib-dynload',\n",
       " '',\n",
       " '/nfs/pony/chenhao/envs/config_ai/lib/python3.8/site-packages',\n",
       " '/nfs/pony/chenhao/envs/config_ai/lib/python3.8/site-packages/IPython/extensions',\n",
       " '/mnt/raid4/home/chenhao/.ipython']"
      ]
     },
     "execution_count": 1,
     "metadata": {},
     "output_type": "execute_result"
    },
    {
     "name": "stderr",
     "output_type": "stream",
     "text": [
      "2021-11-23 15:45:52 [INFO][backend.py:57]:setting tensorflow config...\n",
      "2021-11-23 15:45:52.711039: I tensorflow/stream_executor/platform/default/dso_loader.cc:44] Successfully opened dynamic library libcuda.so.1\n",
      "2021-11-23 15:45:52 [INFO][backend.py:61]:current devices:\n",
      "2021-11-23 15:45:52.724519: I tensorflow/core/common_runtime/gpu/gpu_device.cc:1561] Found device 0 with properties: \n",
      "pciBusID: 0000:06:00.0 name: NVIDIA TITAN X (Pascal) computeCapability: 6.1\n",
      "coreClock: 1.531GHz coreCount: 28 deviceMemorySize: 11.91GiB deviceMemoryBandwidth: 447.48GiB/s\n",
      "2021-11-23 15:45:52.724920: I tensorflow/stream_executor/platform/default/dso_loader.cc:44] Successfully opened dynamic library libcudart.so.10.1\n",
      "2021-11-23 15:45:52.726669: I tensorflow/stream_executor/platform/default/dso_loader.cc:44] Successfully opened dynamic library libcublas.so.10\n",
      "2021-11-23 15:45:52.728091: I tensorflow/stream_executor/platform/default/dso_loader.cc:44] Successfully opened dynamic library libcufft.so.10\n",
      "2021-11-23 15:45:52.728510: I tensorflow/stream_executor/platform/default/dso_loader.cc:44] Successfully opened dynamic library libcurand.so.10\n",
      "2021-11-23 15:45:52.730192: I tensorflow/stream_executor/platform/default/dso_loader.cc:44] Successfully opened dynamic library libcu2021-11-23 15:45:52 [INFO][backend.py:62]:cpus:[PhysicalDevice(name='/physical_device:CPU:0', device_type='CPU')]\n",
      "2021-11-23 15:45:52 [INFO][backend.py:63]:gpus:[PhysicalDevice(name='/physical_device:GPU:0', device_type='GPU')]\n",
      "solver.so.10\n",
      "2021-11-23 15:45:52.731165: I tensorflow/stream_executor/platform/default/dso_loader.cc:44] Successfully opened dynamic library libcusparse.so.10\n",
      "2021-11-23 15:45:52.734431: I tensorflow/stream_executor/platform/default/dso_loader.cc:44] Successfully opened dynamic library libcudnn.so.7\n",
      "2021-11-23 15:45:52.736438: I tensorflow/core/common_runtime/gpu/gpu_device.cc:1703] Adding visible gpu devices: 0\n",
      "2021-11-23 15:45:52 [INFO][backend.py:64]:setting gpu memory allow growth...\n",
      "2021-11-23 15:45:52 [INFO][backend.py:67]:setting soft device placement...\n",
      "2021-11-23 15:45:52 [INFO][backend.py:71]:set tf config done\n"
     ]
    }
   ],
   "source": [
    "%load_ext autoreload\n",
    "%autoreload 2\n",
    "import os\n",
    "import sys\n",
    "sys.path\n",
    "\n",
    "from config_ai.models.mlm import TransformerMLMModel\n",
    "from config_ai.evaluate import eval_mlm\n",
    "from config_ai.models.mlm.common import *\n",
    "from config_ai.data_utils import *\n",
    "from config_ai.backend import set_tf_config\n",
    "from config_ai.models import load_model\n",
    "from config_ai.experiments import get_model_config\n",
    "from config_ai.utils import read_config\n",
    "from snippets import *\n",
    "\n",
    "os.environ[\"CUDA_VISIBLE_DEVICES\"] = \"1\"\n",
    "set_tf_config()\n"
   ]
  },
  {
   "cell_type": "code",
   "execution_count": 3,
   "metadata": {
    "ExecuteTime": {
     "end_time": "2021-11-23T07:45:58.461196Z",
     "start_time": "2021-11-23T07:45:58.280389Z"
    }
   },
   "outputs": [
    {
     "name": "stderr",
     "output_type": "stream",
     "text": [
      "2021-11-23 15:45:58 [INFO][utils.py:60]:parsing config with path:/nfs/pony/chenhao/workspace/ConfigAI/examples/mlm/poetry_tranformer_mlm.ini\n",
      "2021-11-23 15:45:58 [INFO][utils.py:71]:loading base config...\n",
      "2021-11-23 15:45:58 [INFO][utils.py:60]:parsing config with path:/nfs/pony/chenhao/workspace/ConfigAI/examples/base_config.ini\n"
     ]
    },
    {
     "data": {
      "text/plain": [
       "{'common_config': {'experiment_dir': '/nfs/pony/chenhao/experiment',\n",
       "  'project_name': 'config_ai_example',\n",
       "  'is_train': True,\n",
       "  'is_test': True,\n",
       "  'is_save': True,\n",
       "  'save_args': {'format': 'h5', 'tf_serving_version': 1},\n",
       "  'eval_phase_list': ['train', 'dev'],\n",
       "  'output_phase_list': ['train', 'dev', 'test'],\n",
       "  'is_overwrite_experiment': True,\n",
       "  'default_random_seed': 10,\n",
       "  'base_config': '/nfs/pony/chenhao/workspace/ConfigAI/examples/base_config.ini',\n",
       "  'model_cls': 'TransformerMLMModel',\n",
       "  'model_name': 'transformer_mlm_example'},\n",
       " 'tokenizer_config': {'tokenizer_name': 'bert_word_piece',\n",
       "  'tokenizer_args': {'vocabs': '/nfs/pony/chenhao/pretrain/chinese_rbt4_L-4_H-768_A-12/vocab.txt'}},\n",
       " 'nn_model_config': {'pretrained_model_tag': 'bert',\n",
       "  'pretrained_model_path': '/nfs/pony/chenhao/pretrain/chinese_rbt4_L-4_H-768_A-12'},\n",
       " 'compile_config': {'optimizer_name': 'adam',\n",
       "  'optimizer_args': {'learning_rate': 3e-05}},\n",
       " 'train_config': {'epochs': 5, 'batch_size': 32, 'overwrite_cache': False},\n",
       " 'test_config': {'batch_size': 64, 'overwrite_cache': False},\n",
       " 'callback_config': {'tensorboard_callback': True},\n",
       " 'data_config': {'train_data_path': '/nfs/pony/chenhao/workspace/ConfigAI/data/poetry/unlabeled.jsonl',\n",
       "  'eval_data_path': '/nfs/pony/chenhao/workspace/ConfigAI/data/poetry/test.jsonl',\n",
       "  'test_data_path': '/nfs/pony/chenhao/workspace/ConfigAI/data/poetry/test.jsonl'},\n",
       " 'task_config': {'label_file_path': '/nfs/pony/chenhao/workspace/ConfigAI/data/ner/labels.txt',\n",
       "  'max_len': 60,\n",
       "  'multi_label': False,\n",
       "  'seq_label_strategy': 'BIO'}}"
      ]
     },
     "execution_count": 3,
     "metadata": {},
     "output_type": "execute_result"
    },
    {
     "name": "stderr",
     "output_type": "stream",
     "text": [
      "2021-11-23 15:45:58 [INFO][core.py:47]:init model with config:\n",
      "2021-11-23 15:45:58 [INFO][core.py:124]:initializing tokenizer with config:\n",
      "{\n",
      "    \"tokenizer_name\": \"bert_word_piece\",\n",
      "    \"tokenizer_args\": {\n",
      "        \"vocabs\": \"/nfs/pony/chenhao/pretrain/chinese_rbt4_L-4_H-768_A-12/vocab.txt\"\n",
      "    }\n",
      "}\n",
      "2021-11-23 15:45:58 [INFO][core.py:138]:tokenizer initialized with 21128 vocabs\n"
     ]
    }
   ],
   "source": [
    "config_path = \"/nfs/pony/chenhao/workspace/ConfigAI/examples/mlm/poetry_tranformer_mlm.ini\"\n",
    "\n",
    "config = read_config(config_path)\n",
    "config\n",
    "model_config = get_model_config(config)\n",
    "# model_config\n",
    "\n",
    "model = TransformerMLMModel(config=model_config)\n"
   ]
  },
  {
   "cell_type": "markdown",
   "metadata": {},
   "source": [
    "# process data"
   ]
  },
  {
   "cell_type": "code",
   "execution_count": 4,
   "metadata": {
    "ExecuteTime": {
     "end_time": "2021-11-23T07:45:59.579694Z",
     "start_time": "2021-11-23T07:45:59.538972Z"
    }
   },
   "outputs": [
    {
     "data": {
      "text/plain": [
       "'/nfs/pony/chenhao/workspace/ConfigAI/data/poetry/unlabeled.jsonl: 3 items'"
      ]
     },
     "execution_count": 4,
     "metadata": {},
     "output_type": "execute_result"
    },
    {
     "data": {
      "text/plain": [
       "'/nfs/pony/chenhao/workspace/ConfigAI/data/poetry/test.jsonl: 3 items'"
      ]
     },
     "execution_count": 4,
     "metadata": {},
     "output_type": "execute_result"
    },
    {
     "data": {
      "text/plain": [
       "'/nfs/pony/chenhao/workspace/ConfigAI/data/poetry/test.jsonl: 3 items'"
      ]
     },
     "execution_count": 4,
     "metadata": {},
     "output_type": "execute_result"
    },
    {
     "data": {
      "text/plain": [
       "MLMExample(text='白日依山尽，黄河入海流。欲穷千里目，更上一层楼。', masked_tokens=None)"
      ]
     },
     "execution_count": 4,
     "metadata": {},
     "output_type": "execute_result"
    }
   ],
   "source": [
    "train_data_path = config['data_config']['train_data_path']\n",
    "train_data = model.jload_lines(train_data_path)\n",
    "f\"{train_data_path}: {len(train_data)} items\"\n",
    "\n",
    "\n",
    "eval_data_path = config['data_config']['eval_data_path']\n",
    "eval_data = model.jload_lines(eval_data_path)\n",
    "f\"{eval_data_path}: {len(eval_data)} items\"\n",
    "\n",
    "\n",
    "test_data_path = config['data_config']['test_data_path']\n",
    "test_data = model.jload_lines(test_data_path)\n",
    "f\"{test_data_path}: {len(test_data)} items\"\n",
    "\n",
    "\n",
    "\n",
    "train_data[0]"
   ]
  },
  {
   "cell_type": "code",
   "execution_count": 5,
   "metadata": {
    "ExecuteTime": {
     "end_time": "2021-11-23T07:46:00.426790Z",
     "start_time": "2021-11-23T07:46:00.398844Z"
    }
   },
   "outputs": [],
   "source": [
    "data_manager = DataManager.get_instance(model=model, data=train_data)"
   ]
  },
  {
   "cell_type": "code",
   "execution_count": 6,
   "metadata": {
    "ExecuteTime": {
     "end_time": "2021-11-23T07:46:01.622529Z",
     "start_time": "2021-11-23T07:46:01.594712Z"
    }
   },
   "outputs": [
    {
     "data": {
      "text/plain": [
       "{'full_text': '白日依山尽，黄河入海流。欲穷千里目，更上一层楼。',\n",
       " 'text': '白日依山尽，黄河入海流。欲穷千里目，更上一层楼。',\n",
       " 'extra_text': None,\n",
       " 'token_ids': [101,\n",
       "  4635,\n",
       "  3189,\n",
       "  898,\n",
       "  2255,\n",
       "  2226,\n",
       "  8024,\n",
       "  7942,\n",
       "  3777,\n",
       "  1057,\n",
       "  3862,\n",
       "  3837,\n",
       "  511,\n",
       "  3617,\n",
       "  4956,\n",
       "  1283,\n",
       "  7027,\n",
       "  4680,\n",
       "  8024,\n",
       "  3291,\n",
       "  677,\n",
       "  671,\n",
       "  2231,\n",
       "  3517,\n",
       "  511,\n",
       "  102],\n",
       " 'segment_ids': [0,\n",
       "  0,\n",
       "  0,\n",
       "  0,\n",
       "  0,\n",
       "  0,\n",
       "  0,\n",
       "  0,\n",
       "  0,\n",
       "  0,\n",
       "  0,\n",
       "  0,\n",
       "  0,\n",
       "  0,\n",
       "  0,\n",
       "  0,\n",
       "  0,\n",
       "  0,\n",
       "  0,\n",
       "  0,\n",
       "  0,\n",
       "  0,\n",
       "  0,\n",
       "  0,\n",
       "  0,\n",
       "  0],\n",
       " 'tokens': ['[CLS]',\n",
       "  '白',\n",
       "  '日',\n",
       "  '依',\n",
       "  '山',\n",
       "  '尽',\n",
       "  '，',\n",
       "  '黄',\n",
       "  '河',\n",
       "  '入',\n",
       "  '海',\n",
       "  '流',\n",
       "  '。',\n",
       "  '欲',\n",
       "  '穷',\n",
       "  '千',\n",
       "  '里',\n",
       "  '目',\n",
       "  '，',\n",
       "  '更',\n",
       "  '上',\n",
       "  '一',\n",
       "  '层',\n",
       "  '楼',\n",
       "  '。',\n",
       "  '[SEP]'],\n",
       " 'masks': []}"
      ]
     },
     "execution_count": 6,
     "metadata": {},
     "output_type": "execute_result"
    }
   ],
   "source": [
    "features = data_manager.get_features()\n",
    "feature = next(features)\n",
    "feature"
   ]
  },
  {
   "cell_type": "code",
   "execution_count": 7,
   "metadata": {
    "ExecuteTime": {
     "end_time": "2021-11-23T07:46:02.575321Z",
     "start_time": "2021-11-23T07:46:02.545741Z"
    }
   },
   "outputs": [
    {
     "data": {
      "text/plain": [
       "{'idx': 0,\n",
       " 'full_text': '白日依山尽，黄河入海流。欲穷千里目，更上一层楼。',\n",
       " 'text': '白日依山尽，黄河入海流。欲穷千里目，更上一层楼。',\n",
       " 'extra_text': None,\n",
       " 'token_ids': [101,\n",
       "  103,\n",
       "  3189,\n",
       "  898,\n",
       "  2255,\n",
       "  2226,\n",
       "  8024,\n",
       "  7942,\n",
       "  3777,\n",
       "  1057,\n",
       "  3862,\n",
       "  3837,\n",
       "  511,\n",
       "  3617,\n",
       "  4956,\n",
       "  103,\n",
       "  7027,\n",
       "  4680,\n",
       "  8024,\n",
       "  3291,\n",
       "  677,\n",
       "  671,\n",
       "  2231,\n",
       "  103,\n",
       "  511,\n",
       "  102],\n",
       " 'segment_ids': [0,\n",
       "  0,\n",
       "  0,\n",
       "  0,\n",
       "  0,\n",
       "  0,\n",
       "  0,\n",
       "  0,\n",
       "  0,\n",
       "  0,\n",
       "  0,\n",
       "  0,\n",
       "  0,\n",
       "  0,\n",
       "  0,\n",
       "  0,\n",
       "  0,\n",
       "  0,\n",
       "  0,\n",
       "  0,\n",
       "  0,\n",
       "  0,\n",
       "  0,\n",
       "  0,\n",
       "  0,\n",
       "  0],\n",
       " 'tokens': ['[CLS]',\n",
       "  '[MASK]',\n",
       "  '日',\n",
       "  '依',\n",
       "  '山',\n",
       "  '尽',\n",
       "  '，',\n",
       "  '黄',\n",
       "  '河',\n",
       "  '入',\n",
       "  '海',\n",
       "  '流',\n",
       "  '。',\n",
       "  '欲',\n",
       "  '穷',\n",
       "  '[MASK]',\n",
       "  '里',\n",
       "  '目',\n",
       "  '，',\n",
       "  '更',\n",
       "  '上',\n",
       "  '一',\n",
       "  '层',\n",
       "  '[MASK]',\n",
       "  '。',\n",
       "  '[SEP]'],\n",
       " 'masks': [],\n",
       " 'token_output': [0,\n",
       "  4635,\n",
       "  0,\n",
       "  0,\n",
       "  0,\n",
       "  0,\n",
       "  0,\n",
       "  0,\n",
       "  0,\n",
       "  0,\n",
       "  0,\n",
       "  0,\n",
       "  0,\n",
       "  0,\n",
       "  0,\n",
       "  1283,\n",
       "  0,\n",
       "  0,\n",
       "  0,\n",
       "  0,\n",
       "  0,\n",
       "  0,\n",
       "  0,\n",
       "  3517,\n",
       "  0,\n",
       "  0],\n",
       " 'masked_tokens': [(1, '白'), (15, '千'), (23, '楼')]}"
      ]
     },
     "execution_count": 7,
     "metadata": {},
     "output_type": "execute_result"
    }
   ],
   "source": [
    "records = data_manager.get_records(mode=\"train\")\n",
    "next(records)\n",
    "\n"
   ]
  },
  {
   "cell_type": "markdown",
   "metadata": {},
   "source": [
    "# build&compile model"
   ]
  },
  {
   "cell_type": "code",
   "execution_count": 8,
   "metadata": {
    "ExecuteTime": {
     "end_time": "2021-11-23T07:46:06.648493Z",
     "start_time": "2021-11-23T07:46:04.191890Z"
    }
   },
   "outputs": [
    {
     "data": {
      "text/plain": [
       "{'pretrained_model_tag': 'bert',\n",
       " 'pretrained_model_path': '/nfs/pony/chenhao/pretrain/chinese_rbt4_L-4_H-768_A-12'}"
      ]
     },
     "execution_count": 8,
     "metadata": {},
     "output_type": "execute_result"
    },
    {
     "name": "stderr",
     "output_type": "stream",
     "text": [
      "2021-11-23 15:46:04.253620: I tensorflow/core/platform/cpu_feature_guard.cc:143] Your CPU supports instructions that this TensorFlow binary was not compiled to use: AVX2 FMA\n",
      "2021-11-23 15:46:04.264634: I tensorflow/core/platform/profile_utils/cpu_utils.cc:102] CPU Frequency: 3597740000 Hz\n",
      "2021-11-23 15:46:04.265293: I tensorflow/compiler/xla/service/service.cc:168] XLA service 0x55dc98410530 initialized for platform Host (this does not guarantee that XLA will be used). Devices:\n",
      "2021-11-23 15:46:04.265324: I tensorflow/compiler/xla/service/service.cc:176]   StreamExecutor device (0): Host, Default Version\n",
      "2021-11-23 15:46:04.434844: I tensorflow/compiler/xla/service/service.cc:168] XLA service 0x55dc984aaa40 initialized for platform CUDA (this does not guarantee that XLA will be used). Devices:\n",
      "2021-11-23 15:46:04.434873: I tensorflow/compiler/xla/service/service.cc:176]   StreamExecutor device (0): NVIDIA TITAN X (Pascal), Compute Capability 6.1\n",
      "2021-11-23 15:46:04.435894: I tensorflow/core/common_runtime/gpu/gpu_device.cc:1561] Found device 0 with properties: \n",
      "pciBusID: 0000:06:00.0 name: NVIDIA TITAN X (Pascal) computeCapability: 6.1\n",
      "coreClock: 1.531GHz coreCount: 28 deviceMemorySize: 11.91GiB deviceMemoryBandwidth: 447.48GiB/s\n",
      "2021-11-23 15:46:04.435944: I tensorflow/stream_executor/platform/default/dso_loader.cc:44] Successfully opened dynamic library libcudart.so.10.1\n",
      "2021-11-23 15:46:04.435962: I tensorflow/stream_executor/platform/default/dso_loader.cc:44] Successfully opened dynamic library libcublas.so.10\n",
      "2021-11-23 15:46:04.435978: I tensorflow/stream_executor/platform/default/dso_loader.cc:44] Successfully opened dynamic library libcufft.so.10\n",
      "2021-11-23 15:46:04.435992: I tensorflow/stream_executor/platform/default/dso_loader.cc:44] Successfully opened dynamic library libcurand.so.10\n",
      "2021-11-23 15:46:04.436007: I tensorflow/stream_executor/platform/default/dso_loader.cc:44] Successfully opened dynamic library libcusolver.so.10\n",
      "2021-11-23 15:46:04.436021: I tensorflow/stream_executor/platform/default/dso_loader.cc:44] Successfully opened dynamic library libcusparse.so.10\n",
      "2021-11-23 15:46:04.436036: I tensorflow/stream_executor/platform/default/dso_loader.cc:44] Successfully opened dynamic library libcudnn.so.7\n",
      "2021-11-23 15:46:04.437739: I tensorflow/core/common_runtime/gpu/gpu_device.cc:1703] Adding visible gpu devices: 0\n",
      "2021-11-23 15:46:04.437788: I tensorflow/stream_executor/platform/default/dso_loader.cc:44] Successfully opened dynamic library libcudart.so.10.1\n",
      "2021-11-23 15:46:04.439006: I tensorflow/core/common_runtime/gpu/gpu_device.cc:1102] Device interconnect StreamExecutor with strength 1 edge matrix:\n",
      "2021-11-23 15:46:04.439019: I tensorflow/core/common_runtime/gpu/gpu_device.cc:1108]      0 \n",
      "2021-11-23 15:46:04.439025: I tensorflow/core/common_runtime/gpu/gpu_device.cc:1121] 0:   N \n",
      "2021-11-23 15:46:04.440556: I tensorflow/core/common_runtime/gpu/gpu_device.cc:1247] Created TensorFlow device (/job:localhost/replica:0/task:0/device:GPU:0 with 9368 MB memory) -> physical GPU (device: 0, name: NVIDIA TITAN X (Pascal), pci bus id: 0000:06:00.0, compute capability: 6.1)\n",
      "2021-11-23 15:46:04 [INFO][mirrored_strategy.py:500]:Using MirroredStrategy with devices ('/job:localhost/replica:0/task:0/device:GPU:0',)\n",
      "2021-11-23 15:46:04 [INFO][tf_core.py:126]:number of devices: 1, use SINGLE scope\n",
      "2021-11-23 15:46:04 [INFO][nn_models.py:93]:loading from pretrained weights: /nfs/pony/chenhao/pretrain/chinese_rbt4_L-4_H-768_A-12/model.ckpt\n",
      "2021-11-23 15:46:06 [INFO][transformer_mlm.py:52]:nn model's summary:\n",
      "2021-11-23 15:46:06 [INFO][layer_utils.py:192]:Model: \"lml_model\"\n",
      "2021-11-23 15:46:06 [INFO][layer_utils.py:193]:__________________________________________________________________________________________________\n",
      "2021-11-23 15:46:06 [INFO][layer_utils.py:190]:Layer (type)                    Output Shape         Param #     Connected to                     \n",
      "2021-11-23 15:46:06 [INFO][layer_utils.py:195]:==================================================================================================\n",
      "2021-11-23 15:46:06 [INFO][layer_utils.py:190]:token_ids (InputLayer)          [(None, None)]       0                                            \n",
      "2021-11-23 15:46:06 [INFO][layer_utils.py:259]:__________________________________________________________________________________________________\n",
      "2021-11-23 15:46:06 [INFO][layer_utils.py:190]:segment_ids (InputLayer)        [(None, None)]       0                                            \n",
      "2021-11-23 15:46:06 [INFO][layer_utils.py:259]:__________________________________________________________________________________________________\n",
      "2021-11-23 15:46:06 [INFO][layer_utils.py:190]:model (Model)                   (None, None, 21128)  45587336    token_ids[0][0]                  \n",
      "2021-11-23 15:46:06 [INFO][layer_utils.py:190]:                                                                 segment_ids[0][0]                \n",
      "2021-11-23 15:46:06 [INFO][layer_utils.py:257]:==================================================================================================\n",
      "2021-11-23 15:46:06 [INFO][layer_utils.py:268]:Total params: 45,587,336\n",
      "2021-11-23 15:46:06 [INFO][layer_utils.py:269]:Trainable params: 45,587,336\n",
      "2021-11-23 15:46:06 [INFO][layer_utils.py:270]:Non-trainable params: 0\n",
      "2021-11-23 15:46:06 [INFO][layer_utils.py:271]:__________________________________________________________________________________________________\n"
     ]
    },
    {
     "data": {
      "text/plain": [
       "<tensorflow.python.keras.engine.training.Model at 0x7f6b700bef10>"
      ]
     },
     "execution_count": 8,
     "metadata": {},
     "output_type": "execute_result"
    }
   ],
   "source": [
    "nn_model_args = dict(**config[\"nn_model_config\"])\n",
    "nn_model_args\n",
    "\n",
    "model.build_model(**nn_model_args)\n",
    "\n"
   ]
  },
  {
   "cell_type": "code",
   "execution_count": 9,
   "metadata": {
    "ExecuteTime": {
     "end_time": "2021-11-23T07:46:10.259817Z",
     "start_time": "2021-11-23T07:46:09.825921Z"
    }
   },
   "outputs": [
    {
     "data": {
      "text/plain": [
       "{'optimizer_name': 'adam', 'optimizer_args': {'learning_rate': 3e-05}}"
      ]
     },
     "execution_count": 9,
     "metadata": {},
     "output_type": "execute_result"
    },
    {
     "name": "stderr",
     "output_type": "stream",
     "text": [
      "2021-11-23 15:46:09 [INFO][transformer_mlm.py:59]:compiling model...\n",
      "2021-11-23 15:46:09 [INFO][tf_core.py:126]:number of devices: 1, use SINGLE scope\n",
      "2021-11-23 15:46:09 [INFO][losses.py:101]:build loss layer with loss function:<function sparse_categorical_crossentropy at 0x7f6ba7527dc0>\n",
      "2021-11-23 15:46:10 [INFO][transformer_mlm.py:78]:training model's summary:\n",
      "2021-11-23 15:46:10 [INFO][layer_utils.py:192]:Model: \"train_model\"\n",
      "2021-11-23 15:46:10 [INFO][layer_utils.py:193]:__________________________________________________________________________________________________\n",
      "2021-11-23 15:46:10 [INFO][layer_utils.py:190]:Layer (type)                    Output Shape         Param #     Connected to                     \n",
      "2021-11-23 15:46:10 [INFO][layer_utils.py:195]:==================================================================================================\n",
      "2021-11-23 15:46:10 [INFO][layer_utils.py:190]:token_ids (InputLayer)          [(None, None)]       0                                            \n",
      "2021-11-23 15:46:10 [INFO][layer_utils.py:259]:__________________________________________________________________________________________________\n",
      "2021-11-23 15:46:10 [INFO][layer_utils.py:190]:segment_ids (InputLayer)        [(None, None)]       0                                            \n",
      "2021-11-23 15:46:10 [INFO][layer_utils.py:259]:__________________________________________________________________________________________________\n",
      "2021-11-23 15:46:10 [INFO][layer_utils.py:190]:token_output (InputLayer)       [(None, None)]       0                                            \n",
      "2021-11-23 15:46:10 [INFO][layer_utils.py:259]:__________________________________________________________________________________________________\n",
      "2021-11-23 15:46:10 [INFO][layer_utils.py:190]:model (Model)                   (None, None, 21128)  45587336    token_ids[0][0]                  \n",
      "2021-11-23 15:46:10 [INFO][layer_utils.py:190]:                                                                 segment_ids[0][0]                \n",
      "2021-11-23 15:46:10 [INFO][layer_utils.py:259]:__________________________________________________________________________________________________\n",
      "2021-11-23 15:46:10 [INFO][layer_utils.py:190]:pred_mask (Lambda)              (None, None)         0           token_output[0][0]               \n",
      "2021-11-23 15:46:10 [INFO][layer_utils.py:259]:__________________________________________________________________________________________________\n",
      "2021-11-23 15:46:10 [INFO][layer_utils.py:190]:loss_layer (LossLayer)          ()                   0           token_output[0][0]               \n",
      "2021-11-23 15:46:10 [INFO][layer_utils.py:190]:                                                                 model[1][0]                      \n",
      "2021-11-23 15:46:10 [INFO][layer_utils.py:190]:                                                                 pred_mask[0][0]                  \n",
      "2021-11-23 15:46:10 [INFO][layer_utils.py:259]:__________________________________________________________________________________________________\n",
      "2021-11-23 15:46:10 [INFO][layer_utils.py:190]:add_loss (AddLoss)              ()                   0           loss_layer[0][0]                 \n",
      "2021-11-23 15:46:10 [INFO][layer_utils.py:259]:__________________________________________________________________________________________________\n",
      "2021-11-23 15:46:10 [INFO][layer_utils.py:190]:metric_layer (MetricLayer)      ()                   0           token_output[0][0]               \n",
      "2021-11-23 15:46:10 [INFO][layer_utils.py:190]:                                                                 model[1][0]                      \n",
      "2021-11-23 15:46:10 [INFO][layer_utils.py:190]:                                                                 pred_mask[0][0]                  \n",
      "2021-11-23 15:46:10 [INFO][layer_utils.py:259]:__________________________________________________________________________________________________\n",
      "2021-11-23 15:46:10 [INFO][layer_utils.py:190]:add_metric (AddMetric)          ()                   0           metric_layer[0][0]               \n",
      "2021-11-23 15:46:10 [INFO][layer_utils.py:257]:==================================================================================================\n",
      "2021-11-23 15:46:10 [INFO][layer_utils.py:268]:Total params: 45,587,336\n",
      "2021-11-23 15:46:10 [INFO][layer_utils.py:269]:Trainable params: 45,587,336\n",
      "2021-11-23 15:46:10 [INFO][layer_utils.py:270]:Non-trainable params: 0\n",
      "2021-11-23 15:46:10 [INFO][layer_utils.py:271]:__________________________________________________________________________________________________\n"
     ]
    }
   ],
   "source": [
    "compile_args = dict(**config[\"compile_config\"])\n",
    "# compile_args.update(rdrop_alpha=4)\n",
    "compile_args\n",
    "model.compile_model(**compile_args)\n"
   ]
  },
  {
   "cell_type": "code",
   "execution_count": 10,
   "metadata": {
    "ExecuteTime": {
     "end_time": "2021-11-23T07:46:12.467517Z",
     "start_time": "2021-11-23T07:46:12.432105Z"
    }
   },
   "outputs": [
    {
     "data": {
      "text/plain": [
       "[<tf.Tensor 'token_ids:0' shape=(None, None) dtype=int32>,\n",
       " <tf.Tensor 'segment_ids:0' shape=(None, None) dtype=int32>,\n",
       " <tf.Tensor 'token_output:0' shape=(None, None) dtype=int32>]"
      ]
     },
     "execution_count": 10,
     "metadata": {},
     "output_type": "execute_result"
    },
    {
     "data": {
      "text/plain": [
       "[<tf.Tensor 'model/Identity:0' shape=(None, None, 21128) dtype=float32>]"
      ]
     },
     "execution_count": 10,
     "metadata": {},
     "output_type": "execute_result"
    },
    {
     "data": {
      "text/plain": [
       "[<tf.Tensor 'loss_layer/Identity:0' shape=() dtype=float32>]"
      ]
     },
     "execution_count": 10,
     "metadata": {},
     "output_type": "execute_result"
    },
    {
     "data": {
      "text/plain": [
       "[<tensorflow.python.keras.metrics.Mean at 0x7f6b5c6531c0>]"
      ]
     },
     "execution_count": 10,
     "metadata": {},
     "output_type": "execute_result"
    }
   ],
   "source": [
    "model.train_model.inputs\n",
    "model.train_model.outputs\n",
    "model.train_model.losses\n",
    "model.train_model.metrics\n"
   ]
  },
  {
   "cell_type": "code",
   "execution_count": 11,
   "metadata": {
    "ExecuteTime": {
     "end_time": "2021-11-23T07:46:13.426683Z",
     "start_time": "2021-11-23T07:46:13.395904Z"
    }
   },
   "outputs": [
    {
     "data": {
      "text/plain": [
       "({'token_ids': 'int32', 'segment_ids': 'int32', 'token_output': 'int32'},\n",
       " {'token_ids': (None,), 'segment_ids': (None,), 'token_output': (None,)})"
      ]
     },
     "execution_count": 11,
     "metadata": {},
     "output_type": "execute_result"
    },
    {
     "data": {
      "text/plain": [
       "({'token_ids': 'int32', 'segment_ids': 'int32'},\n",
       " {'token_ids': (None,), 'segment_ids': (None,)})"
      ]
     },
     "execution_count": 11,
     "metadata": {},
     "output_type": "execute_result"
    }
   ],
   "source": [
    "model.get_dataset_info(\"train\")\n",
    "model.get_dataset_info(\"test\")"
   ]
  },
  {
   "cell_type": "code",
   "execution_count": 12,
   "metadata": {
    "ExecuteTime": {
     "end_time": "2021-11-23T07:46:14.334788Z",
     "start_time": "2021-11-23T07:46:14.223863Z"
    }
   },
   "outputs": [
    {
     "data": {
      "text/plain": [
       "{'token_ids': array([[ 101,  103, 3189,  898, 2255, 2226, 8024, 7942, 3777, 1057, 3862,\n",
       "         3837,  511, 3617, 4956, 1283, 7027, 4680,  103, 3291,  677,  671,\n",
       "         2231, 3517,  511,  102]], dtype=int32),\n",
       " 'segment_ids': array([[0, 0, 0, 0, 0, 0, 0, 0, 0, 0, 0, 0, 0, 0, 0, 0, 0, 0, 0, 0, 0, 0,\n",
       "         0, 0, 0, 0]], dtype=int32),\n",
       " 'token_output': array([[   0, 4635,    0,    0,    0,    0,    0,    0,    0,    0, 3862,\n",
       "            0,    0,    0,    0,    0,    0,    0, 8024,    0,    0,    0,\n",
       "            0,    0,    0,    0]], dtype=int32)}"
      ]
     },
     "execution_count": 12,
     "metadata": {},
     "output_type": "execute_result"
    }
   ],
   "source": [
    "dataset = data_manager.get_train_dataset(batch_size=1)\n",
    "\n",
    "item = next(dataset.as_numpy_iterator())\n",
    "item\n"
   ]
  },
  {
   "cell_type": "markdown",
   "metadata": {},
   "source": [
    "# train_model"
   ]
  },
  {
   "cell_type": "code",
   "execution_count": 13,
   "metadata": {
    "ExecuteTime": {
     "end_time": "2021-11-23T07:47:14.773822Z",
     "start_time": "2021-11-23T07:46:15.677163Z"
    },
    "scrolled": true
   },
   "outputs": [
    {
     "data": {
      "text/plain": [
       "{'epochs': 5,\n",
       " 'batch_size': 8,\n",
       " 'overwrite_cache': False,\n",
       " 'steps_per_epoch': 100,\n",
       " 'verbose': 1}"
      ]
     },
     "execution_count": 13,
     "metadata": {},
     "output_type": "execute_result"
    },
    {
     "name": "stderr",
     "output_type": "stream",
     "text": [
      "100%|██████████| 3/3 [00:00<00:00, 3552.49it/s]\n",
      "2021-11-23 15:46:15 [INFO][tf_core.py:173]:train on 3 tensors\n"
     ]
    },
    {
     "name": "stdout",
     "output_type": "stream",
     "text": [
      "Epoch 1/5\n"
     ]
    },
    {
     "name": "stderr",
     "output_type": "stream",
     "text": [
      "/nfs/pony/chenhao/envs/config_ai/lib/python3.8/site-packages/tensorflow/python/framework/indexed_slices.py:433: UserWarning: Converting sparse IndexedSlices to a dense Tensor of unknown shape. This may consume a large amount of memory.\n",
      "  warnings.warn(\n",
      "2021-11-23 15:46:20.277583: I tensorflow/stream_executor/platform/default/dso_loader.cc:44] Successfully opened dynamic library libcublas.so.10\n"
     ]
    },
    {
     "name": "stdout",
     "output_type": "stream",
     "text": [
      "100/100 [==============================] - 11s 110ms/step - loss: 1.2567 - accuracy: 0.7906\n",
      "Epoch 2/5\n",
      "100/100 [==============================] - 11s 106ms/step - loss: 0.0553 - accuracy: 0.9868\n",
      "Epoch 3/5\n",
      "100/100 [==============================] - 11s 105ms/step - loss: 0.0179 - accuracy: 0.9966\n",
      "Epoch 4/5\n",
      "100/100 [==============================] - 11s 107ms/step - loss: 0.0230 - accuracy: 0.9940\n",
      "Epoch 5/5\n",
      "100/100 [==============================] - 11s 108ms/step - loss: 0.0084 - accuracy: 0.9992\n"
     ]
    },
    {
     "name": "stderr",
     "output_type": "stream",
     "text": [
      "2021-11-23 15:47:14 [INFO][tf_core.py:189]:training finished\n"
     ]
    }
   ],
   "source": [
    "train_args = dict(**config[\"train_config\"])\n",
    "train_args.update(steps_per_epoch=100, batch_size=8, verbose=1)\n",
    "train_args\n",
    "\n",
    "model.train(train_data=train_data, **train_args)"
   ]
  },
  {
   "cell_type": "markdown",
   "metadata": {},
   "source": [
    "# predict&evaluate"
   ]
  },
  {
   "cell_type": "code",
   "execution_count": 14,
   "metadata": {
    "ExecuteTime": {
     "end_time": "2021-11-23T07:47:17.707482Z",
     "start_time": "2021-11-23T07:47:17.490432Z"
    }
   },
   "outputs": [
    {
     "data": {
      "text/plain": [
       "[MLMExample(text='白日依山尽，黄[MASK]入海流。欲穷千里目，更上一层楼。', masked_tokens=['河']),\n",
       " MLMExample(text='床前明月光，疑是[MASK][MASK]霜。举头望明月，低头思故[MASK]。', masked_tokens=['地', '上', '乡']),\n",
       " MLMExample(text='日照香炉生紫烟，遥望瀑布挂前川。飞流直下三千尺[MASK][MASK]是银河落九天。', masked_tokens=['，', '疑'])]"
      ]
     },
     "execution_count": 14,
     "metadata": {},
     "output_type": "execute_result"
    },
    {
     "name": "stderr",
     "output_type": "stream",
     "text": [
      "100%|██████████| 3/3 [00:00<00:00, 2266.78it/s]\n",
      "2021-11-23 15:47:17 [INFO][tf_core.py:204]:predicting with tf model...\n",
      "1it [00:00,  7.24it/s]\n",
      "2021-11-23 15:47:17 [INFO][decorators.py:28]:function:_model_predict cost:0.140 seconds\n",
      "2021-11-23 15:47:17 [INFO][decorators.py:28]:function:_post_predict cost:0.008 seconds\n"
     ]
    },
    {
     "data": {
      "text/plain": [
       "[['河'], ['地', '上', '乡'], ['，', '疑']]"
      ]
     },
     "execution_count": 14,
     "metadata": {},
     "output_type": "execute_result"
    }
   ],
   "source": [
    "to_pred = test_data[:4]\n",
    "to_pred\n",
    "\n",
    "pred = model.predict(to_pred, show_detail=True)\n",
    "pred[:4]\n"
   ]
  },
  {
   "cell_type": "code",
   "execution_count": 16,
   "metadata": {
    "ExecuteTime": {
     "end_time": "2021-11-23T07:47:50.059654Z",
     "start_time": "2021-11-23T07:47:50.031773Z"
    }
   },
   "outputs": [
    {
     "data": {
      "text/plain": [
       "[{'text': '白日依山尽，黄[MASK]入海流。欲穷千里目，更上一层楼。',\n",
       "  'masked_tokens': ['河'],\n",
       "  'predict': ['河'],\n",
       "  'accuracy': 1.0},\n",
       " {'text': '床前明月光，疑是[MASK][MASK]霜。举头望明月，低头思故[MASK]。',\n",
       "  'masked_tokens': ['地', '上', '乡'],\n",
       "  'predict': ['地', '上', '乡'],\n",
       "  'accuracy': 1.0},\n",
       " {'text': '日照香炉生紫烟，遥望瀑布挂前川。飞流直下三千尺[MASK][MASK]是银河落九天。',\n",
       "  'masked_tokens': ['，', '疑'],\n",
       "  'predict': ['，', '疑'],\n",
       "  'accuracy': 1.0}]"
      ]
     },
     "execution_count": 16,
     "metadata": {},
     "output_type": "execute_result"
    }
   ],
   "source": [
    "output_data = get_mlm_output(to_pred, pred)\n",
    "output_data[:4]"
   ]
  },
  {
   "cell_type": "code",
   "execution_count": 19,
   "metadata": {
    "ExecuteTime": {
     "end_time": "2021-11-23T07:48:23.572592Z",
     "start_time": "2021-11-23T07:48:23.160851Z"
    }
   },
   "outputs": [
    {
     "data": {
      "text/plain": [
       "{'item_num': 3, 'token_num': 6, 'accurate_token_num': 6, 'accuracy': 1.0}"
      ]
     },
     "execution_count": 19,
     "metadata": {},
     "output_type": "execute_result"
    }
   ],
   "source": [
    "true_labels = [e.masked_tokens for e in to_pred]\n",
    "eval_rs = eval_mlm(true_labels, pred)\n",
    "eval_rs"
   ]
  },
  {
   "cell_type": "markdown",
   "metadata": {},
   "source": [
    "# save&load"
   ]
  },
  {
   "cell_type": "code",
   "execution_count": 20,
   "metadata": {
    "ExecuteTime": {
     "end_time": "2021-11-23T07:48:31.779821Z",
     "start_time": "2021-11-23T07:48:29.840929Z"
    }
   },
   "outputs": [
    {
     "data": {
      "text/plain": [
       "{'format': 'h5'}"
      ]
     },
     "execution_count": 20,
     "metadata": {},
     "output_type": "execute_result"
    },
    {
     "data": {
      "text/plain": [
       "'/nfs/pony/chenhao/experiment/config_ai_example/transformer_mlm_example/model'"
      ]
     },
     "execution_count": 20,
     "metadata": {},
     "output_type": "execute_result"
    },
    {
     "name": "stderr",
     "output_type": "stream",
     "text": [
      "2021-11-23 15:48:29 [INFO][core.py:79]:saving model to /nfs/pony/chenhao/experiment/config_ai_example/transformer_mlm_example/model\n",
      "2021-11-23 15:48:29 [INFO][tf_core.py:55]:saving keras model to path:/nfs/pony/chenhao/experiment/config_ai_example/transformer_mlm_example/model/nn_model/nn_model.h5\n",
      "2021-11-23 15:48:31 [INFO][core.py:144]:save model done\n"
     ]
    }
   ],
   "source": [
    "model_path = os.path.join(config[\"common_config\"][\"experiment_dir\"],\n",
    "                          config[\"common_config\"][\"project_name\"],\n",
    "                          config[\"common_config\"][\"model_name\"],\"model\")\n",
    "\n",
    "save_args = dict(**config[\"common_config\"][\"save_args\"])\n",
    "del save_args[\"tf_serving_version\"]\n",
    "\n",
    "save_args\n",
    "model_path\n",
    "\n",
    "\n",
    "model.save(path=model_path, **save_args)\n",
    "\n",
    "\n"
   ]
  },
  {
   "cell_type": "code",
   "execution_count": null,
   "metadata": {
    "ExecuteTime": {
     "start_time": "2021-11-23T07:48:33.639Z"
    }
   },
   "outputs": [
    {
     "name": "stderr",
     "output_type": "stream",
     "text": [
      "2021-11-23 15:48:34 [INFO][core.py:90]:loading model from path:/nfs/pony/chenhao/experiment/config_ai_example/transformer_mlm_example/model\n",
      "2021-11-23 15:48:34 [INFO][core.py:47]:init model with config:\n",
      "2021-11-23 15:48:34 [INFO][core.py:124]:initializing tokenizer with config:\n",
      "{\n",
      "    \"tokenizer_name\": \"bert_word_piece\",\n",
      "    \"tokenizer_args\": {\n",
      "        \"vocabs\": \"/nfs/pony/chenhao/pretrain/chinese_rbt4_L-4_H-768_A-12/vocab.txt\"\n",
      "    }\n",
      "}\n",
      "2021-11-23 15:48:34 [INFO][core.py:138]:tokenizer initialized with 21128 vocabs\n",
      "2021-11-23 15:48:34 [INFO][tf_core.py:157]:loading keras model from path:/nfs/pony/chenhao/experiment/config_ai_example/transformer_mlm_example/model/nn_model/nn_model.h5 with format:h5\n"
     ]
    }
   ],
   "source": [
    "loaded_model = load_model(path=model_path)\n",
    "loaded_model"
   ]
  },
  {
   "cell_type": "code",
   "execution_count": 20,
   "metadata": {
    "ExecuteTime": {
     "end_time": "2021-11-22T07:05:23.210486Z",
     "start_time": "2021-11-22T07:05:23.143440Z"
    }
   },
   "outputs": [
    {
     "name": "stderr",
     "output_type": "stream",
     "text": [
      "100%|██████████| 3/3 [00:00<00:00, 11285.12it/s]\n",
      "2021-11-22 15:05:23 [INFO][tf_core.py:204]:predicting with tf model...\n",
      "2021-11-22 15:05:23 [INFO][decorators.py:28]:function:_model_predict cost:0.036 seconds\n",
      "2021-11-22 15:05:23 [INFO][decorators.py:28]:function:_post_predict cost:0.001 seconds\n"
     ]
    },
    {
     "data": {
      "text/plain": [
       "[Label(name='正向', prob=0.9998229146003723),\n",
       " Label(name='负向', prob=0.9997743964195251),\n",
       " Label(name='中性', prob=0.9997645020484924)]"
      ]
     },
     "execution_count": 20,
     "metadata": {},
     "output_type": "execute_result"
    }
   ],
   "source": [
    "loaded_pred = loaded_model.predict(data=to_pred)\n",
    "loaded_pred"
   ]
  },
  {
   "cell_type": "code",
   "execution_count": null,
   "metadata": {},
   "outputs": [],
   "source": []
  }
 ],
 "metadata": {
  "hide_input": false,
  "kernelspec": {
   "display_name": "config_ai",
   "language": "python",
   "name": "config_ai"
  },
  "language_info": {
   "codemirror_mode": {
    "name": "ipython",
    "version": 3
   },
   "file_extension": ".py",
   "mimetype": "text/x-python",
   "name": "python",
   "nbconvert_exporter": "python",
   "pygments_lexer": "ipython3",
   "version": "3.8.12"
  },
  "toc": {
   "base_numbering": 1,
   "nav_menu": {},
   "number_sections": true,
   "sideBar": true,
   "skip_h1_title": false,
   "title_cell": "Table of Contents",
   "title_sidebar": "Contents",
   "toc_cell": false,
   "toc_position": {},
   "toc_section_display": true,
   "toc_window_display": false
  },
  "varInspector": {
   "cols": {
    "lenName": 16,
    "lenType": 16,
    "lenVar": 40
   },
   "kernels_config": {
    "python": {
     "delete_cmd_postfix": "",
     "delete_cmd_prefix": "del ",
     "library": "var_list.py",
     "varRefreshCmd": "print(var_dic_list())"
    },
    "r": {
     "delete_cmd_postfix": ") ",
     "delete_cmd_prefix": "rm(",
     "library": "var_list.r",
     "varRefreshCmd": "cat(var_dic_list()) "
    }
   },
   "position": {
    "height": "508px",
    "left": "1088px",
    "right": "20px",
    "top": "120px",
    "width": "333px"
   },
   "types_to_exclude": [
    "module",
    "function",
    "builtin_function_or_method",
    "instance",
    "_Feature"
   ],
   "window_display": false
  }
 },
 "nbformat": 4,
 "nbformat_minor": 4
}
