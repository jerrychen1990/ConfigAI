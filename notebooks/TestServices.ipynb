{
 "cells": [
  {
   "cell_type": "code",
   "execution_count": 1,
   "metadata": {
    "ExecuteTime": {
     "end_time": "2021-08-04T07:42:03.909396Z",
     "start_time": "2021-08-04T07:41:48.429774Z"
    }
   },
   "outputs": [
    {
     "name": "stdout",
     "output_type": "stream",
     "text": [
      "The autoreload extension is already loaded. To reload it, use:\n",
      "  %reload_ext autoreload\n"
     ]
    },
    {
     "name": "stderr",
     "output_type": "stream",
     "text": [
      "2021-08-04 15:42:02 [INFO][backend.py:57]:setting tensorflow config...\n",
      "2021-08-04 15:42:03 [INFO][backend.py:61]:current devices:\n",
      "2021-08-04 15:42:03 [INFO][backend.py:62]:cpus:[PhysicalDevice(name='/physical_device:CPU:0', device_type='CPU')]\n",
      "2021-08-04 15:42:03 [INFO][backend.py:63]:gpus:[PhysicalDevice(name='/physical_device:GPU:0', device_type='GPU')]\n",
      "2021-08-04 15:42:03 [INFO][backend.py:64]:setting gpu memory allow growth...\n",
      "2021-08-04 15:42:03 [INFO][backend.py:67]:setting soft device placement...\n"
     ]
    }
   ],
   "source": [
    "%load_ext autoreload\n",
    "%autoreload 2\n",
    "import os\n",
    "import sys\n",
    "# sys.path\n",
    "\n",
    "from ai_schema import *\n",
    "from ai_schema.euler import *\n",
    "from config_ai.services import *\n",
    "from config_ai.backend import set_tf_config\n",
    "os.environ[\"CUDA_VISIBLE_DEVICES\"] = \"2\"\n",
    "set_tf_config()\n"
   ]
  },
  {
   "cell_type": "markdown",
   "metadata": {},
   "source": [
    "# Test TextClassify"
   ]
  },
  {
   "cell_type": "code",
   "execution_count": 2,
   "metadata": {
    "ExecuteTime": {
     "end_time": "2021-07-21T08:21:37.205828Z",
     "start_time": "2021-07-21T08:21:34.527123Z"
    }
   },
   "outputs": [
    {
     "name": "stderr",
     "output_type": "stream",
     "text": [
      "2021-07-21 16:21:34 [INFO][oss_utils.py:46]:get bucket:modelzoo\n",
      "2021-07-21 16:21:34 [INFO][core.py:89]:loading model from path:/nfs/pony/chenhao/workspace/ConfigAI/notebooks/experiment/test/tf_text_classify_model/model\n",
      "2021-07-21 16:21:34 [INFO][core.py:46]:init model with config:\n",
      "2021-07-21 16:21:34 [INFO][core.py:49]:{\n",
      "    \"tokenizer_config\": {\n",
      "        \"tokenizer_name\": \"bert_word_piece\",\n",
      "        \"tokenizer_args\": {\n",
      "            \"vocabs\": \"/nfs/pony/chenhao/pretrain/chinese_rbt4_L-4_H-768_A-12/vocab.txt\"\n",
      "        }\n",
      "    },\n",
      "    \"task_config\": {\n",
      "        \"label_file_path\": \"/nfs/pony/chenhao/data/clue/afqmc/labels.txt\",\n",
      "        \"max_len\": 128,\n",
      "        \"multi_label\": false\n",
      "    },\n",
      "    \"model_name\": \"tf_text_classify_model\",\n",
      "    \"model_cls\": \"TFTextClassifyModel\",\n",
      "    \"model_dict\": {\n",
      "        \"test\": {\n",
      "            \"model\": \"nn_model\",\n",
      "            \"type_info\": {\n",
      "                \"token_ids\": \"int32\",\n",
      "                \"segment_ids\": \"int32\"\n",
      "            },\n",
      "            \"shape_info\": {\n",
      "                \"token_ids\": [\n",
      "                    null\n",
      "                ],\n",
      "                \"segment_ids\": [\n",
      "                    null\n",
      "                ]\n",
      "            }\n",
      "        },\n",
      "        \"train\": {\n",
      "            \"model\": \"train_model\",\n",
      "            \"type_info\": {\n",
      "                \"token_ids\": \"int32\",\n",
      "                \"segment_ids\": \"int32\",\n",
      "                \"classify_output\": \"int32\"\n",
      "            },\n",
      "            \"shape_info\": {\n",
      "                \"token_ids\": [\n",
      "                    null\n",
      "                ],\n",
      "                \"segment_ids\": [\n",
      "                    null\n",
      "                ],\n",
      "                \"classify_output\": []\n",
      "            }\n",
      "        }\n",
      "    }\n",
      "}\n",
      "2021-07-21 16:21:34 [INFO][core.py:142]:initializing tokenizer\n",
      "2021-07-21 16:21:34 [INFO][tf_core.py:158]:loading keras model from path:/nfs/pony/chenhao/workspace/ConfigAI/notebooks/experiment/test/tf_text_classify_model/model/nn_model/nn_model.h5 with format:h5\n",
      "2021-07-21 16:21:37 [INFO][layer_utils.py:192]:Model: \"nn_model\"\n",
      "2021-07-21 16:21:37 [INFO][layer_utils.py:193]:__________________________________________________________________________________________________\n",
      "2021-07-21 16:21:37 [INFO][layer_utils.py:190]:Layer (type)                    Output Shape         Param #     Connected to                     \n",
      "2021-07-21 16:21:37 [INFO][layer_utils.py:195]:==================================================================================================\n",
      "2021-07-21 16:21:37 [INFO][layer_utils.py:190]:token_ids (InputLayer)          [(None, None)]       0                                            \n",
      "2021-07-21 16:21:37 [INFO][layer_utils.py:259]:__________________________________________________________________________________________________\n",
      "2021-07-21 16:21:37 [INFO][layer_utils.py:190]:segment_ids (InputLayer)        [(None, None)]       0                                            \n",
      "2021-07-21 16:21:37 [INFO][layer_utils.py:259]:__________________________________________________________________________________________________\n",
      "2021-07-21 16:21:37 [INFO][layer_utils.py:190]:model_4 (Model)                 (None, None, 768)    44974080    token_ids[0][0]                  \n",
      "2021-07-21 16:21:37 [INFO][layer_utils.py:190]:                                                                 segment_ids[0][0]                \n",
      "2021-07-21 16:21:37 [INFO][layer_utils.py:259]:__________________________________________________________________________________________________\n",
      "2021-07-21 16:21:37 [INFO][layer_utils.py:190]:cls_layer (Lambda)              (None, 768)          0           model_4[1][0]                    \n",
      "2021-07-21 16:21:37 [INFO][layer_utils.py:259]:__________________________________________________________________________________________________\n",
      "2021-07-21 16:21:37 [INFO][layer_utils.py:190]:classifier (Dense)              (None, 2)            1538        cls_layer[0][0]                  \n",
      "2021-07-21 16:21:37 [INFO][layer_utils.py:257]:==================================================================================================\n",
      "2021-07-21 16:21:37 [INFO][layer_utils.py:268]:Total params: 44,975,618\n",
      "2021-07-21 16:21:37 [INFO][layer_utils.py:269]:Trainable params: 44,975,618\n",
      "2021-07-21 16:21:37 [INFO][layer_utils.py:270]:Non-trainable params: 0\n",
      "2021-07-21 16:21:37 [INFO][layer_utils.py:271]:__________________________________________________________________________________________________\n"
     ]
    },
    {
     "data": {
      "text/plain": [
       "<config_ai.services.text_classify.TextClassifyService at 0x7f11a57affd0>"
      ]
     },
     "execution_count": 2,
     "metadata": {},
     "output_type": "execute_result"
    }
   ],
   "source": [
    "args = {\n",
    "    \"model_path\": \"/nfs/pony/chenhao/workspace/ConfigAI/notebooks/experiment/test/tf_text_classify_model/model\",\n",
    "    \"load_nn_model\": True\n",
    "}\n",
    "text_classify_service = TextClassifyService(**args)\n",
    "text_classify_service\n"
   ]
  },
  {
   "cell_type": "code",
   "execution_count": 3,
   "metadata": {
    "ExecuteTime": {
     "end_time": "2021-07-21T08:21:40.174900Z",
     "start_time": "2021-07-21T08:21:38.905531Z"
    }
   },
   "outputs": [
    {
     "name": "stderr",
     "output_type": "stream",
     "text": [
      "2021-07-21 16:21:38 [INFO][core.py:141]:predicting 2 item with args:{}\n",
      "2021-07-21 16:21:38 [INFO][core.py:52]:[ServiceInfo]{\"event\": \"REQUEST\", \"data\": {\"examples\": [{\"text\": \"这首歌很不错\", \"extra_text\": null}, {\"text\": \"这首歌很不错\", \"extra_text\": \"那首歌也很不错\"}]}, \"model_name\": \"tf_text_classify_model\"}\n",
      "2021-07-21 16:21:38 [INFO][text_classify.py:28]:[TextClassifyExample(text='这首歌很不错', extra_text=None), TextClassifyExample(text='这首歌很不错', extra_text='那首歌也很不错')]\n",
      "2021-07-21 16:21:38 [INFO][tf_core.py:228]:predicting with kwargs:\n",
      "2021-07-21 16:21:38 [INFO][tf_core.py:229]:{\n",
      "    \"batch_size\": 32,\n",
      "    \"show_detail\": false,\n",
      "    \"max_pred_num\": null\n",
      "}\n",
      "2021-07-21 16:21:38 [INFO][data_utils.py:177]:storing features to memory\n",
      "100%|██████████| 2/2 [00:00<00:00, 3435.14it/s]\n",
      "2021-07-21 16:21:39 [INFO][utils.py:101]:function:_pre_process cost:0.039 seconds\n",
      "2021-07-21 16:21:39 [INFO][tf_core.py:204]:predicting with tf model...\n",
      "2021-07-21 16:21:39 [INFO][data_utils.py:183]:load features from memory\n",
      "2021-07-21 16:21:40 [INFO][utils.py:101]:function:_model_predict cost:1.149 seconds\n",
      "2021-07-21 16:21:40 [INFO][utils.py:101]:function:_post_predict cost:0.001 seconds\n",
      "2021-07-21 16:21:40 [INFO][core.py:52]:[ServiceInfo]{\"event\": \"RESPONSE\", \"data\": {\"predicts\": [{\"name\": \"1\", \"prob\": 0.5128539204597473}, {\"name\": \"0\", \"prob\": 0.6061959862709045}], \"trace_id\": \"e08075229af95542d97222a7eeb4cd5b\", \"model_name\": \"tf_text_classify_model\", \"debug_info\": {}}, \"model_name\": \"tf_text_classify_model\"}\n"
     ]
    },
    {
     "data": {
      "text/plain": [
       "{'predicts': [{'name': '1', 'prob': 0.5128539204597473},\n",
       "  {'name': '0', 'prob': 0.6061959862709045}],\n",
       " 'trace_id': 'e08075229af95542d97222a7eeb4cd5b',\n",
       " 'model_name': 'tf_text_classify_model',\n",
       " 'debug_info': {}}"
      ]
     },
     "execution_count": 3,
     "metadata": {},
     "output_type": "execute_result"
    },
    {
     "data": {
      "text/plain": [
       "EulerOutput(predicts=[Label(name='1', prob=0.5128539204597473), Label(name='0', prob=0.6061959862709045)], trace_id='e08075229af95542d97222a7eeb4cd5b', model_name='tf_text_classify_model', debug_info={})"
      ]
     },
     "execution_count": 3,
     "metadata": {},
     "output_type": "execute_result"
    }
   ],
   "source": [
    "text_classify_input = {\n",
    "    \"examples\":[\n",
    "        {\"text\":\"这首歌很不错\"},\n",
    "        {\"text\":\"这首歌很不错\", \"extra_text\":\"那首歌也很不错\"}\n",
    "    ]\n",
    "}\n",
    "\n",
    "output = text_classify_service.predict(text_classify_input)\n",
    "output\n",
    "EulerOutput(**output)\n",
    "\n"
   ]
  },
  {
   "cell_type": "markdown",
   "metadata": {},
   "source": [
    "# Test TextSpanClassify"
   ]
  },
  {
   "cell_type": "code",
   "execution_count": 8,
   "metadata": {
    "ExecuteTime": {
     "end_time": "2021-08-04T08:25:31.003355Z",
     "start_time": "2021-08-04T08:25:30.770797Z"
    }
   },
   "outputs": [
    {
     "name": "stderr",
     "output_type": "stream",
     "text": [
      "2021-08-04 16:25:30 [INFO][oss_utils.py:46]:get bucket:modelzoo\n",
      "2021-08-04 16:25:30 [INFO][core.py:115]:downloading model file from oss://modelzoo/dev/config_ai/demo/tf_seq_label_model/model to /tmp/model/\n",
      "2021-08-04 16:25:30 [INFO][core.py:117]:downloading&updating model config...\n",
      "2021-08-04 16:25:30 [INFO][core.py:89]:downloading dev/config_ai/demo/tf_seq_label_model/model/config.json to /tmp/model//config.json\n",
      "2021-08-04 16:25:30 [INFO][core.py:89]:downloading dev/config_ai/demo/tf_seq_label_model/model/assets/vocabs.txt to /tmp/model//assets/vocabs.txt\n",
      "2021-08-04 16:25:30 [INFO][core.py:89]:downloading dev/config_ai/demo/tf_seq_label_model/model/assets/label_file_path.txt to /tmp/model//assets/label_file_path.txt\n",
      "2021-08-04 16:25:30 [INFO][core.py:128]:model download done\n",
      "2021-08-04 16:25:30 [INFO][core.py:85]:loading model from path:/tmp/model/\n",
      "2021-08-04 16:25:30 [INFO][core.py:42]:init model with config:\n",
      "2021-08-04 16:25:30 [INFO][core.py:45]:{\n",
      "    \"tokenizer_config\": {\n",
      "        \"tokenizer_name\": \"bert_word_piece\",\n",
      "        \"tokenizer_args\": {\n",
      "            \"vocabs\": \"/tmp/model//assets/vocabs.txt\"\n",
      "        }\n",
      "    },\n",
      "    \"task_config\": {\n",
      "        \"label_file_path\": \"/tmp/model//assets/label_file_path.txt\",\n",
      "        \"max_len\": 60,\n",
      "        \"multi_label\": false,\n",
      "        \"seq_label_strategy\": \"BIO\"\n",
      "    },\n",
      "    \"model_name\": \"tf_seq_label_model\",\n",
      "    \"model_cls\": \"TFSeqLabelingModel\",\n",
      "    \"model_dict\": {\n",
      "        \"test\": {\n",
      "            \"model\": \"token_classify_model\",\n",
      "            \"type_info\": {\n",
      "                \"token_ids\": \"int32\",\n",
      "                \"segment_ids\": \"int32\"\n",
      "            },\n",
      "            \"shape_info\": {\n",
      "                \"token_ids\": [\n",
      "                    null\n",
      "                ],\n",
      "                \"segment_ids\": [\n",
      "                    null\n",
      "                ]\n",
      "            }\n",
      "        },\n",
      "        \"train\": {\n",
      "            \"model\": \"model_1\",\n",
      "            \"type_info\": {\n",
      "                \"token_ids\": \"int32\",\n",
      "                \"segment_ids\": \"int32\",\n",
      "                \"classify_labels\": \"int32\"\n",
      "            },\n",
      "            \"shape_info\": {\n",
      "                \"token_ids\": [\n",
      "                    null\n",
      "                ],\n",
      "                \"segment_ids\": [\n",
      "                    null\n",
      "                ],\n",
      "                \"classify_labels\": [\n",
      "                    null\n",
      "                ]\n",
      "            }\n",
      "        }\n",
      "    }\n",
      "}\n",
      "2021-08-04 16:25:30 [INFO][core.py:118]:initializing tokenizer\n",
      "2021-08-04 16:25:30 [INFO][core.py:140]:load model done\n"
     ]
    },
    {
     "data": {
      "text/plain": [
       "<config_ai.services.text_span_classify.TextSpanClassifyService at 0x7fe9b85de588>"
      ]
     },
     "execution_count": 8,
     "metadata": {},
     "output_type": "execute_result"
    }
   ],
   "source": [
    "args = {\n",
    "    \"model_path\": \"/nfs/pony/chenhao/experiment/ontonotes_ner/tf_seq_label_model/model\",\n",
    "    \"load_nn_model\": True\n",
    "}\n",
    "\n",
    "args = {\n",
    "    \"model_path\": \"oss://modelzoo/dev/config_ai/demo/tf_seq_label_model/model\",\n",
    "    \"load_nn_model\": True\n",
    "}\n",
    "\n",
    "args = {\n",
    "    \"model_path\": \"oss://modelzoo/dev/config_ai/demo/tf_seq_label_model/model\",\n",
    "    \"tf_serving_url\": \"https://alpha-test-tf-serving-0-0-15.aidigger.com/v1/models/test-tf-serving:predict\"\n",
    "}\n",
    "\n",
    "text_span_classify_service = TextSpanClassifyService(**args)\n",
    "text_span_classify_service"
   ]
  },
  {
   "cell_type": "code",
   "execution_count": 9,
   "metadata": {
    "ExecuteTime": {
     "end_time": "2021-08-04T08:25:36.674351Z",
     "start_time": "2021-08-04T08:25:33.516018Z"
    }
   },
   "outputs": [
    {
     "name": "stderr",
     "output_type": "stream",
     "text": [
      "2021-08-04 16:25:33 [INFO][core.py:136]:predicting 2 item with args:{}\n",
      "100%|██████████| 2/2 [00:00<00:00, 2627.19it/s]\n",
      "2021-08-04 16:25:33 [INFO][tf_core.py:199]:predicting with tf server:https://alpha-test-tf-serving-0-0-15.aidigger.com/v1/models/test-tf-serving:predict...\n",
      "2021-08-04 16:25:33 [INFO][tf_core.py:80]:requesting batch0\n",
      "2021-08-04 16:25:36 [INFO][tf_core.py:94]:request to tf serving cost:2.870 seconds\n",
      "2021-08-04 16:25:36 [INFO][utils.py:102]:function:_model_predict cost:2.875 seconds\n",
      "2021-08-04 16:25:36 [INFO][utils.py:102]:function:_post_predict cost:0.205 seconds\n"
     ]
    },
    {
     "data": {
      "text/plain": [
       "{'predicts': [[{'text': '北京',\n",
       "    'span': (6, 8),\n",
       "    'label': 'address',\n",
       "    'prob': 0.971395254}],\n",
       "  [{'text': '北京', 'span': (13, 15), 'label': 'address', 'prob': 0.974596}]],\n",
       " 'trace_id': '2aaf6a42aa89122f2dfe466f90757ec5',\n",
       " 'model_name': 'tf_seq_label_model',\n",
       " 'debug_info': {}}"
      ]
     },
     "execution_count": 9,
     "metadata": {},
     "output_type": "execute_result"
    },
    {
     "data": {
      "text/plain": [
       "EulerOutput(predicts=[[TextSpan(text='北京', span=(6, 8), label='address', prob=0.971395254)], [TextSpan(text='北京', span=(13, 15), label='address', prob=0.974596)]], trace_id='2aaf6a42aa89122f2dfe466f90757ec5', model_name='tf_seq_label_model', debug_info={})"
      ]
     },
     "execution_count": 9,
     "metadata": {},
     "output_type": "execute_result"
    }
   ],
   "source": [
    "text_span_classify_input = {\n",
    "    \"examples\":[\n",
    "        {\"text\":\"中国的首都是北京，有14亿人口\"},\n",
    "        {\"text\":\"标出所有的地点\", \"extra_text\":\"中国的首都是北京，有14亿人口\"}\n",
    "    ]\n",
    "}\n",
    "\n",
    "output = text_span_classify_service.predict(text_span_classify_input)\n",
    "output\n",
    "EulerOutput(**output)\n",
    "\n"
   ]
  },
  {
   "cell_type": "code",
   "execution_count": null,
   "metadata": {},
   "outputs": [],
   "source": []
  }
 ],
 "metadata": {
  "hide_input": false,
  "kernelspec": {
   "display_name": "chenhao-py3.6-tf2.0",
   "language": "python",
   "name": "chenhao-py3.6-tf2.0"
  },
  "language_info": {
   "codemirror_mode": {
    "name": "ipython",
    "version": 3
   },
   "file_extension": ".py",
   "mimetype": "text/x-python",
   "name": "python",
   "nbconvert_exporter": "python",
   "pygments_lexer": "ipython3",
   "version": "3.6.2"
  },
  "toc": {
   "base_numbering": 1,
   "nav_menu": {},
   "number_sections": true,
   "sideBar": true,
   "skip_h1_title": false,
   "title_cell": "Table of Contents",
   "title_sidebar": "Contents",
   "toc_cell": false,
   "toc_position": {},
   "toc_section_display": true,
   "toc_window_display": false
  },
  "varInspector": {
   "cols": {
    "lenName": 16,
    "lenType": 16,
    "lenVar": 40
   },
   "kernels_config": {
    "python": {
     "delete_cmd_postfix": "",
     "delete_cmd_prefix": "del ",
     "library": "var_list.py",
     "varRefreshCmd": "print(var_dic_list())"
    },
    "r": {
     "delete_cmd_postfix": ") ",
     "delete_cmd_prefix": "rm(",
     "library": "var_list.r",
     "varRefreshCmd": "cat(var_dic_list()) "
    }
   },
   "types_to_exclude": [
    "module",
    "function",
    "builtin_function_or_method",
    "instance",
    "_Feature"
   ],
   "window_display": false
  }
 },
 "nbformat": 4,
 "nbformat_minor": 4
}
