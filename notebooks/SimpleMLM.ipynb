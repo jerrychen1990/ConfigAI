{
 "cells": [
  {
   "cell_type": "code",
   "execution_count": 1,
   "id": "c81ada45",
   "metadata": {},
   "outputs": [
    {
     "name": "stderr",
     "output_type": "stream",
     "text": [
      "2021-10-27 11:06:57 [INFO][backend.py:57]:setting tensorflow config...\n",
      "2021-10-27 11:06:57.408864: I tensorflow/stream_executor/platform/default/dso_loader.cc:44] Successfully opened dynamic library libcuda.so.1\n",
      "2021-10-27 11:06:57 [INFO][backend.py:61]:current devices:\n",
      "2021-10-27 11:06:57.438476: I tensorflow/core/common_runtime/gpu/gpu_device.cc:1561] Found device 0 with properties: \n",
      "pciBusID: 0000:06:00.0 name: NVIDIA TITAN X (Pascal) computeCapability: 6.1\n",
      "coreClock: 1.531GHz coreCount: 28 deviceMemorySize: 11.91GiB deviceMemoryBandwidth: 447.48GiB/s\n",
      "2021-10-27 11:06:57.439367: I tensorflow/stream_executor/platform/default/dso_loader.cc:44] Successfully opened dynamic library libcudart.so.10.1\n",
      "2021-10-27 11:06:57.445364: I tensorflow/stream_executor/platform/default/dso_loader.cc:44] Successfully opened dynamic library libcublas.so.10\n",
      "2021-10-27 11:06:57.448747: I tensorflow/stream_executor/platform/default/dso_loader.cc:44] Successfully opened dynamic library libcufft.so.10\n",
      "2021-10-27 11:06:57.449958: I tensorflow/stream_executor/platform/default/dso_loader.cc:44] Successfully opened dynamic library libcurand.so.10\n",
      "2021-10-27 11:06:57.453245: I tensorflow/stream_executor/platform/default/dso_loader.cc:44] Successfully opened dynamic library libcu2021-10-27 11:06:57 [INFO][backend.py:62]:cpus:[PhysicalDevice(name='/physical_device:CPU:0', device_type='CPU')]\n",
      "solver.so.10\n",
      "2021-10-27 11:06:57.455758: I tensorflow/stream_executor/platform/default/dso_loader.cc:44] Successfully opened dynamic library libcusparse.so.10\n",
      "2021-10-27 11:06:57.463100: I tensorflow/stream_executor/platform/default/dso_loader.cc:44] Successfully opened dynamic library libcudnn.so.7\n",
      "2021-10-27 11:06:57.465882: I tensorflow/core/common_runtime/gpu/gpu_device.cc:1703] Adding visible gpu devices: 0\n",
      "2021-10-27 11:06:57 [INFO][backend.py:63]:gpus:[PhysicalDevice(name='/physical_device:GPU:0', device_type='GPU')]\n",
      "2021-10-27 11:06:57 [INFO][backend.py:64]:setting gpu memory allow growth...\n",
      "2021-10-27 11:06:57 [INFO][backend.py:67]:setting soft device placement...\n"
     ]
    }
   ],
   "source": [
    "%load_ext autoreload\n",
    "%autoreload 2\n",
    "\n",
    "import os\n",
    "import sys\n",
    "import logging\n",
    "# sys.path\n",
    "\n",
    "from ai_schema.eval import eval_text_span_classify\n",
    "from config_ai.backend import set_tf_config\n",
    "from config_ai.utils import *\n",
    "from config_ai.models.mlm import TFMLMModel, get_mlm_output, eval_mlm\n",
    "from config_ai.data_utils import *\n",
    "from config_ai.models import load_model\n",
    "from config_ai.experiments import get_model_config\n",
    "from config_ai.schema import MaskedLanguageModelExample\n",
    "\n",
    "logging.basicConfig(level=logging.DEBUG, format=\"%(asctime)s [%(levelname)s][%(filename)s:%(lineno)d]:%(message)s\",\n",
    "                    datefmt='%Y-%m-%d %H:%M:%S')\n",
    "os.environ[\"CUDA_VISIBLE_DEVICES\"] = \"0\"\n",
    "\n",
    "\n",
    "set_tf_config()"
   ]
  },
  {
   "cell_type": "code",
   "execution_count": 3,
   "id": "0950b30d",
   "metadata": {},
   "outputs": [],
   "source": [
    "import numpy as np\n",
    "from bert4keras.models import build_transformer_model\n",
    "from bert4keras.tokenizers import Tokenizer\n"
   ]
  },
  {
   "cell_type": "code",
   "execution_count": 13,
   "id": "8780c399",
   "metadata": {},
   "outputs": [],
   "source": [
    "pretrain_name = \"chinese_roberta_wwm_ext_L-12_H-768_A-12\"\n",
    "pretrain_name = \"chinese_rbt4_L-4_H-768_A-12\"\n",
    "pretrain_name = \"chinese_L-12_H-768_A-12\"\n",
    "\n",
    "\n",
    "config_path = f'/nfs/pony/chenhao/pretrain/{pretrain_name}/config.json'\n",
    "checkpoint_path = f'/nfs/pony/chenhao/pretrain/{pretrain_name}/model.ckpt'\n",
    "dict_path = f'/nfs/pony/chenhao/pretrain/{pretrain_name}/vocab.txt'"
   ]
  },
  {
   "cell_type": "code",
   "execution_count": 14,
   "id": "98504f1c",
   "metadata": {},
   "outputs": [
    {
     "data": {
      "text/plain": [
       "<tensorflow.python.keras.engine.training.Model at 0x7f22e87858e0>"
      ]
     },
     "execution_count": 14,
     "metadata": {},
     "output_type": "execute_result"
    }
   ],
   "source": [
    "tokenizer = Tokenizer(dict_path, do_lower_case=True)  # 建立分词器\n",
    "model = build_transformer_model(\n",
    "    config_path=config_path, checkpoint_path=checkpoint_path, with_mlm=True\n",
    ")  # 建立模型，加载权重\n",
    "model"
   ]
  },
  {
   "cell_type": "code",
   "execution_count": 15,
   "id": "ef9bf97c",
   "metadata": {},
   "outputs": [],
   "source": [
    "def to_array(*args):\n",
    "    \"\"\"批量转numpy的array\n",
    "    \"\"\"\n",
    "    results = [np.array(a) for a in args]\n",
    "    if len(args) == 1:\n",
    "        return results[0]\n",
    "    else:\n",
    "        return results"
   ]
  },
  {
   "cell_type": "code",
   "execution_count": 16,
   "id": "340d5020",
   "metadata": {},
   "outputs": [
    {
     "data": {
      "text/plain": [
       "(array([[ 101, 4906, 2110,  103,  103, 3221, 5018,  671, 4495,  772, 1213,\n",
       "          102]]),\n",
       " array([[0, 0, 0, 0, 0, 0, 0, 0, 0, 0, 0, 0]]))"
      ]
     },
     "execution_count": 16,
     "metadata": {},
     "output_type": "execute_result"
    }
   ],
   "source": [
    "token_ids, segment_ids = tokenizer.encode(u'科学技术是第一生产力')\n",
    "\n",
    "# mask掉“技术”\n",
    "token_ids[3] = token_ids[4] = tokenizer._token_mask_id\n",
    "token_ids, segment_ids = to_array([token_ids], [segment_ids])\n",
    "# token_ids, segment_ids = [token_ids], [segment_ids]\n",
    "token_ids, segment_ids "
   ]
  },
  {
   "cell_type": "code",
   "execution_count": 17,
   "id": "5e167767",
   "metadata": {},
   "outputs": [
    {
     "data": {
      "text/plain": [
       "[array([[ 101, 4906, 2110,  103,  103, 3221, 5018,  671, 4495,  772, 1213,\n",
       "          102]]),\n",
       " array([[0, 0, 0, 0, 0, 0, 0, 0, 0, 0, 0, 0]])]"
      ]
     },
     "execution_count": 17,
     "metadata": {},
     "output_type": "execute_result"
    },
    {
     "data": {
      "text/plain": [
       "array([[2.5784804e-08, 2.8556206e-08, 2.7555107e-08, ..., 8.9684562e-08,\n",
       "        6.4718044e-08, 6.2687171e-08],\n",
       "       [3.0661202e-08, 3.2667170e-08, 3.0340075e-08, ..., 1.0172227e-07,\n",
       "        9.5783122e-08, 1.7476081e-07],\n",
       "       [9.5591688e-18, 1.1546758e-17, 6.7759583e-18, ..., 5.8764678e-17,\n",
       "        6.0488456e-17, 2.7724075e-17],\n",
       "       ...,\n",
       "       [2.0150147e-22, 5.1080855e-23, 1.2026558e-22, ..., 1.7970673e-20,\n",
       "        5.1858772e-22, 2.8766597e-21],\n",
       "       [1.5838940e-18, 1.3842768e-18, 1.6169397e-18, ..., 9.2541241e-17,\n",
       "        1.1762511e-18, 2.2351850e-16],\n",
       "       [2.7384844e-10, 3.0633091e-10, 1.7498809e-10, ..., 4.0032662e-09,\n",
       "        1.0272554e-09, 1.3808950e-09]], dtype=float32)"
      ]
     },
     "execution_count": 17,
     "metadata": {},
     "output_type": "execute_result"
    },
    {
     "data": {
      "text/plain": [
       "(12, 21128)"
      ]
     },
     "execution_count": 17,
     "metadata": {},
     "output_type": "execute_result"
    }
   ],
   "source": [
    "[token_ids, segment_ids]\n",
    "probas = model.predict([token_ids, segment_ids])[0]\n",
    "probas\n",
    "probas.shape"
   ]
  },
  {
   "cell_type": "code",
   "execution_count": 18,
   "id": "5bb605fd",
   "metadata": {},
   "outputs": [
    {
     "data": {
      "text/plain": [
       "array([8024,  511, 2110, 2825, 3318, 3221, 5018,  671, 4495,  772, 1213,\n",
       "       4906])"
      ]
     },
     "execution_count": 18,
     "metadata": {},
     "output_type": "execute_result"
    },
    {
     "data": {
      "text/plain": [
       "'，。学技术是第一生产力科'"
      ]
     },
     "execution_count": 18,
     "metadata": {},
     "output_type": "execute_result"
    },
    {
     "data": {
      "text/plain": [
       "'技术'"
      ]
     },
     "execution_count": 18,
     "metadata": {},
     "output_type": "execute_result"
    }
   ],
   "source": [
    "tmp = np.argmax(probas, axis=1)\n",
    "tmp\n",
    "rs = tokenizer.decode(tmp)\n",
    "rs\n",
    "rs[3:5]\n",
    "# print(tokenizer.decode(probas[3:5].argmax(axis=1)))"
   ]
  },
  {
   "cell_type": "code",
   "execution_count": null,
   "id": "6f878ddd",
   "metadata": {},
   "outputs": [],
   "source": []
  }
 ],
 "metadata": {
  "kernelspec": {
   "display_name": "py3.8-common",
   "language": "python",
   "name": "py3.8-common"
  },
  "language_info": {
   "codemirror_mode": {
    "name": "ipython",
    "version": 3
   },
   "file_extension": ".py",
   "mimetype": "text/x-python",
   "name": "python",
   "nbconvert_exporter": "python",
   "pygments_lexer": "ipython3",
   "version": "3.8.11"
  }
 },
 "nbformat": 4,
 "nbformat_minor": 5
}
