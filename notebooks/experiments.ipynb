{
 "cells": [
  {
   "cell_type": "code",
   "execution_count": 9,
   "metadata": {
    "ExecuteTime": {
     "end_time": "2021-11-22T07:33:52.158999Z",
     "start_time": "2021-11-22T07:33:52.096499Z"
    },
    "pycharm": {
     "name": "#%%\n"
    }
   },
   "outputs": [
    {
     "name": "stdout",
     "output_type": "stream",
     "text": [
      "The autoreload extension is already loaded. To reload it, use:\n",
      "  %reload_ext autoreload\n"
     ]
    }
   ],
   "source": [
    "%load_ext autoreload\n",
    "%autoreload 2\n",
    "import os\n",
    "import sys\n",
    "# sys.path\n",
    "\n",
    "from config_ai.experiments import *\n",
    "os.environ[\"CUDA_VISIBLE_DEVICES\"] = \"1\""
   ]
  },
  {
   "cell_type": "code",
   "execution_count": 10,
   "metadata": {
    "ExecuteTime": {
     "end_time": "2021-11-22T07:33:53.026432Z",
     "start_time": "2021-11-22T07:33:52.952091Z"
    },
    "pycharm": {
     "name": "#%%\n"
    }
   },
   "outputs": [
    {
     "name": "stderr",
     "output_type": "stream",
     "text": [
      "2021-11-22 15:33:53 [INFO][utils.py:100]:parsing config with path:../examples/text_classify/sentiment_cls_classify.ini\n",
      "2021-11-22 15:33:53 [INFO][utils.py:111]:loading base config...\n",
      "2021-11-22 15:33:53 [INFO][utils.py:100]:parsing config with path:${CONFIG_AI_PATH}/examples/base_config.ini\n",
      "2021-11-22 15:33:53 [INFO][backend.py:57]:setting tensorflow config...\n",
      "2021-11-22 15:33:53 [INFO][backend.py:61]:current devices:\n",
      "2021-11-22 15:33:53 [INFO][backend.py:62]:cpus:[PhysicalDevice(name='/physical_device:CPU:0', device_type='CPU')]\n",
      "2021-11-22 15:33:53 [INFO][backend.py:63]:gpus:[PhysicalDevice(name='/physical_device:GPU:0', device_type='GPU')]\n",
      "2021-11-22 15:33:53 [INFO][backend.py:64]:setting gpu memory allow growth...\n",
      "2021-11-22 15:33:53 [INFO][backend.py:67]:setting soft device placement...\n",
      "2021-11-22 15:33:53 [INFO][backend.py:71]:set tf config done\n",
      "2021-11-22 15:33:53 [INFO][utils.py:226]:*******************************************************experiment param:********************************************************\n",
      "2021-11-22 15:33:53 [INFO][experiments.py:58]:{\n",
      "    \"common_config\": {\n",
      "        \"experiment_dir\": \"/nfs/pony/chenhao/experiment\",\n",
      "        \"project_name\": \"config_ai_example\",\n",
      "        \"is_train\": true,\n",
      "        \"is_test\": true,\n",
      "        \"is_save\": true,\n",
      "        \"save_args\": {\n",
      "            \"format\": \"h5\",\n",
      "            \"tf_serving_version\": 1\n",
      "        },\n",
      "        \"eval_phase_list\": [\n",
      "            \"train\",\n",
      "            \"dev\"\n",
      "        ],\n",
      "        \"output_phase_list\": [\n",
      "            \"train\",\n",
      "            \"dev\",\n",
      "            \"test\"\n",
      "        ],\n",
      "        \"is_overwrite_experiment\": true,\n",
      "        \"default_random_seed\": 10,\n",
      "        \"base_config\": \"${CONFIG_AI_PATH}/examples/base_config.ini\",\n",
      "        \"model_cls\": \"CLSTokenClassifyModel\",\n",
      "        \"model_name\": \"cls_token_classify_example\"\n",
      "    },\n",
      "    \"tokenizer_config\": {\n",
      "        \"tokenizer_name\": \"bert_word_piece\",\n",
      "        \"tokenizer_args\": {\n",
      "            \"vocabs\": \"/nfs/pony/chenhao/pretrain/chinese_rbt4_L-4_H-768_A-12/vocab.txt\"\n",
      "        }\n",
      "    },\n",
      "    \"nn_model_config\": {\n",
      "        \"pretrained_model_tag\": \"bert\",\n",
      "        \"pretrained_model_path\": \"/nfs/pony/chenhao/pretrain/chinese_rbt4_L-4_H-768_A-12\"\n",
      "    },\n",
      "    \"compile_config\": {\n",
      "        \"optimizer_name\": \"adam\",\n",
      "        \"optimizer_args\": {\n",
      "            \"learning_rate\": 3e-05\n",
      "        }\n",
      "    },\n",
      "    \"train_config\": {\n",
      "        \"epochs\": 2,\n",
      "        \"batch_size\": 32,\n",
      "        \"overwrite_cache\": false,\n",
      "        \"steps_per_epoch\": 100\n",
      "    },\n",
      "    \"test_config\": {\n",
      "        \"batch_size\": 64,\n",
      "        \"overwrite_cache\": false\n",
      "    },\n",
      "    \"callback_config\": {\n",
      "        \"tensorboard_callback\": true\n",
      "    },\n",
      "    \"data_config\": {\n",
      "        \"train_data_path\": \"${CONFIG_AI_PATH}/data/sentiment_cls/labeled.jsonl\",\n",
      "        \"eval_data_path\": \"${CONFIG_AI_PATH}/data/sentiment_cls/labeled.jsonl\",\n",
      "        \"test_data_path\": \"${CONFIG_AI_PATH}/data/sentiment_cls/labeled.jsonl\"\n",
      "    },\n",
      "    \"task_config\": {\n",
      "        \"label_path\": \"${CONFIG_AI_PATH}/data/sentiment_cls/labels.txt\",\n",
      "        \"max_len\": 128,\n",
      "        \"multi_label\": false\n",
      "    }\n",
      "}\n",
      "2021-11-22 15:33:53 [INFO][backend.py:75]:set random seed to 10\n"
     ]
    },
    {
     "data": {
      "text/plain": [
       "<config_ai.experiments.TextClassifyExperiment at 0x7f549073bb50>"
      ]
     },
     "execution_count": 10,
     "metadata": {},
     "output_type": "execute_result"
    }
   ],
   "source": [
    "config_path = \"../examples/text_classify/sentiment_cls_classify.ini\"\n",
    "config_path = \"../examples/text_span_classify/ner_global_pointer.ini\"\n",
    "config_path = \"../examples/text_span_classify/ner_seq_labeling.ini\"\n",
    "\n",
    "\n",
    "experiment = ExperimentFactory.create(config_path=config_path)\n",
    "experiment\n",
    "\n"
   ]
  },
  {
   "cell_type": "code",
   "execution_count": 11,
   "metadata": {
    "ExecuteTime": {
     "end_time": "2021-11-22T07:34:52.306208Z",
     "start_time": "2021-11-22T07:33:56.139594Z"
    },
    "pycharm": {
     "name": "#%%\n"
    }
   },
   "outputs": [
    {
     "name": "stderr",
     "output_type": "stream",
     "text": [
      "2021-11-22 15:33:56 [INFO][utils.py:226]:********************************************************experiment start********************************************************\n",
      "2021-11-22 15:33:56 [INFO][utils.py:226]:**********saving config file to /nfs/pony/chenhao/experiment/config_ai_example/cls_token_classify_example/config.json***********\n",
      "2021-11-22 15:33:56 [INFO][utils.py:226]:**************************************************model initialize phase start**************************************************\n",
      "2021-11-22 15:33:56 [INFO][utils.py:226]:********************************************initialize nn_model from nn_model config********************************************\n",
      "2021-11-22 15:33:56 [INFO][core.py:47]:init model with config:\n",
      "2021-11-22 15:33:56 [INFO][core.py:124]:initializing tokenizer with config:\n",
      "{\n",
      "    \"tokenizer_name\": \"bert_word_piece\",\n",
      "    \"tokenizer_args\": {\n",
      "        \"vocabs\": \"/nfs/pony/chenhao/pretrain/chinese_rbt4_L-4_H-768_A-12/vocab.txt\"\n",
      "    }\n",
      "}\n",
      "2021-11-22 15:33:56 [INFO][core.py:138]:tokenizer initialized with 21128 vocabs\n",
      "2021-11-22 15:33:56.240158: I tensorflow/core/platform/cpu_feature_guard.cc:143] Your CPU supports instructions that this TensorFlow binary was not compiled to use: AVX2 FMA\n",
      "2021-11-22 15:33:56.248620: I tensorflow/core/platform/profile_utils/cpu_utils.cc:102] CPU Frequency: 3597740000 Hz\n",
      "2021-11-22 15:33:56.249134: I tensorflow/compiler/xla/service/service.cc:168] XLA service 0x55a5b3e24a80 initialized for platform Host (this does not guarantee that XLA will be used). Devices:\n",
      "2021-11-22 15:33:56.249154: I tensorflow/compiler/xla/service/service.cc:176]   StreamExecutor device (0): Host, Default Version\n",
      "2021-11-22 15:33:56.539199: I tensorflow/compiler/xla/service/service.cc:168] XLA service 0x55a5b3ebef90 initialized for platform CUDA (this does not guarantee that XLA will be used). Devices:\n",
      "2021-11-22 15:33:56.539226: I tensorflow/compiler/xla/service/service.cc:176]   StreamExecutor device (0): NVIDIA TITAN X (Pascal), Compute Capability 6.1\n",
      "2021-11-22 15:33:56.540077: I tensorflow/core/common_runtime/gpu/gpu_device.cc:1561] Found device 0 with properties: \n",
      "pciBusID: 0000:06:00.0 name: NVIDIA TITAN X (Pascal) computeCapability: 6.1\n",
      "coreClock: 1.531GHz coreCount: 28 deviceMemorySize: 11.91GiB deviceMemoryBandwidth: 447.48GiB/s\n",
      "2021-11-22 15:33:56.540124: I tensorflow/stream_executor/platform/default/dso_loader.cc:44] Successfully opened dynamic library libcudart.so.10.1\n",
      "2021-11-22 15:33:56.540140: I tensorflow/stream_executor/platform/default/dso_loader.cc:44] Successfully opened dynamic library libcublas.so.10\n",
      "2021-11-22 15:33:56.540156: I tensorflow/stream_executor/platform/default/dso_loader.cc:44] Successfully opened dynamic library libcufft.so.10\n",
      "2021-11-22 15:33:56.540171: I tensorflow/stream_executor/platform/default/dso_loader.cc:44] Successfully opened dynamic library libcurand.so.10\n",
      "2021-11-22 15:33:56.540186: I tensorflow/stream_executor/platform/default/dso_loader.cc:44] Successfully opened dynamic library libcusolver.so.10\n",
      "2021-11-22 15:33:56.540202: I tensorflow/stream_executor/platform/default/dso_loader.cc:44] Successfully opened dynamic library libcusparse.so.10\n",
      "2021-11-22 15:33:56.540217: I tensorflow/stream_executor/platform/default/dso_loader.cc:44] Successfully opened dynamic library libcudnn.so.7\n",
      "2021-11-22 15:33:56.541602: I tensorflow/core/common_runtime/gpu/gpu_device.cc:1703] Adding visible gpu devices: 0\n",
      "2021-11-22 15:33:56.541642: I tensorflow/stream_executor/platform/default/dso_loader.cc:44] Successfully opened dynamic library libcudart.so.10.1\n",
      "2021-11-22 15:33:56.542813: I tensorflow/core/common_runtime/gpu/gpu_device.cc:1102] Device interconnect StreamExecutor with strength 1 edge matrix:\n",
      "2021-11-22 15:33:56.542826: I tensorflow/core/common_runtime/gpu/gpu_device.cc:1108]      0 \n",
      "2021-11-22 15:33:56.542832: I tensorflow/core/common_runtime/gpu/gpu_device.cc:1121] 0:   N \n",
      "2021-11-22 15:33:56.544290: I tensorflow/core/common_runtime/gpu/gpu_device.cc:1247] Created TensorFlow device (/job:localhost/replica:0/task:0/device:GPU:0 with 8625 MB memory) -> physical GPU (device: 0, name: NVIDIA TITAN X (Pascal), pci bus id: 0000:06:00.0, compute capability: 6.1)\n",
      "2021-11-22 15:33:56 [INFO][mirrored_strategy.py:500]:Using MirroredStrategy with devices ('/job:localhost/replica:0/task:0/device:GPU:0',)\n",
      "2021-11-22 15:33:56 [INFO][tf_core.py:126]:number of devices: 1, use SINGLE scope\n",
      "2021-11-22 15:33:56 [INFO][nn_models.py:56]:loading from pretrained weights: /nfs/pony/chenhao/pretrain/chinese_rbt4_L-4_H-768_A-12/model.ckpt\n",
      "2021-11-22 15:33:58 [INFO][cls_token_classify.py:75]:nn model's summary:\n",
      "2021-11-22 15:33:58 [INFO][layer_utils.py:192]:Model: \"nn_model\"\n",
      "2021-11-22 15:33:58 [INFO][layer_utils.py:193]:__________________________________________________________________________________________________\n",
      "2021-11-22 15:33:58 [INFO][layer_utils.py:190]:Layer (type)                    Output Shape         Param #     Connected to                     \n",
      "2021-11-22 15:33:58 [INFO][layer_utils.py:195]:==================================================================================================\n",
      "2021-11-22 15:33:58 [INFO][layer_utils.py:190]:token_ids (InputLayer)          [(None, None)]       0                                            \n",
      "2021-11-22 15:33:58 [INFO][layer_utils.py:259]:__________________________________________________________________________________________________\n",
      "2021-11-22 15:33:58 [INFO][layer_utils.py:190]:segment_ids (InputLayer)        [(None, None)]       0                                            \n",
      "2021-11-22 15:33:58 [INFO][layer_utils.py:259]:__________________________________________________________________________________________________\n",
      "2021-11-22 15:33:58 [INFO][layer_utils.py:190]:model (Model)                   (None, None, 768)    44974080    token_ids[0][0]                  \n",
      "2021-11-22 15:33:58 [INFO][layer_utils.py:190]:                                                                 segment_ids[0][0]                \n",
      "2021-11-22 15:33:58 [INFO][layer_utils.py:259]:__________________________________________________________________________________________________\n",
      "2021-11-22 15:33:58 [INFO][layer_utils.py:190]:cls_layer (Lambda)              (None, 768)          0           model[1][0]                      \n",
      "2021-11-22 15:33:58 [INFO][layer_utils.py:259]:__________________________________________________________________________________________________\n",
      "2021-11-22 15:33:58 [INFO][layer_utils.py:190]:classifier (Dense)              (None, 3)            2307        cls_layer[0][0]                  \n",
      "2021-11-22 15:33:58 [INFO][layer_utils.py:257]:==================================================================================================\n",
      "2021-11-22 15:33:58 [INFO][layer_utils.py:268]:Total params: 44,976,387\n",
      "2021-11-22 15:33:58 [INFO][layer_utils.py:269]:Trainable params: 44,976,387\n",
      "2021-11-22 15:33:58 [INFO][layer_utils.py:270]:Non-trainable params: 0\n",
      "2021-11-22 15:33:58 [INFO][layer_utils.py:271]:__________________________________________________________________________________________________\n",
      "2021-11-22 15:33:58 [INFO][utils.py:226]:***************************************************model initialize phase end***************************************************\n",
      "2021-11-22 15:33:58 [INFO][utils.py:226]:******************************************************training phase start******************************************************\n",
      "2021-11-22 15:33:58 [INFO][cls_token_classify.py:82]:compiling model...\n",
      "2021-11-22 15:33:58 [INFO][tf_core.py:126]:number of devices: 1, use SINGLE scope\n",
      "2021-11-22 15:33:59 [INFO][losses.py:101]:build loss layer with loss function:<function sparse_categorical_crossentropy at 0x7f5400ad7e50>\n",
      "2021-11-22 15:33:59 [INFO][cls_token_classify.py:106]:training model's summary:\n",
      "2021-11-22 15:33:59 [INFO][layer_utils.py:192]:Model: \"train_model\"\n",
      "2021-11-22 15:33:59 [INFO][layer_utils.py:193]:__________________________________________________________________________________________________\n",
      "2021-11-22 15:33:59 [INFO][layer_utils.py:190]:Layer (type)                    Output Shape         Param #     Connected to                     \n",
      "2021-11-22 15:33:59 [INFO][layer_utils.py:195]:==================================================================================================\n"
     ]
    },
    {
     "name": "stderr",
     "output_type": "stream",
     "text": [
      "2021-11-22 15:33:59 [INFO][layer_utils.py:190]:token_ids (InputLayer)          [(None, None)]       0                                            \n",
      "2021-11-22 15:33:59 [INFO][layer_utils.py:259]:__________________________________________________________________________________________________\n",
      "2021-11-22 15:33:59 [INFO][layer_utils.py:190]:segment_ids (InputLayer)        [(None, None)]       0                                            \n",
      "2021-11-22 15:33:59 [INFO][layer_utils.py:259]:__________________________________________________________________________________________________\n",
      "2021-11-22 15:33:59 [INFO][layer_utils.py:190]:classify_output (InputLayer)    [(None,)]            0                                            \n",
      "2021-11-22 15:33:59 [INFO][layer_utils.py:259]:__________________________________________________________________________________________________\n",
      "2021-11-22 15:33:59 [INFO][layer_utils.py:190]:nn_model (Model)                (None, 3)            44976387    token_ids[0][0]                  \n",
      "2021-11-22 15:33:59 [INFO][layer_utils.py:190]:                                                                 segment_ids[0][0]                \n",
      "2021-11-22 15:33:59 [INFO][layer_utils.py:259]:__________________________________________________________________________________________________\n",
      "2021-11-22 15:33:59 [INFO][layer_utils.py:190]:loss_layer (LossLayer)          (None,)              0           classify_output[0][0]            \n",
      "2021-11-22 15:33:59 [INFO][layer_utils.py:190]:                                                                 nn_model[1][0]                   \n",
      "2021-11-22 15:33:59 [INFO][layer_utils.py:259]:__________________________________________________________________________________________________\n",
      "2021-11-22 15:33:59 [INFO][layer_utils.py:190]:add_loss (AddLoss)              (None,)              0           loss_layer[0][0]                 \n",
      "2021-11-22 15:33:59 [INFO][layer_utils.py:259]:__________________________________________________________________________________________________\n",
      "2021-11-22 15:33:59 [INFO][layer_utils.py:190]:metric_layer (MetricLayer)      (None,)              0           classify_output[0][0]            \n",
      "2021-11-22 15:33:59 [INFO][layer_utils.py:190]:                                                                 nn_model[1][0]                   \n",
      "2021-11-22 15:33:59 [INFO][layer_utils.py:259]:__________________________________________________________________________________________________\n",
      "2021-11-22 15:33:59 [INFO][layer_utils.py:190]:add_metric (AddMetric)          (None,)              0           metric_layer[0][0]               \n",
      "2021-11-22 15:33:59 [INFO][layer_utils.py:257]:==================================================================================================\n",
      "2021-11-22 15:33:59 [INFO][layer_utils.py:268]:Total params: 44,976,387\n",
      "2021-11-22 15:33:59 [INFO][layer_utils.py:269]:Trainable params: 44,976,387\n",
      "2021-11-22 15:33:59 [INFO][layer_utils.py:270]:Non-trainable params: 0\n",
      "2021-11-22 15:33:59 [INFO][layer_utils.py:271]:__________________________________________________________________________________________________\n",
      "2021-11-22 15:33:59 [INFO][experiments.py:128]:initializing callbacks...\n",
      "2021-11-22 15:33:59.587978: I tensorflow/core/profiler/lib/profiler_session.cc:159] Profiler session started.\n",
      "2021-11-22 15:33:59 [INFO][experiments.py:137]:add tensorboard callback with log path:/nfs/pony/chenhao/experiment/config_ai_example/tensorboard/cls_token_classify_example-2021-11-22-15:33:59\n",
      "2021-11-22 15:33:59.609467: I tensorflow/core/profiler/internal/gpu/cupti_tracer.cc:1363] Profiler found 1 GPUs\n",
      "2021-11-22 15:33:59.627666: W tensorflow/stream_executor/platform/default/dso_loader.cc:55] Could not load dynamic library 'libcupti.so.10.1'; dlerror: libcupti.so.10.1: cannot open shared object file: No such file or directory; LD_LIBRARY_PATH: /usr/local/cuda/lib64:/usr/local/cuda/lib64::/usr/local/cuda/extras/CUPTI/lib64:/usr/local/cuda/extras/CUPTI/lib64\n",
      "2021-11-22 15:33:59.627714: E tensorflow/core/profiler/internal/gpu/cupti_tracer.cc:1408] function cupti_interface_->Subscribe( &subscriber_, (CUpti_CallbackFunc)ApiCallback, this)failed with error CUPTI could not be loaded or symbol could not be found.\n",
      "2021-11-22 15:33:59.627732: E tensorflow/core/profiler/internal/gpu/cupti_tracer.cc:1447] function cupti_interface_->ActivityRegisterCallbacks( AllocCuptiActivityBuffer, FreeCuptiActivityBuffer)failed with error CUPTI could not be loaded or symbol could not be found.\n",
      "2021-11-22 15:33:59.628909: E tensorflow/core/profiler/internal/gpu/cupti_tracer.cc:1430] function cupti_interface_->EnableCallback( 0 , subscriber_, CUPTI_CB_DOMAIN_DRIVER_API, cbid)failed with error CUPTI could not be loaded or symbol could not be found.\n",
      "2021-11-22 15:33:59 [INFO][experiments.py:150]:will train with callbacks:[<tensorflow.python.keras.callbacks.TensorBoard object at 0x7f5364544a60>]\n",
      "2021-11-22 15:33:59 [INFO][data_utils.py:152]:storing features to cache file:${CONFIG_AI_PATH}/data/sentiment_cls/labeled.jsonl_cache_HFWordPieceTokenizer_l_5aa90b958446a6e2b38e5daf435f9471\n",
      "0it [00:00, ?it/s]\n",
      "3it [00:00, 650.08it/s]\n",
      "3it [00:00, 1154.82it/s]\n",
      "2021-11-22 15:33:59 [INFO][tf_core.py:173]:train on 3 tensors\n"
     ]
    },
    {
     "name": "stdout",
     "output_type": "stream",
     "text": [
      "Epoch 1/2\n"
     ]
    },
    {
     "name": "stderr",
     "output_type": "stream",
     "text": [
      "2021-11-22 15:34:04.075403: I tensorflow/stream_executor/platform/default/dso_loader.cc:44] Successfully opened dynamic library libcublas.so.10\n"
     ]
    },
    {
     "name": "stdout",
     "output_type": "stream",
     "text": [
      "\r",
      "  1/100 [..............................] - ETA: 0s - loss: 1.0794 - accuracy: 0.3438"
     ]
    },
    {
     "name": "stderr",
     "output_type": "stream",
     "text": [
      "2021-11-22 15:34:04.374530: I tensorflow/core/profiler/lib/profiler_session.cc:159] Profiler session started.\n",
      "2021-11-22 15:34:04.374598: E tensorflow/core/profiler/internal/gpu/cupti_tracer.cc:1408] function cupti_interface_->Subscribe( &subscriber_, (CUpti_CallbackFunc)ApiCallback, this)failed with error CUPTI could not be loaded or symbol could not be found.\n",
      "2021-11-22 15:34:04.374616: E tensorflow/core/profiler/internal/gpu/cupti_tracer.cc:1447] function cupti_interface_->ActivityRegisterCallbacks( AllocCuptiActivityBuffer, FreeCuptiActivityBuffer)failed with error CUPTI could not be loaded or symbol could not be found.\n"
     ]
    },
    {
     "name": "stdout",
     "output_type": "stream",
     "text": [
      "  3/100 [..............................] - ETA: 12s - loss: 0.9619 - accuracy: 0.6875"
     ]
    },
    {
     "name": "stderr",
     "output_type": "stream",
     "text": [
      "2021-11-22 15:34:04.629923: E tensorflow/core/profiler/internal/gpu/cupti_tracer.cc:1430] function cupti_interface_->EnableCallback( 0 , subscriber_, CUPTI_CB_DOMAIN_DRIVER_API, cbid)failed with error CUPTI could not be loaded or symbol could not be found.\n",
      "2021-11-22 15:34:04.630816: I tensorflow/core/profiler/internal/gpu/device_tracer.cc:216]  GpuTracer has collected 0 callback api events and 0 activity events.\n",
      "2021-11-22 15:34:04.636683: I tensorflow/core/profiler/rpc/client/save_profile.cc:168] Creating directory: /nfs/pony/chenhao/experiment/config_ai_example/tensorboard/cls_token_classify_example-2021-11-22-15:33:59/train/plugins/profile/2021_11_22_15_34_04\n",
      "2021-11-22 15:34:04.640255: I tensorflow/core/profiler/rpc/client/save_profile.cc:174] Dumped gzipped tool data for trace.json.gz to /nfs/pony/chenhao/experiment/config_ai_example/tensorboard/cls_token_classify_example-2021-11-22-15:33:59/train/plugins/profile/2021_11_22_15_34_04/hpc4.ipa.aidigger.com.trace.json.gz\n",
      "2021-11-22 15:34:04.641023: I tensorflow/core/profiler/utils/event_span.cc:288] Generation of step-events took 0.001 ms\n",
      "\n",
      "2021-11-22 15:34:04.644629: I tensorflow/python/profiler/internal/profiler_wrapper.cc:87] Creating directory: /nfs/pony/chenhao/experiment/config_ai_example/tensorboard/cls_token_classify_example-2021-11-22-15:33:59/train/plugins/profile/2021_11_22_15_34_04Dumped tool data for overview_page.pb to /nfs/pony/chenhao/experiment/config_ai_example/tensorboard/cls_token_classify_example-2021-11-22-15:33:59/train/plugins/profile/2021_11_22_15_34_04/hpc4.ipa.aidigger.com.overview_page.pb\n",
      "Dumped tool data for input_pipeline.pb to /nfs/pony/chenhao/experiment/config_ai_example/tensorboard/cls_token_classify_example-2021-11-22-15:33:59/train/plugins/profile/2021_11_22_15_34_04/hpc4.ipa.aidigger.com.input_pipeline.pb\n",
      "Dumped tool data for tensorflow_stats.pb to /nfs/pony/chenhao/experiment/config_ai_example/tensorboard/cls_token_classify_example-2021-11-22-15:33:59/train/plugins/profile/2021_11_22_15_34_04/hpc4.ipa.aidigger.com.tensorflow_stats.pb\n",
      "Dumped tool data for kernel_stats.pb to /nfs/pony/chenhao/experiment/config_ai_example/tensorboard/cls_token_classify_example-2021-11-22-15:33:59/train/plugins/profile/2021_11_22_15_34_04/hpc4.ipa.aidigger.com.kernel_stats.pb\n",
      "\n"
     ]
    },
    {
     "name": "stdout",
     "output_type": "stream",
     "text": [
      "100/100 [==============================] - 13s 131ms/step - loss: 0.0684 - accuracy: 0.9906 - val_loss: 4.2819e-04 - val_accuracy: 1.0000\n",
      "Epoch 2/2\n",
      "100/100 [==============================] - 11s 112ms/step - loss: 7.2778e-04 - accuracy: 1.0000 - val_loss: 1.6088e-04 - val_accuracy: 1.0000\n"
     ]
    },
    {
     "name": "stderr",
     "output_type": "stream",
     "text": [
      "2021-11-22 15:34:28 [INFO][tf_core.py:189]:training finished\n",
      "2021-11-22 15:34:28 [INFO][utils.py:226]:*******************************************************training phase end*******************************************************\n",
      "2021-11-22 15:34:28 [INFO][utils.py:226]:*******************************************************saving phase start*******************************************************\n",
      "2021-11-22 15:34:28 [INFO][core.py:79]:saving model to /nfs/pony/chenhao/experiment/config_ai_example/cls_token_classify_example/model\n",
      "2021-11-22 15:34:28 [INFO][tf_core.py:55]:saving keras model to path:/nfs/pony/chenhao/experiment/config_ai_example/cls_token_classify_example/model/nn_model/nn_model.h5\n",
      "2021-11-22 15:34:30 [INFO][tf_core.py:67]:saving tf serving model to path:/nfs/pony/chenhao/experiment/config_ai_example/cls_token_classify_example/model/nn_model/tf_serving_model/1\n",
      "2021-11-22 15:34:34.829871: W tensorflow/python/util/util.cc:329] Sets are not currently considered sequences, but this may change in the future, so consider avoiding using them.\n",
      "2021-11-22 15:34:40 [WARNING][deprecation.py:500]:From /nfs/pony/chenhao/envs/config_ai/lib/python3.8/site-packages/tensorflow/python/ops/resource_variable_ops.py:1813: calling BaseResourceVariable.__init__ (from tensorflow.python.ops.resource_variable_ops) with constraint is deprecated and will be removed in a future version.\n",
      "Instructions for updating:\n",
      "If using Keras pass *_constraint arguments to layers.\n",
      "2021-11-22 15:34:43 [INFO][tf_core.py:70]:compress... tf serving model(for euler deployment)...\n",
      "2021-11-22 15:34:43 [INFO][utils.py:182]:execute cmd:cd /nfs/pony/chenhao/experiment/config_ai_example/cls_token_classify_example/model/nn_model/tf_serving_model; tar czvf 1.tar.gz 1\n",
      "2021-11-22 15:34:52 [INFO][utils.py:184]:status:0\n",
      "output1/\n",
      "1/variables/\n",
      "1/variables/variables.data-00001-of-00002\n",
      "1/variables/variables.data-00000-of-00002\n",
      "1/variables/variables.index\n",
      "1/assets/\n",
      "1/saved_model.pb\n",
      "2021-11-22 15:34:52 [INFO][core.py:144]:save model done\n",
      "2021-11-22 15:34:52 [INFO][utils.py:226]:********************************************************saving phase end********************************************************\n",
      "2021-11-22 15:34:52 [INFO][utils.py:226]:******************************************************testing phase start*******************************************************\n",
      "2021-11-22 15:34:52 [INFO][experiments.py:178]:predict result on train data:\n",
      "2021-11-22 15:34:52 [INFO][tf_core.py:204]:predicting with tf model...\n",
      "2021-11-22 15:34:52 [INFO][decorators.py:28]:function:_model_predict cost:0.043 seconds\n",
      "2021-11-22 15:34:52 [INFO][decorators.py:28]:function:_post_predict cost:0.002 seconds\n",
      "2021-11-22 15:34:52 [INFO][experiments.py:183]:output pred :3 result to /nfs/pony/chenhao/experiment/config_ai_example/cls_token_classify_example/output/train.json\n",
      "2021-11-22 15:34:52 [INFO][experiments.py:186]:evaluating on train data\n",
      "2021-11-22 15:34:52 [INFO][experiments.py:189]:{\n",
      "    \"detail\": {\n",
      "        \"负向\": {\n",
      "            \"tp\": 1,\n",
      "            \"fp\": 0,\n",
      "            \"fn\": 0,\n",
      "            \"precision\": 1.0,\n",
      "            \"recall\": 1.0,\n",
      "            \"f1\": 1.0\n",
      "        },\n",
      "        \"正向\": {\n",
      "            \"tp\": 1,\n",
      "            \"fp\": 0,\n",
      "            \"fn\": 0,\n",
      "            \"precision\": 1.0,\n",
      "            \"recall\": 1.0,\n",
      "            \"f1\": 1.0\n",
      "        },\n",
      "        \"中性\": {\n",
      "            \"tp\": 1,\n",
      "            \"fp\": 0,\n",
      "            \"fn\": 0,\n",
      "            \"precision\": 1.0,\n",
      "            \"recall\": 1.0,\n",
      "            \"f1\": 1.0\n",
      "        }\n",
      "    },\n",
      "    \"micro\": {\n",
      "        \"tp\": 3,\n",
      "        \"fp\": 0,\n",
      "        \"fn\": 0,\n",
      "        \"precision\": 1.0,\n",
      "        \"recall\": 1.0,\n",
      "        \"f1\": 1.0\n",
      "    },\n",
      "    \"macro\": {\n",
      "        \"precision\": 1.0,\n",
      "        \"recall\": 1.0,\n",
      "        \"f1\": 1.0\n",
      "    }\n",
      "}\n",
      "2021-11-22 15:34:52 [INFO][experiments.py:191]:writing eval result to :/nfs/pony/chenhao/experiment/config_ai_example/cls_token_classify_example/eval/train.json\n",
      "2021-11-22 15:34:52 [INFO][experiments.py:178]:predict result on dev data:\n",
      "2021-11-22 15:34:52 [INFO][tf_core.py:204]:predicting with tf model...\n",
      "2021-11-22 15:34:52 [INFO][decorators.py:28]:function:_model_predict cost:0.045 seconds\n",
      "2021-11-22 15:34:52 [INFO][decorators.py:28]:function:_post_predict cost:0.001 seconds\n",
      "2021-11-22 15:34:52 [INFO][experiments.py:183]:output pred :3 result to /nfs/pony/chenhao/experiment/config_ai_example/cls_token_classify_example/output/dev.json\n",
      "2021-11-22 15:34:52 [INFO][experiments.py:186]:evaluating on dev data\n",
      "2021-11-22 15:34:52 [INFO][experiments.py:189]:{\n",
      "    \"detail\": {\n",
      "        \"负向\": {\n",
      "            \"tp\": 1,\n",
      "            \"fp\": 0,\n",
      "            \"fn\": 0,\n",
      "            \"precision\": 1.0,\n",
      "            \"recall\": 1.0,\n",
      "            \"f1\": 1.0\n",
      "        },\n",
      "        \"正向\": {\n",
      "            \"tp\": 1,\n",
      "            \"fp\": 0,\n",
      "            \"fn\": 0,\n",
      "            \"precision\": 1.0,\n",
      "            \"recall\": 1.0,\n",
      "            \"f1\": 1.0\n",
      "        },\n",
      "        \"中性\": {\n",
      "            \"tp\": 1,\n",
      "            \"fp\": 0,\n",
      "            \"fn\": 0,\n",
      "            \"precision\": 1.0,\n",
      "            \"recall\": 1.0,\n",
      "            \"f1\": 1.0\n",
      "        }\n",
      "    },\n",
      "    \"micro\": {\n",
      "        \"tp\": 3,\n",
      "        \"fp\": 0,\n",
      "        \"fn\": 0,\n",
      "        \"precision\": 1.0,\n",
      "        \"recall\": 1.0,\n",
      "        \"f1\": 1.0\n",
      "    },\n",
      "    \"macro\": {\n",
      "        \"precision\": 1.0,\n",
      "        \"recall\": 1.0,\n",
      "        \"f1\": 1.0\n",
      "    }\n",
      "}\n",
      "2021-11-22 15:34:52 [INFO][experiments.py:191]:writing eval result to :/nfs/pony/chenhao/experiment/config_ai_example/cls_token_classify_example/eval/dev.json\n",
      "2021-11-22 15:34:52 [INFO][experiments.py:178]:predict result on test data:\n",
      "2021-11-22 15:34:52 [INFO][tf_core.py:204]:predicting with tf model...\n",
      "2021-11-22 15:34:52 [INFO][decorators.py:28]:function:_model_predict cost:0.040 seconds\n",
      "2021-11-22 15:34:52 [INFO][decorators.py:28]:function:_post_predict cost:0.001 seconds\n",
      "2021-11-22 15:34:52 [INFO][experiments.py:183]:output pred :3 result to /nfs/pony/chenhao/experiment/config_ai_example/cls_token_classify_example/output/test.json\n",
      "2021-11-22 15:34:52 [INFO][utils.py:226]:*******************************************************testing phase end********************************************************\n",
      "2021-11-22 15:34:52 [INFO][utils.py:226]:*********************************************************experiment end*********************************************************\n"
     ]
    }
   ],
   "source": [
    "experiment.run()"
   ]
  },
  {
   "cell_type": "code",
   "execution_count": null,
   "metadata": {
    "pycharm": {
     "name": "#%%\n"
    }
   },
   "outputs": [],
   "source": []
  }
 ],
 "metadata": {
  "hide_input": false,
  "kernelspec": {
   "display_name": "config_ai",
   "language": "python",
   "name": "config_ai"
  },
  "language_info": {
   "codemirror_mode": {
    "name": "ipython",
    "version": 3
   },
   "file_extension": ".py",
   "mimetype": "text/x-python",
   "name": "python",
   "nbconvert_exporter": "python",
   "pygments_lexer": "ipython3",
   "version": "3.8.12"
  },
  "toc": {
   "base_numbering": 1,
   "nav_menu": {},
   "number_sections": true,
   "sideBar": true,
   "skip_h1_title": false,
   "title_cell": "Table of Contents",
   "title_sidebar": "Contents",
   "toc_cell": false,
   "toc_position": {},
   "toc_section_display": true,
   "toc_window_display": false
  },
  "varInspector": {
   "cols": {
    "lenName": 16,
    "lenType": 16,
    "lenVar": 40
   },
   "kernels_config": {
    "python": {
     "delete_cmd_postfix": "",
     "delete_cmd_prefix": "del ",
     "library": "var_list.py",
     "varRefreshCmd": "print(var_dic_list())"
    },
    "r": {
     "delete_cmd_postfix": ") ",
     "delete_cmd_prefix": "rm(",
     "library": "var_list.r",
     "varRefreshCmd": "cat(var_dic_list()) "
    }
   },
   "types_to_exclude": [
    "module",
    "function",
    "builtin_function_or_method",
    "instance",
    "_Feature"
   ],
   "window_display": false
  }
 },
 "nbformat": 4,
 "nbformat_minor": 4
}