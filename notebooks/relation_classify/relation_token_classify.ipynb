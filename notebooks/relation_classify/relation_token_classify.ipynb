{
 "cells": [
  {
   "cell_type": "markdown",
   "metadata": {},
   "source": [
    "# load package and model"
   ]
  },
  {
   "cell_type": "code",
   "execution_count": 1,
   "metadata": {
    "ExecuteTime": {
     "end_time": "2021-11-23T03:38:23.498488Z",
     "start_time": "2021-11-23T03:38:21.365520Z"
    }
   },
   "outputs": [
    {
     "name": "stdout",
     "output_type": "stream",
     "text": [
      "The autoreload extension is already loaded. To reload it, use:\n",
      "  %reload_ext autoreload\n"
     ]
    },
    {
     "data": {
      "text/plain": [
       "['/nfs/pony/chenhao/workspace/ConfigAI/notebooks/relation_classify',\n",
       " '/nfs/pony/chenhao/workspace/python-snippets',\n",
       " '/nfs/pony/chenhao/workspace/ConfigAI',\n",
       " '/nfs/pony/chenhao/workspace/bert4keras',\n",
       " '/nfs/pony/chenhao/workspace/ConfigAI/notebooks/relation_classify',\n",
       " '/nfs/pony/chenhao/envs/config_ai/lib/python38.zip',\n",
       " '/nfs/pony/chenhao/envs/config_ai/lib/python3.8',\n",
       " '/nfs/pony/chenhao/envs/config_ai/lib/python3.8/lib-dynload',\n",
       " '',\n",
       " '/nfs/pony/chenhao/envs/config_ai/lib/python3.8/site-packages',\n",
       " '/nfs/pony/chenhao/envs/config_ai/lib/python3.8/site-packages/IPython/extensions',\n",
       " '/mnt/raid4/home/chenhao/.ipython']"
      ]
     },
     "execution_count": 1,
     "metadata": {},
     "output_type": "execute_result"
    },
    {
     "name": "stderr",
     "output_type": "stream",
     "text": [
      "2021-11-23 11:38:23 [INFO][backend.py:57]:setting tensorflow config...\n",
      "2021-11-23 11:38:23.450843: I tensorflow/stream_executor/platform/default/dso_loader.cc:44] Successfully opened dynamic library libcuda.so.1\n",
      "2021-11-23 11:38:23 [INFO][backend.py:61]:current devices:\n",
      "2021-11-23 11:38:23.463275: I tensorflow/core/common_runtime/gpu/gpu_device.cc:1561] Found device 0 with properties: \n",
      "pciBusID: 0000:06:00.0 name: NVIDIA TITAN X (Pascal) computeCapability: 6.1\n",
      "coreClock: 1.531GHz coreCount: 28 deviceMemorySize: 11.91GiB deviceMemoryBandwidth: 447.48GiB/s\n",
      "2021-11-23 11:38:23.463702: I tensorflow/stream_executor/platform/default/dso_loader.cc:44] Successfully opened dynamic library libcudart.so.10.1\n",
      "2021-11-23 11:38:23.465499: I tensorflow/stream_executor/platform/default/dso_loader.cc:44] Successfully opened dynamic library libcublas.so.10\n",
      "2021-11-23 11:38:23.467007: I tensorflow/stream_executor/platform/default/dso_loader.cc:44] Successfully opened dynamic library libcufft.so.10\n",
      "2021-11-23 11:38:23.467485: I tensorflow/stream_executor/platform/default/dso_loader.cc:44] Successfully opened dynamic library libcurand.so.10\n",
      "2021-11-23 11:38:23.469106: I tensorflow/stream_executor/platform/default/dso_loader.cc:44] Successfully opened dynamic library libcusolver.so.10\n",
      "2021-11-23 11:38:23.470946: I tensorflow/stream_executor/platform/default/dso_loader.cc:44] Successfully opened dynamic library libcusparse.so.10\n",
      "2021-11-23 11:38:23.474401: I tensorflow/stream_executor/platform/default/dso_loader.cc:44] Successfully opened dynamic library libcudnn.so.7\n",
      "2021-11-23 11:38:23.476014: I tensorflow/core/common_runtime/gpu/gpu_device.cc:1703] Adding visible gpu devices: 0\n",
      "2021-11-23 11:38:23 [INFO][backend.py:62]:cpus:[PhysicalDevice(name='/physical_device:CPU:0', device_type='CPU')]\n",
      "2021-11-23 11:38:23 [INFO][backend.py:63]:gpus:[PhysicalDevice(name='/physical_device:GPU:0', device_type='GPU')]\n",
      "2021-11-23 11:38:23 [INFO][backend.py:64]:setting gpu memory allow growth...\n",
      "2021-11-23 11:38:23 [INFO][backend.py:67]:setting soft device placement...\n",
      "2021-11-23 11:38:23 [INFO][backend.py:71]:set tf config done\n"
     ]
    }
   ],
   "source": [
    "%load_ext autoreload\n",
    "%autoreload 2\n",
    "import os\n",
    "import sys\n",
    "sys.path\n",
    "\n",
    "from config_ai.models import RelationTokenClassify\n",
    "from config_ai.evaluate import eval_text_classify\n",
    "from config_ai.models.relation_classify.common import *\n",
    "from config_ai.data_utils import *\n",
    "from config_ai.backend import set_tf_config\n",
    "from config_ai.models import load_model\n",
    "from config_ai.experiments import get_model_config\n",
    "from config_ai.utils import read_config\n",
    "from snippets.utils import *\n",
    "\n",
    "os.environ[\"CUDA_VISIBLE_DEVICES\"] = \"1\"\n",
    "set_tf_config()\n"
   ]
  },
  {
   "cell_type": "code",
   "execution_count": 2,
   "metadata": {
    "ExecuteTime": {
     "end_time": "2021-11-23T03:38:23.995389Z",
     "start_time": "2021-11-23T03:38:23.874843Z"
    }
   },
   "outputs": [
    {
     "name": "stderr",
     "output_type": "stream",
     "text": [
      "2021-11-23 11:38:23 [INFO][utils.py:56]:parsing config with path:/nfs/pony/chenhao/workspace/ConfigAI/examples/relation_classify/relation_token_classify.ini\n",
      "2021-11-23 11:38:23 [INFO][utils.py:67]:loading base config...\n",
      "2021-11-23 11:38:23 [INFO][utils.py:56]:parsing config with path:/nfs/pony/chenhao/workspace/ConfigAI/examples/base_config.ini\n"
     ]
    },
    {
     "data": {
      "text/plain": [
       "{'common_config': {'experiment_dir': '/nfs/pony/chenhao/experiment',\n",
       "  'project_name': 'config_ai_example',\n",
       "  'is_train': True,\n",
       "  'is_test': True,\n",
       "  'is_save': True,\n",
       "  'save_args': {'format': 'h5', 'tf_serving_version': 1},\n",
       "  'eval_phase_list': ['train', 'dev'],\n",
       "  'output_phase_list': ['train', 'dev', 'test'],\n",
       "  'is_overwrite_experiment': True,\n",
       "  'default_random_seed': 10,\n",
       "  'base_config': '/nfs/pony/chenhao/workspace/ConfigAI/examples/base_config.ini',\n",
       "  'model_cls': 'RelationTokenClassifyModel',\n",
       "  'model_name': 'relation_token_classify_example'},\n",
       " 'tokenizer_config': {'tokenizer_name': 'bert_word_piece',\n",
       "  'tokenizer_args': {'vocabs': '/nfs/pony/chenhao/pretrain/chinese_rbt4_L-4_H-768_A-12/vocab.txt'}},\n",
       " 'nn_model_config': {'pretrained_model_tag': 'bert',\n",
       "  'pretrained_model_path': '/nfs/pony/chenhao/pretrain/chinese_rbt4_L-4_H-768_A-12'},\n",
       " 'compile_config': {'optimizer_name': 'adam',\n",
       "  'optimizer_args': {'learning_rate': 3e-05}},\n",
       " 'train_config': {'epochs': 2,\n",
       "  'batch_size': 32,\n",
       "  'overwrite_cache': False,\n",
       "  'steps_per_epoch': 100},\n",
       " 'test_config': {'batch_size': 64, 'overwrite_cache': False},\n",
       " 'callback_config': {'tensorboard_callback': True},\n",
       " 'data_config': {'train_data_path': '/nfs/pony/chenhao/workspace/ConfigAI/data/relation_classify/labeled.jsonl',\n",
       "  'eval_data_path': '/nfs/pony/chenhao/workspace/ConfigAI/data/relation_classify/labeled.jsonl',\n",
       "  'test_data_path': '/nfs/pony/chenhao/workspace/ConfigAI/data/relation_classify/labeled.jsonl'},\n",
       " 'task_config': {'label_path': '/nfs/pony/chenhao/workspace/ConfigAI/data/relation_classify/labels.txt',\n",
       "  'text_span_label_path': '/nfs/pony/chenhao/workspace/ConfigAI/data/relation_classify/text_span_labels.txt',\n",
       "  'max_len': 128,\n",
       "  'multi_label': True,\n",
       "  'embedding_strategy': 'ENTITY_START'}}"
      ]
     },
     "execution_count": 2,
     "metadata": {},
     "output_type": "execute_result"
    },
    {
     "name": "stderr",
     "output_type": "stream",
     "text": [
      "2021-11-23 11:38:23 [INFO][core.py:47]:init model with config:\n",
      "2021-11-23 11:38:23 [INFO][relation_token_classify.py:68]:initializing tokenizer\n",
      "2021-11-23 11:38:23 [INFO][relation_token_classify.py:75]:replacing special tokens:['[S:城市]', '[O:城市]', '[S:国家]', '[O:国家]', '[/S]', '[/O]'] to vocabs\n"
     ]
    },
    {
     "data": {
      "text/plain": [
       "{0: '首都'}"
      ]
     },
     "execution_count": 2,
     "metadata": {},
     "output_type": "execute_result"
    },
    {
     "data": {
      "text/plain": [
       "<EmbeddingStrategy.ENTITY_START: 'ENTITY_START'>"
      ]
     },
     "execution_count": 2,
     "metadata": {},
     "output_type": "execute_result"
    }
   ],
   "source": [
    "config_path = \"/nfs/pony/chenhao/workspace/ConfigAI/examples/relation_classify/relation_token_classify.ini\"\n",
    "\n",
    "config = read_config(config_path)\n",
    "config\n",
    "model_config = get_model_config(config)\n",
    "# model_config\n",
    "\n",
    "model = RelationTokenClassify(config=model_config)\n",
    "model.id2label\n",
    "model.embedding_strategy"
   ]
  },
  {
   "cell_type": "markdown",
   "metadata": {},
   "source": [
    "# process data"
   ]
  },
  {
   "cell_type": "code",
   "execution_count": 3,
   "metadata": {
    "ExecuteTime": {
     "end_time": "2021-11-23T03:38:25.534218Z",
     "start_time": "2021-11-23T03:38:25.498368Z"
    }
   },
   "outputs": [
    {
     "data": {
      "text/plain": [
       "'/nfs/pony/chenhao/workspace/ConfigAI/data/relation_classify/labeled.jsonl: 2 items'"
      ]
     },
     "execution_count": 3,
     "metadata": {},
     "output_type": "execute_result"
    },
    {
     "data": {
      "text/plain": [
       "'/nfs/pony/chenhao/workspace/ConfigAI/data/relation_classify/labeled.jsonl: 2 items'"
      ]
     },
     "execution_count": 3,
     "metadata": {},
     "output_type": "execute_result"
    },
    {
     "data": {
      "text/plain": [
       "'/nfs/pony/chenhao/workspace/ConfigAI/data/relation_classify/labeled.jsonl: 2 items'"
      ]
     },
     "execution_count": 3,
     "metadata": {},
     "output_type": "execute_result"
    },
    {
     "data": {
      "text/plain": [
       "LabeledRelationClassifyExample(text='北京是中国的首都', text_span1=TextSpan(text='北京', span=(0, 2), label='城市', prob=1.0), text_span2=TextSpan(text='中国', span=(3, 5), label='国家', prob=1.0), label=[Label(name='首都', prob=1.0)])"
      ]
     },
     "execution_count": 3,
     "metadata": {},
     "output_type": "execute_result"
    }
   ],
   "source": [
    "train_data_path = config['data_config']['train_data_path']\n",
    "train_data = model.jload_lines(train_data_path)\n",
    "f\"{train_data_path}: {len(train_data)} items\"\n",
    "\n",
    "\n",
    "eval_data_path = config['data_config']['eval_data_path']\n",
    "eval_data = model.jload_lines(eval_data_path)\n",
    "f\"{eval_data_path}: {len(eval_data)} items\"\n",
    "\n",
    "\n",
    "test_data_path = config['data_config']['test_data_path']\n",
    "test_data = model.jload_lines(test_data_path)\n",
    "f\"{test_data_path}: {len(test_data)} items\"\n",
    "\n",
    "\n",
    "\n",
    "train_data[0]"
   ]
  },
  {
   "cell_type": "code",
   "execution_count": 4,
   "metadata": {
    "ExecuteTime": {
     "end_time": "2021-11-23T03:38:26.476097Z",
     "start_time": "2021-11-23T03:38:26.436509Z"
    }
   },
   "outputs": [],
   "source": [
    "data_manager = DataManager.get_instance(model=model, data=train_data)"
   ]
  },
  {
   "cell_type": "code",
   "execution_count": 5,
   "metadata": {
    "ExecuteTime": {
     "end_time": "2021-11-23T03:38:27.647900Z",
     "start_time": "2021-11-23T03:38:27.605337Z"
    }
   },
   "outputs": [
    {
     "data": {
      "text/plain": [
       "{'full_text': '[S:城市]北京[/S]是[O:国家]中国[/O]的首都',\n",
       " 'text': '[S:城市]北京[/S]是[O:国家]中国[/O]的首都',\n",
       " 'extra_text': None,\n",
       " 'token_ids': [101,\n",
       "  10,\n",
       "  1266,\n",
       "  776,\n",
       "  14,\n",
       "  3221,\n",
       "  13,\n",
       "  704,\n",
       "  1744,\n",
       "  15,\n",
       "  4638,\n",
       "  7674,\n",
       "  6963,\n",
       "  102],\n",
       " 'segment_ids': [0, 0, 0, 0, 0, 0, 0, 0, 0, 0, 0, 0, 0, 0],\n",
       " 'tokens': ['[CLS]',\n",
       "  '[S:城市]',\n",
       "  '北',\n",
       "  '京',\n",
       "  '[/S]',\n",
       "  '是',\n",
       "  '[O:国家]',\n",
       "  '中',\n",
       "  '国',\n",
       "  '[/O]',\n",
       "  '的',\n",
       "  '首',\n",
       "  '都',\n",
       "  '[SEP]'],\n",
       " 'span_idxs': [1, 6, 4, 9],\n",
       " 'labels': ['首都']}"
      ]
     },
     "execution_count": 5,
     "metadata": {},
     "output_type": "execute_result"
    }
   ],
   "source": [
    "features = data_manager.get_features()\n",
    "feature = next(features)\n",
    "feature"
   ]
  },
  {
   "cell_type": "code",
   "execution_count": 6,
   "metadata": {
    "ExecuteTime": {
     "end_time": "2021-11-23T03:38:30.038134Z",
     "start_time": "2021-11-23T03:38:29.982938Z"
    }
   },
   "outputs": [
    {
     "data": {
      "text/plain": [
       "{'idx': 0,\n",
       " 'full_text': '[S:城市]北京[/S]是[O:国家]中国[/O]的首都',\n",
       " 'text': '[S:城市]北京[/S]是[O:国家]中国[/O]的首都',\n",
       " 'extra_text': None,\n",
       " 'token_ids': [101,\n",
       "  10,\n",
       "  1266,\n",
       "  776,\n",
       "  14,\n",
       "  3221,\n",
       "  13,\n",
       "  704,\n",
       "  1744,\n",
       "  15,\n",
       "  4638,\n",
       "  7674,\n",
       "  6963,\n",
       "  102],\n",
       " 'segment_ids': [0, 0, 0, 0, 0, 0, 0, 0, 0, 0, 0, 0, 0, 0],\n",
       " 'tokens': ['[CLS]',\n",
       "  '[S:城市]',\n",
       "  '北',\n",
       "  '京',\n",
       "  '[/S]',\n",
       "  '是',\n",
       "  '[O:国家]',\n",
       "  '中',\n",
       "  '国',\n",
       "  '[/O]',\n",
       "  '的',\n",
       "  '首',\n",
       "  '都',\n",
       "  '[SEP]'],\n",
       " 'span_idxs': [1, 6, 4, 9],\n",
       " 'labels': ['首都'],\n",
       " 'classify_output': [1]}"
      ]
     },
     "execution_count": 6,
     "metadata": {},
     "output_type": "execute_result"
    }
   ],
   "source": [
    "records = data_manager.get_records(mode=\"train\")\n",
    "next(records)\n",
    "\n"
   ]
  },
  {
   "cell_type": "markdown",
   "metadata": {},
   "source": [
    "# build&compile model"
   ]
  },
  {
   "cell_type": "code",
   "execution_count": 7,
   "metadata": {
    "ExecuteTime": {
     "end_time": "2021-11-23T03:38:31.719424Z",
     "start_time": "2021-11-23T03:38:31.690385Z"
    }
   },
   "outputs": [
    {
     "data": {
      "text/plain": [
       "<EmbeddingStrategy.ENTITY_START: 'ENTITY_START'>"
      ]
     },
     "execution_count": 7,
     "metadata": {},
     "output_type": "execute_result"
    },
    {
     "data": {
      "text/plain": [
       "True"
      ]
     },
     "execution_count": 7,
     "metadata": {},
     "output_type": "execute_result"
    }
   ],
   "source": [
    "from config_ai.models.relation_classify.relation_token_classify import EmbeddingStrategy\n",
    "model.embedding_strategy\n",
    "model.embedding_strategy == EmbeddingStrategy.ENTITY_START"
   ]
  },
  {
   "cell_type": "code",
   "execution_count": 11,
   "metadata": {
    "ExecuteTime": {
     "end_time": "2021-11-23T03:38:52.872115Z",
     "start_time": "2021-11-23T03:38:50.870615Z"
    }
   },
   "outputs": [
    {
     "data": {
      "text/plain": [
       "{'pretrained_model_tag': 'bert',\n",
       " 'pretrained_model_path': '/nfs/pony/chenhao/pretrain/chinese_rbt4_L-4_H-768_A-12'}"
      ]
     },
     "execution_count": 11,
     "metadata": {},
     "output_type": "execute_result"
    },
    {
     "name": "stderr",
     "output_type": "stream",
     "text": [
      "2021-11-23 11:38:50 [INFO][tf_core.py:126]:number of devices: 1, use SINGLE scope\n",
      "2021-11-23 11:38:50 [INFO][nn_models.py:56]:loading from pretrained weights: /nfs/pony/chenhao/pretrain/chinese_rbt4_L-4_H-768_A-12/model.ckpt\n",
      "2021-11-23 11:38:52 [INFO][relation_token_classify.py:112]:nn model's summary:\n",
      "2021-11-23 11:38:52 [INFO][layer_utils.py:192]:Model: \"model_5\"\n",
      "2021-11-23 11:38:52 [INFO][layer_utils.py:193]:__________________________________________________________________________________________________\n",
      "2021-11-23 11:38:52 [INFO][layer_utils.py:190]:Layer (type)                    Output Shape         Param #     Connected to                     \n",
      "2021-11-23 11:38:52 [INFO][layer_utils.py:195]:==================================================================================================\n",
      "2021-11-23 11:38:52 [INFO][layer_utils.py:190]:token_ids (InputLayer)          [(None, None)]       0                                            \n",
      "2021-11-23 11:38:52 [INFO][layer_utils.py:259]:__________________________________________________________________________________________________\n",
      "2021-11-23 11:38:52 [INFO][layer_utils.py:190]:segment_ids (InputLayer)        [(None, None)]       0                                            \n",
      "2021-11-23 11:38:52 [INFO][layer_utils.py:259]:__________________________________________________________________________________________________\n",
      "2021-11-23 11:38:52 [INFO][layer_utils.py:190]:span_idxs (InputLayer)          [(None, 4)]          0                                            \n",
      "2021-11-23 11:38:52 [INFO][layer_utils.py:259]:__________________________________________________________________________________________________\n",
      "2021-11-23 11:38:52 [INFO][layer_utils.py:190]:model_4 (Model)                 (None, None, 768)    44974080    token_ids[0][0]                  \n",
      "2021-11-23 11:38:52 [INFO][layer_utils.py:190]:                                                                 segment_ids[0][0]                \n",
      "2021-11-23 11:38:52 [INFO][layer_utils.py:259]:__________________________________________________________________________________________________\n",
      "2021-11-23 11:38:52 [INFO][layer_utils.py:190]:tf_op_layer_strided_slice_2 (Te [(None, 2)]          0           span_idxs[0][0]                  \n",
      "2021-11-23 11:38:52 [INFO][layer_utils.py:259]:__________________________________________________________________________________________________\n",
      "2021-11-23 11:38:52 [INFO][layer_utils.py:190]:token_extract_layer (TokenExtra (None, 1536)         0           model_4[1][0]                    \n",
      "2021-11-23 11:38:52 [INFO][layer_utils.py:190]:                                                                 tf_op_layer_strided_slice_2[0][0]\n",
      "2021-11-23 11:38:52 [INFO][layer_utils.py:259]:__________________________________________________________________________________________________\n",
      "2021-11-23 11:38:52 [INFO][layer_utils.py:190]:classify_layer (Dense)          (None, 1)            1537        token_extract_layer[0][0]        \n",
      "2021-11-23 11:38:52 [INFO][layer_utils.py:259]:__________________________________________________________________________________________________\n",
      "2021-11-23 11:38:52 [INFO][layer_utils.py:190]:pos_weight_layer (Lambda)       (None, 1)            0           classify_layer[0][0]             \n",
      "2021-11-23 11:38:52 [INFO][layer_utils.py:257]:==================================================================================================\n",
      "2021-11-23 11:38:52 [INFO][layer_utils.py:268]:Total params: 44,975,617\n",
      "2021-11-23 11:38:52 [INFO][layer_utils.py:269]:Trainable params: 44,975,617\n",
      "2021-11-23 11:38:52 [INFO][layer_utils.py:270]:Non-trainable params: 0\n",
      "2021-11-23 11:38:52 [INFO][layer_utils.py:271]:__________________________________________________________________________________________________\n"
     ]
    },
    {
     "data": {
      "text/plain": [
       "<tensorflow.python.keras.engine.training.Model at 0x7fbd48538b80>"
      ]
     },
     "execution_count": 11,
     "metadata": {},
     "output_type": "execute_result"
    }
   ],
   "source": [
    "nn_model_args = dict(**config[\"nn_model_config\"])\n",
    "# nn_model_args.update(transformer_kwargs=dict(dropout_rate=0.3))\n",
    "nn_model_args\n",
    "\n",
    "model.build_model(**nn_model_args)\n",
    "\n"
   ]
  },
  {
   "cell_type": "code",
   "execution_count": 14,
   "metadata": {
    "ExecuteTime": {
     "end_time": "2021-11-23T06:31:12.314361Z",
     "start_time": "2021-11-23T06:31:11.905179Z"
    }
   },
   "outputs": [
    {
     "data": {
      "text/plain": [
       "True"
      ]
     },
     "execution_count": 14,
     "metadata": {},
     "output_type": "execute_result"
    }
   ],
   "source": [
    "model.multi_label"
   ]
  },
  {
   "cell_type": "code",
   "execution_count": 15,
   "metadata": {
    "ExecuteTime": {
     "end_time": "2021-11-23T06:33:59.986163Z",
     "start_time": "2021-11-23T06:33:59.343899Z"
    }
   },
   "outputs": [
    {
     "data": {
      "text/plain": [
       "{'optimizer_name': 'adam', 'optimizer_args': {'learning_rate': 3e-05}}"
      ]
     },
     "execution_count": 15,
     "metadata": {},
     "output_type": "execute_result"
    },
    {
     "name": "stderr",
     "output_type": "stream",
     "text": [
      "2021-11-23 14:33:59 [INFO][relation_token_classify.py:118]:compiling model...\n",
      "2021-11-23 14:33:59 [INFO][tf_core.py:126]:number of devices: 1, use SINGLE scope\n",
      "2021-11-23 14:33:59 [INFO][losses.py:101]:build loss layer with loss function:<function binary_crossentropy at 0x7fbe3384bca0>\n",
      "2021-11-23 14:33:59 [INFO][relation_token_classify.py:137]:Tensor(\"classify_output_3:0\", shape=(None, 1), dtype=float32)\n",
      "2021-11-23 14:33:59 [INFO][relation_token_classify.py:138]:Tensor(\"pos_weight_layer_2/Identity:0\", shape=(None, 1), dtype=float32)\n",
      "2021-11-23 14:33:59 [INFO][relation_token_classify.py:144]:training model's summary:\n",
      "2021-11-23 14:33:59 [INFO][layer_utils.py:192]:Model: \"train_model\"\n",
      "2021-11-23 14:33:59 [INFO][layer_utils.py:193]:__________________________________________________________________________________________________\n",
      "2021-11-23 14:33:59 [INFO][layer_utils.py:190]:Layer (type)                    Output Shape         Param #     Connected to                     \n",
      "2021-11-23 14:33:59 [INFO][layer_utils.py:195]:==================================================================================================\n",
      "2021-11-23 14:33:59 [INFO][layer_utils.py:190]:token_ids (InputLayer)          [(None, None)]       0                                            \n",
      "2021-11-23 14:33:59 [INFO][layer_utils.py:259]:__________________________________________________________________________________________________\n",
      "2021-11-23 14:33:59 [INFO][layer_utils.py:190]:segment_ids (InputLayer)        [(None, None)]       0                                            \n",
      "2021-11-23 14:33:59 [INFO][layer_utils.py:259]:__________________________________________________________________________________________________\n",
      "2021-11-23 14:33:59 [INFO][layer_utils.py:190]:span_idxs (InputLayer)          [(None, 4)]          0                                            \n",
      "2021-11-23 14:33:59 [INFO][layer_utils.py:259]:__________________________________________________________________________________________________\n",
      "2021-11-23 14:33:59 [INFO][layer_utils.py:190]:model_4 (Model)                 (None, None, 768)    44974080    token_ids[0][0]                  \n",
      "2021-11-23 14:33:59 [INFO][layer_utils.py:190]:                                                                 segment_ids[0][0]                \n",
      "2021-11-23 14:33:59 [INFO][layer_utils.py:259]:__________________________________________________________________________________________________\n",
      "2021-11-23 14:33:59 [INFO][layer_utils.py:190]:tf_op_layer_strided_slice_2 (Te [(None, 2)]          0           span_idxs[0][0]                  \n",
      "2021-11-23 14:33:59 [INFO][layer_utils.py:259]:__________________________________________________________________________________________________\n",
      "2021-11-23 14:33:59 [INFO][layer_utils.py:190]:token_extract_layer (TokenExtra (None, 1536)         0           model_4[1][0]                    \n",
      "2021-11-23 14:33:59 [INFO][layer_utils.py:190]:                                                                 tf_op_layer_strided_slice_2[0][0]\n",
      "2021-11-23 14:33:59 [INFO][layer_utils.py:259]:__________________________________________________________________________________________________\n",
      "2021-11-23 14:33:59 [INFO][layer_utils.py:190]:classify_layer (Dense)          (None, 1)            1537        token_extract_layer[0][0]        \n",
      "2021-11-23 14:33:59 [INFO][layer_utils.py:259]:__________________________________________________________________________________________________\n",
      "2021-11-23 14:33:59 [INFO][layer_utils.py:190]:classify_output (InputLayer)    [(None, 1)]          0                                            \n",
      "2021-11-23 14:33:59 [INFO][layer_utils.py:259]:__________________________________________________________________________________________________\n",
      "2021-11-23 14:33:59 [INFO][layer_utils.py:190]:pos_weight_layer (Lambda)       (None, 1)            0           classify_layer[0][0]             \n",
      "2021-11-23 14:33:59 [INFO][layer_utils.py:259]:__________________________________________________________________________________________________\n",
      "2021-11-23 14:33:59 [INFO][layer_utils.py:190]:loss_layer (LossLayer)          (None,)              0           classify_output[0][0]            \n",
      "2021-11-23 14:33:59 [INFO][layer_utils.py:190]:                                                                 pos_weight_layer[0][0]           \n",
      "2021-11-23 14:33:59 [INFO][layer_utils.py:259]:__________________________________________________________________________________________________\n",
      "2021-11-23 14:33:59 [INFO][layer_utils.py:190]:add_loss_3 (AddLoss)            (None,)              0           loss_layer[0][0]                 \n",
      "2021-11-23 14:33:59 [INFO][layer_utils.py:259]:__________________________________________________________________________________________________\n",
      "2021-11-23 14:33:59 [INFO][layer_utils.py:190]:metric_layer (MetricLayer)      (None,)              0           classify_output[0][0]            \n",
      "2021-11-23 14:33:59 [INFO][layer_utils.py:190]:                                                                 pos_weight_layer[0][0]           \n",
      "2021-11-23 14:33:59 [INFO][layer_utils.py:259]:__________________________________________________________________________________________________\n",
      "2021-11-23 14:33:59 [INFO][layer_utils.py:190]:add_metric (AddMetric)          (None,)              0           metric_layer[0][0]               \n",
      "2021-11-23 14:33:59 [INFO][layer_utils.py:257]:==================================================================================================\n",
      "2021-11-23 14:33:59 [INFO][layer_utils.py:268]:Total params: 44,975,617\n",
      "2021-11-23 14:33:59 [INFO][layer_utils.py:269]:Trainable params: 44,975,617\n",
      "2021-11-23 14:33:59 [INFO][layer_utils.py:270]:Non-trainable params: 0\n",
      "2021-11-23 14:33:59 [INFO][layer_utils.py:271]:__________________________________________________________________________________________________\n"
     ]
    }
   ],
   "source": [
    "compile_args = dict(**config[\"compile_config\"])\n",
    "# compile_args.update(rdrop_alpha=4)\n",
    "compile_args\n",
    "model.compile_model(**compile_args)\n"
   ]
  },
  {
   "cell_type": "code",
   "execution_count": 16,
   "metadata": {
    "ExecuteTime": {
     "end_time": "2021-11-23T06:34:02.443651Z",
     "start_time": "2021-11-23T06:34:02.383123Z"
    }
   },
   "outputs": [
    {
     "data": {
      "text/plain": [
       "[<tf.Tensor 'token_ids_2:0' shape=(None, None) dtype=int32>,\n",
       " <tf.Tensor 'segment_ids_2:0' shape=(None, None) dtype=int32>,\n",
       " <tf.Tensor 'span_idxs_2:0' shape=(None, 4) dtype=int32>,\n",
       " <tf.Tensor 'classify_output_3:0' shape=(None, 1) dtype=float32>]"
      ]
     },
     "execution_count": 16,
     "metadata": {},
     "output_type": "execute_result"
    },
    {
     "data": {
      "text/plain": [
       "[<tf.Tensor 'pos_weight_layer_2/Identity:0' shape=(None, 1) dtype=float32>]"
      ]
     },
     "execution_count": 16,
     "metadata": {},
     "output_type": "execute_result"
    },
    {
     "data": {
      "text/plain": [
       "[<tf.Tensor 'loss_layer_3/Identity:0' shape=(None,) dtype=float32>]"
      ]
     },
     "execution_count": 16,
     "metadata": {},
     "output_type": "execute_result"
    },
    {
     "data": {
      "text/plain": [
       "[<tensorflow.python.keras.metrics.Mean at 0x7fbd4844e910>]"
      ]
     },
     "execution_count": 16,
     "metadata": {},
     "output_type": "execute_result"
    }
   ],
   "source": [
    "model.train_model.inputs\n",
    "model.train_model.outputs\n",
    "model.train_model.losses\n",
    "model.train_model.metrics\n"
   ]
  },
  {
   "cell_type": "code",
   "execution_count": 17,
   "metadata": {
    "ExecuteTime": {
     "end_time": "2021-11-23T06:34:06.850076Z",
     "start_time": "2021-11-23T06:34:06.822208Z"
    }
   },
   "outputs": [
    {
     "data": {
      "text/plain": [
       "({'token_ids': 'int32',\n",
       "  'segment_ids': 'int32',\n",
       "  'span_idxs': 'int32',\n",
       "  'classify_output': 'float32'},\n",
       " {'token_ids': (None,),\n",
       "  'segment_ids': (None,),\n",
       "  'span_idxs': (4,),\n",
       "  'classify_output': (1,)})"
      ]
     },
     "execution_count": 17,
     "metadata": {},
     "output_type": "execute_result"
    },
    {
     "data": {
      "text/plain": [
       "({'token_ids': 'int32', 'segment_ids': 'int32', 'span_idxs': 'int32'},\n",
       " {'token_ids': (None,), 'segment_ids': (None,), 'span_idxs': (4,)})"
      ]
     },
     "execution_count": 17,
     "metadata": {},
     "output_type": "execute_result"
    }
   ],
   "source": [
    "model.get_dataset_info(\"train\")\n",
    "model.get_dataset_info(\"test\")"
   ]
  },
  {
   "cell_type": "code",
   "execution_count": 18,
   "metadata": {
    "ExecuteTime": {
     "end_time": "2021-11-23T06:34:08.812570Z",
     "start_time": "2021-11-23T06:34:08.119494Z"
    }
   },
   "outputs": [
    {
     "data": {
      "text/plain": [
       "{'token_ids': array([[ 101,   10, 1266,  776,   14, 3221,   13,  704, 1744,   15, 4638,\n",
       "         7674, 6963,  102]], dtype=int32),\n",
       " 'segment_ids': array([[0, 0, 0, 0, 0, 0, 0, 0, 0, 0, 0, 0, 0, 0]], dtype=int32),\n",
       " 'span_idxs': array([[1, 6, 4, 9]], dtype=int32),\n",
       " 'classify_output': array([[1.]], dtype=float32)}"
      ]
     },
     "execution_count": 18,
     "metadata": {},
     "output_type": "execute_result"
    }
   ],
   "source": [
    "dataset = data_manager.get_train_dataset(batch_size=1)\n",
    "\n",
    "item = next(dataset.as_numpy_iterator())\n",
    "item\n"
   ]
  },
  {
   "cell_type": "markdown",
   "metadata": {},
   "source": [
    "# train_model"
   ]
  },
  {
   "cell_type": "code",
   "execution_count": 19,
   "metadata": {
    "ExecuteTime": {
     "end_time": "2021-11-23T06:34:42.113612Z",
     "start_time": "2021-11-23T06:34:12.405080Z"
    },
    "scrolled": true
   },
   "outputs": [
    {
     "data": {
      "text/plain": [
       "{'epochs': 2,\n",
       " 'batch_size': 8,\n",
       " 'overwrite_cache': False,\n",
       " 'steps_per_epoch': 100,\n",
       " 'verbose': 1}"
      ]
     },
     "execution_count": 19,
     "metadata": {},
     "output_type": "execute_result"
    },
    {
     "name": "stderr",
     "output_type": "stream",
     "text": [
      "100%|██████████| 2/2 [00:00<00:00, 2238.75it/s]\n",
      "2021-11-23 14:34:12 [INFO][tf_core.py:173]:train on 2 tensors\n"
     ]
    },
    {
     "name": "stdout",
     "output_type": "stream",
     "text": [
      "Epoch 1/2\n"
     ]
    },
    {
     "name": "stderr",
     "output_type": "stream",
     "text": [
      "2021-11-23 14:34:17.331607: I tensorflow/stream_executor/platform/default/dso_loader.cc:44] Successfully opened dynamic library libcublas.so.10\n"
     ]
    },
    {
     "name": "stdout",
     "output_type": "stream",
     "text": [
      "100/100 [==============================] - 12s 121ms/step - loss: 0.0211 - accuracy: 0.9937\n",
      "Epoch 2/2\n",
      "100/100 [==============================] - 12s 116ms/step - loss: 1.1912e-05 - accuracy: 1.0000\n"
     ]
    },
    {
     "name": "stderr",
     "output_type": "stream",
     "text": [
      "2021-11-23 14:34:42 [INFO][tf_core.py:189]:training finished\n"
     ]
    }
   ],
   "source": [
    "train_args = dict(**config[\"train_config\"])\n",
    "train_args.update(steps_per_epoch=100, batch_size=8, verbose=1)\n",
    "train_args\n",
    "\n",
    "model.train(train_data=train_data, **train_args)"
   ]
  },
  {
   "cell_type": "markdown",
   "metadata": {},
   "source": [
    "# predict&evaluate"
   ]
  },
  {
   "cell_type": "code",
   "execution_count": 20,
   "metadata": {
    "ExecuteTime": {
     "end_time": "2021-11-23T06:35:18.412975Z",
     "start_time": "2021-11-23T06:35:17.809235Z"
    }
   },
   "outputs": [
    {
     "data": {
      "text/plain": [
       "[LabeledRelationClassifyExample(text='北京是中国的首都', text_span1=TextSpan(text='北京', span=(0, 2), label='城市', prob=1.0), text_span2=TextSpan(text='中国', span=(3, 5), label='国家', prob=1.0), label=[Label(name='首都', prob=1.0)]),\n",
       " LabeledRelationClassifyExample(text='上海不是中国的首都', text_span1=TextSpan(text='上海', span=(0, 2), label='城市', prob=1.0), text_span2=TextSpan(text='中国', span=(4, 6), label='国家', prob=1.0), label=[])]"
      ]
     },
     "execution_count": 20,
     "metadata": {},
     "output_type": "execute_result"
    },
    {
     "name": "stderr",
     "output_type": "stream",
     "text": [
      "100%|██████████| 2/2 [00:00<00:00, 2105.57it/s]\n",
      "2021-11-23 14:35:18 [INFO][tf_core.py:204]:predicting with tf model...\n",
      "1it [00:00,  6.75it/s]\n",
      "2021-11-23 14:35:18 [INFO][decorators.py:28]:function:_model_predict cost:0.151 seconds\n",
      "2021-11-23 14:35:18 [INFO][relation_token_classify.py:186]:pred tensor\n",
      "2021-11-23 14:35:18 [INFO][relation_token_classify.py:187]:tf.Tensor([0.9999976], shape=(1,), dtype=float32)\n",
      "2021-11-23 14:35:18 [INFO][relation_token_classify.py:186]:pred tensor\n",
      "2021-11-23 14:35:18 [INFO][relation_token_classify.py:187]:tf.Tensor([1.8487617e-06], shape=(1,), dtype=float32)\n",
      "2021-11-23 14:35:18 [INFO][decorators.py:28]:function:_post_predict cost:0.015 seconds\n"
     ]
    },
    {
     "data": {
      "text/plain": [
       "[[Label(name='首都', prob=0.999997615814209)], []]"
      ]
     },
     "execution_count": 20,
     "metadata": {},
     "output_type": "execute_result"
    }
   ],
   "source": [
    "to_pred = train_data[:4]\n",
    "to_pred\n",
    "\n",
    "pred = model.predict(to_pred, show_detail=True)\n",
    "pred[:4]\n"
   ]
  },
  {
   "cell_type": "code",
   "execution_count": 25,
   "metadata": {
    "ExecuteTime": {
     "end_time": "2021-11-23T06:39:11.695750Z",
     "start_time": "2021-11-23T06:39:11.588812Z"
    }
   },
   "outputs": [
    {
     "data": {
      "text/plain": [
       "[{'text': '北京是中国的首都',\n",
       "  'text_span1': {'text': '北京', 'span': (0, 2), 'label': '城市', 'prob': 1.0},\n",
       "  'text_span2': {'text': '中国', 'span': (3, 5), 'label': '国家', 'prob': 1.0},\n",
       "  'label': [{'name': '首都', 'prob': 1.0}],\n",
       "  'predict': [{'name': '首都', 'prob': 0.999997615814209}]},\n",
       " {'text': '上海不是中国的首都',\n",
       "  'text_span1': {'text': '上海', 'span': (0, 2), 'label': '城市', 'prob': 1.0},\n",
       "  'text_span2': {'text': '中国', 'span': (4, 6), 'label': '国家', 'prob': 1.0},\n",
       "  'label': [],\n",
       "  'predict': []}]"
      ]
     },
     "execution_count": 25,
     "metadata": {},
     "output_type": "execute_result"
    }
   ],
   "source": [
    "output_data = get_relation_classify_output(to_pred, pred)\n",
    "output_data[:4]"
   ]
  },
  {
   "cell_type": "code",
   "execution_count": 17,
   "metadata": {
    "ExecuteTime": {
     "end_time": "2021-11-22T07:04:51.195820Z",
     "start_time": "2021-11-22T07:04:51.139029Z"
    }
   },
   "outputs": [
    {
     "data": {
      "text/plain": [
       "{'detail': {'中性': {'tp': 1,\n",
       "   'fp': 0,\n",
       "   'fn': 0,\n",
       "   'precision': 1.0,\n",
       "   'recall': 1.0,\n",
       "   'f1': 1.0},\n",
       "  '正向': {'tp': 1,\n",
       "   'fp': 0,\n",
       "   'fn': 0,\n",
       "   'precision': 1.0,\n",
       "   'recall': 1.0,\n",
       "   'f1': 1.0},\n",
       "  '负向': {'tp': 1,\n",
       "   'fp': 0,\n",
       "   'fn': 0,\n",
       "   'precision': 1.0,\n",
       "   'recall': 1.0,\n",
       "   'f1': 1.0}},\n",
       " 'micro': {'tp': 3,\n",
       "  'fp': 0,\n",
       "  'fn': 0,\n",
       "  'precision': 1.0,\n",
       "  'recall': 1.0,\n",
       "  'f1': 1.0},\n",
       " 'macro': {'precision': 1.0, 'recall': 1.0, 'f1': 1.0}}"
      ]
     },
     "execution_count": 17,
     "metadata": {},
     "output_type": "execute_result"
    }
   ],
   "source": [
    "true_labels = [e.label for e in to_pred]\n",
    "eval_rs = eval_text_classify(true_labels, pred)\n",
    "eval_rs"
   ]
  },
  {
   "cell_type": "markdown",
   "metadata": {},
   "source": [
    "# save&load"
   ]
  },
  {
   "cell_type": "code",
   "execution_count": 18,
   "metadata": {
    "ExecuteTime": {
     "end_time": "2021-11-22T07:05:11.321320Z",
     "start_time": "2021-11-22T07:05:09.368137Z"
    }
   },
   "outputs": [
    {
     "data": {
      "text/plain": [
       "{'format': 'h5'}"
      ]
     },
     "execution_count": 18,
     "metadata": {},
     "output_type": "execute_result"
    },
    {
     "data": {
      "text/plain": [
       "'/nfs/pony/chenhao/experiment/config_ai_example/cls_token_classify_example/model'"
      ]
     },
     "execution_count": 18,
     "metadata": {},
     "output_type": "execute_result"
    },
    {
     "name": "stderr",
     "output_type": "stream",
     "text": [
      "2021-11-22 15:05:09 [INFO][core.py:79]:saving model to /nfs/pony/chenhao/experiment/config_ai_example/cls_token_classify_example/model\n",
      "2021-11-22 15:05:09 [INFO][tf_core.py:55]:saving keras model to path:/nfs/pony/chenhao/experiment/config_ai_example/cls_token_classify_example/model/nn_model/nn_model.h5\n",
      "2021-11-22 15:05:11 [INFO][core.py:144]:save model done\n"
     ]
    }
   ],
   "source": [
    "model_path = os.path.join(config[\"common_config\"][\"experiment_dir\"],\n",
    "                          config[\"common_config\"][\"project_name\"],\n",
    "                          config[\"common_config\"][\"model_name\"],\"model\")\n",
    "\n",
    "save_args = dict(**config[\"common_config\"][\"save_args\"])\n",
    "del save_args[\"tf_serving_version\"]\n",
    "\n",
    "save_args\n",
    "model_path\n",
    "\n",
    "\n",
    "model.save(path=model_path, **save_args)\n",
    "\n",
    "\n"
   ]
  },
  {
   "cell_type": "code",
   "execution_count": 19,
   "metadata": {
    "ExecuteTime": {
     "end_time": "2021-11-22T07:05:21.005930Z",
     "start_time": "2021-11-22T07:05:17.747168Z"
    }
   },
   "outputs": [
    {
     "name": "stderr",
     "output_type": "stream",
     "text": [
      "2021-11-22 15:05:17 [INFO][core.py:90]:loading model from path:/nfs/pony/chenhao/experiment/config_ai_example/cls_token_classify_example/model\n",
      "2021-11-22 15:05:17 [INFO][core.py:47]:init model with config:\n",
      "2021-11-22 15:05:17 [INFO][core.py:124]:initializing tokenizer with config:\n",
      "{\n",
      "    \"tokenizer_name\": \"bert_word_piece\",\n",
      "    \"tokenizer_args\": {\n",
      "        \"vocabs\": \"/nfs/pony/chenhao/pretrain/chinese_rbt4_L-4_H-768_A-12/vocab.txt\"\n",
      "    }\n",
      "}\n",
      "2021-11-22 15:05:17 [INFO][core.py:138]:tokenizer initialized with 21128 vocabs\n",
      "2021-11-22 15:05:17 [INFO][tf_core.py:157]:loading keras model from path:/nfs/pony/chenhao/experiment/config_ai_example/cls_token_classify_example/model/nn_model/nn_model.h5 with format:h5\n",
      "2021-11-22 15:05:20 [INFO][layer_utils.py:192]:Model: \"nn_model\"\n",
      "2021-11-22 15:05:20 [INFO][layer_utils.py:193]:__________________________________________________________________________________________________\n",
      "2021-11-22 15:05:20 [INFO][layer_utils.py:190]:Layer (type)                    Output Shape         Param #     Connected to                     \n",
      "2021-11-22 15:05:20 [INFO][layer_utils.py:195]:==================================================================================================\n",
      "2021-11-22 15:05:20 [INFO][layer_utils.py:190]:token_ids (InputLayer)          [(None, None)]       0                                            \n",
      "2021-11-22 15:05:20 [INFO][layer_utils.py:259]:__________________________________________________________________________________________________\n",
      "2021-11-22 15:05:20 [INFO][layer_utils.py:190]:segment_ids (InputLayer)        [(None, None)]       0                                            \n",
      "2021-11-22 15:05:20 [INFO][layer_utils.py:259]:__________________________________________________________________________________________________\n",
      "2021-11-22 15:05:20 [INFO][layer_utils.py:190]:model (Model)                   (None, None, 768)    44974080    token_ids[0][0]                  \n",
      "2021-11-22 15:05:20 [INFO][layer_utils.py:190]:                                                                 segment_ids[0][0]                \n",
      "2021-11-22 15:05:20 [INFO][layer_utils.py:259]:__________________________________________________________________________________________________\n",
      "2021-11-22 15:05:20 [INFO][layer_utils.py:190]:cls_layer (Lambda)              (None, 768)          0           model[1][0]                      \n",
      "2021-11-22 15:05:20 [INFO][layer_utils.py:259]:__________________________________________________________________________________________________\n",
      "2021-11-22 15:05:20 [INFO][layer_utils.py:190]:classifier (Dense)              (None, 3)            2307        cls_layer[0][0]                  \n",
      "2021-11-22 15:05:20 [INFO][layer_utils.py:257]:==================================================================================================\n",
      "2021-11-22 15:05:20 [INFO][layer_utils.py:268]:Total params: 44,976,387\n",
      "2021-11-22 15:05:20 [INFO][layer_utils.py:269]:Trainable params: 44,976,387\n",
      "2021-11-22 15:05:20 [INFO][layer_utils.py:270]:Non-trainable params: 0\n",
      "2021-11-22 15:05:20 [INFO][layer_utils.py:271]:__________________________________________________________________________________________________\n",
      "2021-11-22 15:05:21 [INFO][core.py:158]:load model done\n"
     ]
    },
    {
     "data": {
      "text/plain": [
       "<config_ai.models.text_classify.cls_token_classify.CLSTokenClassifyModel at 0x7fd070164c40>"
      ]
     },
     "execution_count": 19,
     "metadata": {},
     "output_type": "execute_result"
    }
   ],
   "source": [
    "loaded_model = load_model(path=model_path)\n",
    "loaded_model"
   ]
  },
  {
   "cell_type": "code",
   "execution_count": 20,
   "metadata": {
    "ExecuteTime": {
     "end_time": "2021-11-22T07:05:23.210486Z",
     "start_time": "2021-11-22T07:05:23.143440Z"
    }
   },
   "outputs": [
    {
     "name": "stderr",
     "output_type": "stream",
     "text": [
      "100%|██████████| 3/3 [00:00<00:00, 11285.12it/s]\n",
      "2021-11-22 15:05:23 [INFO][tf_core.py:204]:predicting with tf model...\n",
      "2021-11-22 15:05:23 [INFO][decorators.py:28]:function:_model_predict cost:0.036 seconds\n",
      "2021-11-22 15:05:23 [INFO][decorators.py:28]:function:_post_predict cost:0.001 seconds\n"
     ]
    },
    {
     "data": {
      "text/plain": [
       "[Label(name='正向', prob=0.9998229146003723),\n",
       " Label(name='负向', prob=0.9997743964195251),\n",
       " Label(name='中性', prob=0.9997645020484924)]"
      ]
     },
     "execution_count": 20,
     "metadata": {},
     "output_type": "execute_result"
    }
   ],
   "source": [
    "loaded_pred = loaded_model.predict(data=to_pred)\n",
    "loaded_pred"
   ]
  },
  {
   "cell_type": "code",
   "execution_count": null,
   "metadata": {},
   "outputs": [],
   "source": []
  }
 ],
 "metadata": {
  "hide_input": false,
  "kernelspec": {
   "display_name": "config_ai",
   "language": "python",
   "name": "config_ai"
  },
  "language_info": {
   "codemirror_mode": {
    "name": "ipython",
    "version": 3
   },
   "file_extension": ".py",
   "mimetype": "text/x-python",
   "name": "python",
   "nbconvert_exporter": "python",
   "pygments_lexer": "ipython3",
   "version": "3.8.12"
  },
  "toc": {
   "base_numbering": 1,
   "nav_menu": {},
   "number_sections": true,
   "sideBar": true,
   "skip_h1_title": false,
   "title_cell": "Table of Contents",
   "title_sidebar": "Contents",
   "toc_cell": false,
   "toc_position": {},
   "toc_section_display": true,
   "toc_window_display": false
  },
  "varInspector": {
   "cols": {
    "lenName": 16,
    "lenType": 16,
    "lenVar": 40
   },
   "kernels_config": {
    "python": {
     "delete_cmd_postfix": "",
     "delete_cmd_prefix": "del ",
     "library": "var_list.py",
     "varRefreshCmd": "print(var_dic_list())"
    },
    "r": {
     "delete_cmd_postfix": ") ",
     "delete_cmd_prefix": "rm(",
     "library": "var_list.r",
     "varRefreshCmd": "cat(var_dic_list()) "
    }
   },
   "position": {
    "height": "508px",
    "left": "1088px",
    "right": "20px",
    "top": "120px",
    "width": "333px"
   },
   "types_to_exclude": [
    "module",
    "function",
    "builtin_function_or_method",
    "instance",
    "_Feature"
   ],
   "window_display": false
  }
 },
 "nbformat": 4,
 "nbformat_minor": 4
}
