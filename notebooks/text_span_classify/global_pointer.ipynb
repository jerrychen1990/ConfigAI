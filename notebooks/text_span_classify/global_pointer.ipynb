{
 "cells": [
  {
   "cell_type": "markdown",
   "metadata": {},
   "source": [
    "# load package and model"
   ]
  },
  {
   "cell_type": "code",
   "execution_count": 1,
   "metadata": {
    "ExecuteTime": {
     "end_time": "2021-11-22T07:22:49.340756Z",
     "start_time": "2021-11-22T07:22:47.217245Z"
    }
   },
   "outputs": [
    {
     "name": "stdout",
     "output_type": "stream",
     "text": [
      "The autoreload extension is already loaded. To reload it, use:\n",
      "  %reload_ext autoreload\n"
     ]
    },
    {
     "data": {
      "text/plain": [
       "['/nfs/pony/chenhao/workspace/ConfigAI/notebooks/text_span_classify',\n",
       " '/nfs/pony/chenhao/workspace/python-snippets',\n",
       " '/nfs/pony/chenhao/workspace/ConfigAI',\n",
       " '/nfs/pony/chenhao/workspace/bert4keras',\n",
       " '/nfs/pony/chenhao/workspace/ConfigAI/notebooks/text_span_classify',\n",
       " '/nfs/pony/chenhao/envs/config_ai/lib/python38.zip',\n",
       " '/nfs/pony/chenhao/envs/config_ai/lib/python3.8',\n",
       " '/nfs/pony/chenhao/envs/config_ai/lib/python3.8/lib-dynload',\n",
       " '',\n",
       " '/nfs/pony/chenhao/envs/config_ai/lib/python3.8/site-packages',\n",
       " '/nfs/pony/chenhao/envs/config_ai/lib/python3.8/site-packages/IPython/extensions',\n",
       " '/mnt/raid4/home/chenhao/.ipython']"
      ]
     },
     "execution_count": 1,
     "metadata": {},
     "output_type": "execute_result"
    },
    {
     "name": "stderr",
     "output_type": "stream",
     "text": [
      "2021-11-22 15:22:49 [INFO][backend.py:57]:setting tensorflow config...\n",
      "2021-11-22 15:22:49.233063: I tensorflow/stream_executor/platform/default/dso_loader.cc:44] Successfully opened dynamic library libcuda.so.1\n",
      "2021-11-22 15:22:49 [INFO][backend.py:61]:current devices:\n",
      "2021-11-22 15:22:49 [INFO][backend.py:62]:cpus:[PhysicalDevice(name='/physical_device:CPU:0', device_type='CPU')]\n",
      "2021-11-22 15:22:49.296197: I tensorflow/core/common_runtime/gpu/gpu_device.cc:1561] Found device 0 with properties: \n",
      "pciBusID: 0000:06:00.0 name: NVIDIA TITAN X (Pascal) computeCapability: 6.1\n",
      "coreClock: 1.531GHz coreCount: 28 deviceMemorySize: 11.91GiB deviceMemoryBandwidth: 447.48GiB/s\n",
      "2021-11-22 15:22:49.296641: I tensorflow/stream_executor/platform/default/dso_loader.cc:44] Successfully opened dynamic library libcudart.so.10.1\n",
      "2021-11-22 15:22:49.298764: I tensorflow/stream_executor/platform/default/dso_loader.cc:44] Successfully opened dynamic library libcublas.so.10\n",
      "2021-11-22 15:22:49.302102: I tensorflow/stream_executor/platform/default/dso_loader.cc:44] Successfully opened dynamic library libcufft.so.10\n",
      "2021-11-22 15:22:49.303262: I tensorflow/stream_executor/platform/default/dso_loader.cc:44] Successfully opened dynamic library libcurand.so.10\n",
      "2021-11-22 15:22:49.305077: I tensorflow/stream_executor/platform/default/dso_loader.cc:44] Successfully opened dynamic library libcu2021-11-22 15:22:49 [INFO][backend.py:63]:gpus:[PhysicalDevice(name='/physical_device:GPU:0', device_type='GPU')]\n",
      "solver.so.10\n",
      "2021-11-22 15:22:49.306001: I tensorflow/stream_executor/platform/default/dso_loader.cc:44] Successfully opened dynamic library libcusparse.so.10\n",
      "2021-11-22 15:22:49.310151: I tensorflow/stream_executor/platform/default/dso_loader.cc:44] Successfully opened dynamic library libcudnn.so.7\n",
      "2021-11-22 15:22:49.312632: I tensorflow/core/common_runtime/gpu/gpu_device.cc:1703] Adding visible gpu devices: 0\n",
      "2021-11-22 15:22:49 [INFO][backend.py:64]:setting gpu memory allow growth...\n",
      "2021-11-22 15:22:49 [INFO][backend.py:67]:setting soft device placement...\n",
      "2021-11-22 15:22:49 [INFO][backend.py:71]:set tf config done\n"
     ]
    }
   ],
   "source": [
    "%load_ext autoreload\n",
    "%autoreload 2\n",
    "import os\n",
    "import sys\n",
    "sys.path\n",
    "\n",
    "from config_ai.models.text_span_classify import GlobalPointerModel\n",
    "from config_ai.models.text_span_classify.common import *\n",
    "\n",
    "from config_ai.evaluate import eval_text_span_classify\n",
    "from config_ai.data_utils import *\n",
    "from config_ai.backend import set_tf_config\n",
    "from config_ai.models import load_model\n",
    "from config_ai.experiments import get_model_config\n",
    "from config_ai.utils import read_config\n",
    "from snippets.utils import *\n",
    "\n",
    "os.environ[\"CUDA_VISIBLE_DEVICES\"] = \"1\"\n",
    "set_tf_config()\n"
   ]
  },
  {
   "cell_type": "code",
   "execution_count": 4,
   "metadata": {
    "ExecuteTime": {
     "end_time": "2021-11-22T07:25:36.182297Z",
     "start_time": "2021-11-22T07:25:36.051806Z"
    }
   },
   "outputs": [
    {
     "name": "stderr",
     "output_type": "stream",
     "text": [
      "2021-11-22 15:25:36 [INFO][utils.py:100]:parsing config with path:/nfs/pony/chenhao/workspace/ConfigAI/examples/text_span_classify/ner_global_pointer.ini\n",
      "2021-11-22 15:25:36 [INFO][utils.py:111]:loading base config...\n",
      "2021-11-22 15:25:36 [INFO][utils.py:100]:parsing config with path:/nfs/pony/chenhao/workspace/ConfigAI/examples/base_config.ini\n"
     ]
    },
    {
     "data": {
      "text/plain": [
       "{'common_config': {'experiment_dir': '/nfs/pony/chenhao/experiment',\n",
       "  'project_name': 'config_ai_example',\n",
       "  'is_train': True,\n",
       "  'is_test': True,\n",
       "  'is_save': True,\n",
       "  'save_args': {'format': 'h5', 'tf_serving_version': 1},\n",
       "  'eval_phase_list': ['train', 'dev'],\n",
       "  'output_phase_list': ['train', 'dev', 'test'],\n",
       "  'is_overwrite_experiment': True,\n",
       "  'default_random_seed': 10,\n",
       "  'base_config': '/nfs/pony/chenhao/workspace/ConfigAI/examples/base_config.ini',\n",
       "  'model_cls': 'GlobalPointerModel',\n",
       "  'model_name': 'global_pointer_example'},\n",
       " 'tokenizer_config': {'tokenizer_name': 'bert_word_piece',\n",
       "  'tokenizer_args': {'vocabs': '/nfs/pony/chenhao/pretrain/chinese_rbt4_L-4_H-768_A-12/vocab.txt'}},\n",
       " 'nn_model_config': {'pretrained_model_tag': 'bert',\n",
       "  'pretrained_model_path': '/nfs/pony/chenhao/pretrain/chinese_rbt4_L-4_H-768_A-12'},\n",
       " 'compile_config': {'optimizer_name': 'adam',\n",
       "  'optimizer_args': {'learning_rate': 3e-05}},\n",
       " 'train_config': {'epochs': 4,\n",
       "  'batch_size': 8,\n",
       "  'overwrite_cache': False,\n",
       "  'steps_per_epoch': 50},\n",
       " 'test_config': {'batch_size': 64, 'overwrite_cache': False},\n",
       " 'callback_config': {'tensorboard_callback': True},\n",
       " 'data_config': {'train_data_path': '/nfs/pony/chenhao/workspace/ConfigAI/data/ner/labeled.jsonl',\n",
       "  'eval_data_path': '/nfs/pony/chenhao/workspace/ConfigAI/data/ner/labeled.jsonl',\n",
       "  'test_data_path': '/nfs/pony/chenhao/workspace/ConfigAI/data/ner/labeled.jsonl'},\n",
       " 'task_config': {'label_file_path': '/nfs/pony/chenhao/workspace/ConfigAI/data/ner/labels.txt',\n",
       "  'max_len': 60}}"
      ]
     },
     "execution_count": 4,
     "metadata": {},
     "output_type": "execute_result"
    },
    {
     "name": "stderr",
     "output_type": "stream",
     "text": [
      "2021-11-22 15:25:36 [INFO][core.py:47]:init model with config:\n",
      "2021-11-22 15:25:36 [INFO][core.py:124]:initializing tokenizer with config:\n",
      "{\n",
      "    \"tokenizer_name\": \"bert_word_piece\",\n",
      "    \"tokenizer_args\": {\n",
      "        \"vocabs\": \"/nfs/pony/chenhao/pretrain/chinese_rbt4_L-4_H-768_A-12/vocab.txt\"\n",
      "    }\n",
      "}\n",
      "2021-11-22 15:25:36 [INFO][core.py:138]:tokenizer initialized with 21128 vocabs\n"
     ]
    },
    {
     "data": {
      "text/plain": [
       "{'company': 0,\n",
       " 'name': 1,\n",
       " 'position': 2,\n",
       " 'government': 3,\n",
       " 'organization': 4,\n",
       " 'movie': 5,\n",
       " 'address': 6,\n",
       " 'book': 7,\n",
       " 'scene': 8,\n",
       " 'game': 9}"
      ]
     },
     "execution_count": 4,
     "metadata": {},
     "output_type": "execute_result"
    }
   ],
   "source": [
    "config_path = \"/nfs/pony/chenhao/workspace/ConfigAI/examples/text_span_classify/ner_global_pointer.ini\"\n",
    "\n",
    "config = read_config(config_path)\n",
    "config\n",
    "model_config = get_model_config(config)\n",
    "# model_config\n",
    "\n",
    "model = GlobalPointerModel(config=model_config)\n",
    "model.label2id"
   ]
  },
  {
   "cell_type": "markdown",
   "metadata": {},
   "source": [
    "# process data"
   ]
  },
  {
   "cell_type": "code",
   "execution_count": 5,
   "metadata": {
    "ExecuteTime": {
     "end_time": "2021-11-22T07:25:39.526770Z",
     "start_time": "2021-11-22T07:25:39.482703Z"
    }
   },
   "outputs": [
    {
     "data": {
      "text/plain": [
       "'/nfs/pony/chenhao/workspace/ConfigAI/data/ner/labeled.jsonl: 4 items'"
      ]
     },
     "execution_count": 5,
     "metadata": {},
     "output_type": "execute_result"
    },
    {
     "data": {
      "text/plain": [
       "'/nfs/pony/chenhao/workspace/ConfigAI/data/ner/labeled.jsonl: 4 items'"
      ]
     },
     "execution_count": 5,
     "metadata": {},
     "output_type": "execute_result"
    },
    {
     "data": {
      "text/plain": [
       "'/nfs/pony/chenhao/workspace/ConfigAI/data/ner/labeled.jsonl: 4 items'"
      ]
     },
     "execution_count": 5,
     "metadata": {},
     "output_type": "execute_result"
    },
    {
     "data": {
      "text/plain": [
       "LabeledTextSpanClassifyExample(text='浙商银行企业信贷部叶老桂博士则从另一个角度对五道门槛进行了解读。叶老桂认为，对目前国内商业银行而言，', text_spans=[TextSpan(text='叶老桂', span=(9, 12), label='name', prob=1.0), TextSpan(text='浙商银行', span=(0, 4), label='company', prob=1.0)])"
      ]
     },
     "execution_count": 5,
     "metadata": {},
     "output_type": "execute_result"
    }
   ],
   "source": [
    "train_data_path = config['data_config']['train_data_path']\n",
    "train_data = model.jload_lines(train_data_path)\n",
    "f\"{train_data_path}: {len(train_data)} items\"\n",
    "\n",
    "\n",
    "eval_data_path = config['data_config']['eval_data_path']\n",
    "eval_data = model.jload_lines(eval_data_path)\n",
    "f\"{eval_data_path}: {len(eval_data)} items\"\n",
    "\n",
    "\n",
    "test_data_path = config['data_config']['test_data_path']\n",
    "test_data = model.jload_lines(test_data_path)\n",
    "f\"{test_data_path}: {len(test_data)} items\"\n",
    "\n",
    "\n",
    "\n",
    "train_data[0]"
   ]
  },
  {
   "cell_type": "code",
   "execution_count": 8,
   "metadata": {
    "ExecuteTime": {
     "end_time": "2021-11-22T07:26:11.465057Z",
     "start_time": "2021-11-22T07:26:11.015090Z"
    }
   },
   "outputs": [],
   "source": [
    "data_manager = DataManager.get_instance(model=model, data=train_data)"
   ]
  },
  {
   "cell_type": "code",
   "execution_count": 9,
   "metadata": {
    "ExecuteTime": {
     "end_time": "2021-11-22T07:26:11.645084Z",
     "start_time": "2021-11-22T07:26:11.523195Z"
    }
   },
   "outputs": [
    {
     "data": {
      "text/plain": [
       "{'full_text': '浙商银行企业信贷部叶老桂博士则从另一个角度对五道门槛进行了解读。叶老桂认为，对目前国内商业银行而言，',\n",
       " 'text': '浙商银行企业信贷部叶老桂博士则从另一个角度对五道门槛进行了解读。叶老桂认为，对目前国内商业银行而言，',\n",
       " 'extra_text': None,\n",
       " 'token_ids': [101,\n",
       "  3851,\n",
       "  1555,\n",
       "  7213,\n",
       "  6121,\n",
       "  821,\n",
       "  689,\n",
       "  928,\n",
       "  6587,\n",
       "  6956,\n",
       "  1383,\n",
       "  5439,\n",
       "  3424,\n",
       "  1300,\n",
       "  1894,\n",
       "  1156,\n",
       "  794,\n",
       "  1369,\n",
       "  671,\n",
       "  702,\n",
       "  6235,\n",
       "  2428,\n",
       "  2190,\n",
       "  758,\n",
       "  6887,\n",
       "  7305,\n",
       "  3546,\n",
       "  6822,\n",
       "  6121,\n",
       "  749,\n",
       "  6237,\n",
       "  6438,\n",
       "  511,\n",
       "  1383,\n",
       "  5439,\n",
       "  3424,\n",
       "  6371,\n",
       "  711,\n",
       "  8024,\n",
       "  2190,\n",
       "  4680,\n",
       "  1184,\n",
       "  1744,\n",
       "  1079,\n",
       "  1555,\n",
       "  689,\n",
       "  7213,\n",
       "  6121,\n",
       "  5445,\n",
       "  6241,\n",
       "  8024,\n",
       "  102],\n",
       " 'segment_ids': [0,\n",
       "  0,\n",
       "  0,\n",
       "  0,\n",
       "  0,\n",
       "  0,\n",
       "  0,\n",
       "  0,\n",
       "  0,\n",
       "  0,\n",
       "  0,\n",
       "  0,\n",
       "  0,\n",
       "  0,\n",
       "  0,\n",
       "  0,\n",
       "  0,\n",
       "  0,\n",
       "  0,\n",
       "  0,\n",
       "  0,\n",
       "  0,\n",
       "  0,\n",
       "  0,\n",
       "  0,\n",
       "  0,\n",
       "  0,\n",
       "  0,\n",
       "  0,\n",
       "  0,\n",
       "  0,\n",
       "  0,\n",
       "  0,\n",
       "  0,\n",
       "  0,\n",
       "  0,\n",
       "  0,\n",
       "  0,\n",
       "  0,\n",
       "  0,\n",
       "  0,\n",
       "  0,\n",
       "  0,\n",
       "  0,\n",
       "  0,\n",
       "  0,\n",
       "  0,\n",
       "  0,\n",
       "  0,\n",
       "  0,\n",
       "  0,\n",
       "  0],\n",
       " 'tokens': ['[CLS]',\n",
       "  '浙',\n",
       "  '商',\n",
       "  '银',\n",
       "  '行',\n",
       "  '企',\n",
       "  '业',\n",
       "  '信',\n",
       "  '贷',\n",
       "  '部',\n",
       "  '叶',\n",
       "  '老',\n",
       "  '桂',\n",
       "  '博',\n",
       "  '士',\n",
       "  '则',\n",
       "  '从',\n",
       "  '另',\n",
       "  '一',\n",
       "  '个',\n",
       "  '角',\n",
       "  '度',\n",
       "  '对',\n",
       "  '五',\n",
       "  '道',\n",
       "  '门',\n",
       "  '槛',\n",
       "  '进',\n",
       "  '行',\n",
       "  '了',\n",
       "  '解',\n",
       "  '读',\n",
       "  '。',\n",
       "  '叶',\n",
       "  '老',\n",
       "  '桂',\n",
       "  '认',\n",
       "  '为',\n",
       "  '，',\n",
       "  '对',\n",
       "  '目',\n",
       "  '前',\n",
       "  '国',\n",
       "  '内',\n",
       "  '商',\n",
       "  '业',\n",
       "  '银',\n",
       "  '行',\n",
       "  '而',\n",
       "  '言',\n",
       "  '，',\n",
       "  '[SEP]'],\n",
       " 'token2char': [(0, 0),\n",
       "  (0, 1),\n",
       "  (1, 2),\n",
       "  (2, 3),\n",
       "  (3, 4),\n",
       "  (4, 5),\n",
       "  (5, 6),\n",
       "  (6, 7),\n",
       "  (7, 8),\n",
       "  (8, 9),\n",
       "  (9, 10),\n",
       "  (10, 11),\n",
       "  (11, 12),\n",
       "  (12, 13),\n",
       "  (13, 14),\n",
       "  (14, 15),\n",
       "  (15, 16),\n",
       "  (16, 17),\n",
       "  (17, 18),\n",
       "  (18, 19),\n",
       "  (19, 20),\n",
       "  (20, 21),\n",
       "  (21, 22),\n",
       "  (22, 23),\n",
       "  (23, 24),\n",
       "  (24, 25),\n",
       "  (25, 26),\n",
       "  (26, 27),\n",
       "  (27, 28),\n",
       "  (28, 29),\n",
       "  (29, 30),\n",
       "  (30, 31),\n",
       "  (31, 32),\n",
       "  (32, 33),\n",
       "  (33, 34),\n",
       "  (34, 35),\n",
       "  (35, 36),\n",
       "  (36, 37),\n",
       "  (37, 38),\n",
       "  (38, 39),\n",
       "  (39, 40),\n",
       "  (40, 41),\n",
       "  (41, 42),\n",
       "  (42, 43),\n",
       "  (43, 44),\n",
       "  (44, 45),\n",
       "  (45, 46),\n",
       "  (46, 47),\n",
       "  (47, 48),\n",
       "  (48, 49),\n",
       "  (49, 50),\n",
       "  (0, 0)],\n",
       " 'char2token': [1,\n",
       "  2,\n",
       "  3,\n",
       "  4,\n",
       "  5,\n",
       "  6,\n",
       "  7,\n",
       "  8,\n",
       "  9,\n",
       "  10,\n",
       "  11,\n",
       "  12,\n",
       "  13,\n",
       "  14,\n",
       "  15,\n",
       "  16,\n",
       "  17,\n",
       "  18,\n",
       "  19,\n",
       "  20,\n",
       "  21,\n",
       "  22,\n",
       "  23,\n",
       "  24,\n",
       "  25,\n",
       "  26,\n",
       "  27,\n",
       "  28,\n",
       "  29,\n",
       "  30,\n",
       "  31,\n",
       "  32,\n",
       "  33,\n",
       "  34,\n",
       "  35,\n",
       "  36,\n",
       "  37,\n",
       "  38,\n",
       "  39,\n",
       "  40,\n",
       "  41,\n",
       "  42,\n",
       "  43,\n",
       "  44,\n",
       "  45,\n",
       "  46,\n",
       "  47,\n",
       "  48,\n",
       "  49,\n",
       "  50],\n",
       " 'text_spans': [{'text': '叶老桂', 'span': (9, 12), 'label': 'name', 'prob': 1.0},\n",
       "  {'text': '浙商银行', 'span': (0, 4), 'label': 'company', 'prob': 1.0}]}"
      ]
     },
     "execution_count": 9,
     "metadata": {},
     "output_type": "execute_result"
    }
   ],
   "source": [
    "features = data_manager.get_features()\n",
    "feature = next(features)\n",
    "feature"
   ]
  },
  {
   "cell_type": "code",
   "execution_count": 10,
   "metadata": {
    "ExecuteTime": {
     "end_time": "2021-11-22T07:26:15.498121Z",
     "start_time": "2021-11-22T07:26:15.464898Z"
    }
   },
   "outputs": [
    {
     "data": {
      "text/plain": [
       "{'idx': 0,\n",
       " 'full_text': '浙商银行企业信贷部叶老桂博士则从另一个角度对五道门槛进行了解读。叶老桂认为，对目前国内商业银行而言，',\n",
       " 'text': '浙商银行企业信贷部叶老桂博士则从另一个角度对五道门槛进行了解读。叶老桂认为，对目前国内商业银行而言，',\n",
       " 'extra_text': None,\n",
       " 'token_ids': [101,\n",
       "  3851,\n",
       "  1555,\n",
       "  7213,\n",
       "  6121,\n",
       "  821,\n",
       "  689,\n",
       "  928,\n",
       "  6587,\n",
       "  6956,\n",
       "  1383,\n",
       "  5439,\n",
       "  3424,\n",
       "  1300,\n",
       "  1894,\n",
       "  1156,\n",
       "  794,\n",
       "  1369,\n",
       "  671,\n",
       "  702,\n",
       "  6235,\n",
       "  2428,\n",
       "  2190,\n",
       "  758,\n",
       "  6887,\n",
       "  7305,\n",
       "  3546,\n",
       "  6822,\n",
       "  6121,\n",
       "  749,\n",
       "  6237,\n",
       "  6438,\n",
       "  511,\n",
       "  1383,\n",
       "  5439,\n",
       "  3424,\n",
       "  6371,\n",
       "  711,\n",
       "  8024,\n",
       "  2190,\n",
       "  4680,\n",
       "  1184,\n",
       "  1744,\n",
       "  1079,\n",
       "  1555,\n",
       "  689,\n",
       "  7213,\n",
       "  6121,\n",
       "  5445,\n",
       "  6241,\n",
       "  8024,\n",
       "  102],\n",
       " 'segment_ids': [0,\n",
       "  0,\n",
       "  0,\n",
       "  0,\n",
       "  0,\n",
       "  0,\n",
       "  0,\n",
       "  0,\n",
       "  0,\n",
       "  0,\n",
       "  0,\n",
       "  0,\n",
       "  0,\n",
       "  0,\n",
       "  0,\n",
       "  0,\n",
       "  0,\n",
       "  0,\n",
       "  0,\n",
       "  0,\n",
       "  0,\n",
       "  0,\n",
       "  0,\n",
       "  0,\n",
       "  0,\n",
       "  0,\n",
       "  0,\n",
       "  0,\n",
       "  0,\n",
       "  0,\n",
       "  0,\n",
       "  0,\n",
       "  0,\n",
       "  0,\n",
       "  0,\n",
       "  0,\n",
       "  0,\n",
       "  0,\n",
       "  0,\n",
       "  0,\n",
       "  0,\n",
       "  0,\n",
       "  0,\n",
       "  0,\n",
       "  0,\n",
       "  0,\n",
       "  0,\n",
       "  0,\n",
       "  0,\n",
       "  0,\n",
       "  0,\n",
       "  0],\n",
       " 'tokens': ['[CLS]',\n",
       "  '浙',\n",
       "  '商',\n",
       "  '银',\n",
       "  '行',\n",
       "  '企',\n",
       "  '业',\n",
       "  '信',\n",
       "  '贷',\n",
       "  '部',\n",
       "  '叶',\n",
       "  '老',\n",
       "  '桂',\n",
       "  '博',\n",
       "  '士',\n",
       "  '则',\n",
       "  '从',\n",
       "  '另',\n",
       "  '一',\n",
       "  '个',\n",
       "  '角',\n",
       "  '度',\n",
       "  '对',\n",
       "  '五',\n",
       "  '道',\n",
       "  '门',\n",
       "  '槛',\n",
       "  '进',\n",
       "  '行',\n",
       "  '了',\n",
       "  '解',\n",
       "  '读',\n",
       "  '。',\n",
       "  '叶',\n",
       "  '老',\n",
       "  '桂',\n",
       "  '认',\n",
       "  '为',\n",
       "  '，',\n",
       "  '对',\n",
       "  '目',\n",
       "  '前',\n",
       "  '国',\n",
       "  '内',\n",
       "  '商',\n",
       "  '业',\n",
       "  '银',\n",
       "  '行',\n",
       "  '而',\n",
       "  '言',\n",
       "  '，',\n",
       "  '[SEP]'],\n",
       " 'token2char': [(0, 0),\n",
       "  (0, 1),\n",
       "  (1, 2),\n",
       "  (2, 3),\n",
       "  (3, 4),\n",
       "  (4, 5),\n",
       "  (5, 6),\n",
       "  (6, 7),\n",
       "  (7, 8),\n",
       "  (8, 9),\n",
       "  (9, 10),\n",
       "  (10, 11),\n",
       "  (11, 12),\n",
       "  (12, 13),\n",
       "  (13, 14),\n",
       "  (14, 15),\n",
       "  (15, 16),\n",
       "  (16, 17),\n",
       "  (17, 18),\n",
       "  (18, 19),\n",
       "  (19, 20),\n",
       "  (20, 21),\n",
       "  (21, 22),\n",
       "  (22, 23),\n",
       "  (23, 24),\n",
       "  (24, 25),\n",
       "  (25, 26),\n",
       "  (26, 27),\n",
       "  (27, 28),\n",
       "  (28, 29),\n",
       "  (29, 30),\n",
       "  (30, 31),\n",
       "  (31, 32),\n",
       "  (32, 33),\n",
       "  (33, 34),\n",
       "  (34, 35),\n",
       "  (35, 36),\n",
       "  (36, 37),\n",
       "  (37, 38),\n",
       "  (38, 39),\n",
       "  (39, 40),\n",
       "  (40, 41),\n",
       "  (41, 42),\n",
       "  (42, 43),\n",
       "  (43, 44),\n",
       "  (44, 45),\n",
       "  (45, 46),\n",
       "  (46, 47),\n",
       "  (47, 48),\n",
       "  (48, 49),\n",
       "  (49, 50),\n",
       "  (0, 0)],\n",
       " 'char2token': [1,\n",
       "  2,\n",
       "  3,\n",
       "  4,\n",
       "  5,\n",
       "  6,\n",
       "  7,\n",
       "  8,\n",
       "  9,\n",
       "  10,\n",
       "  11,\n",
       "  12,\n",
       "  13,\n",
       "  14,\n",
       "  15,\n",
       "  16,\n",
       "  17,\n",
       "  18,\n",
       "  19,\n",
       "  20,\n",
       "  21,\n",
       "  22,\n",
       "  23,\n",
       "  24,\n",
       "  25,\n",
       "  26,\n",
       "  27,\n",
       "  28,\n",
       "  29,\n",
       "  30,\n",
       "  31,\n",
       "  32,\n",
       "  33,\n",
       "  34,\n",
       "  35,\n",
       "  36,\n",
       "  37,\n",
       "  38,\n",
       "  39,\n",
       "  40,\n",
       "  41,\n",
       "  42,\n",
       "  43,\n",
       "  44,\n",
       "  45,\n",
       "  46,\n",
       "  47,\n",
       "  48,\n",
       "  49,\n",
       "  50],\n",
       " 'text_spans': [{'text': '叶老桂', 'span': (9, 12), 'label': 'name', 'prob': 1.0},\n",
       "  {'text': '浙商银行', 'span': (0, 4), 'label': 'company', 'prob': 1.0}],\n",
       " 'classify_output': array([[[0., 0., 0., ..., 0., 0., 0.],\n",
       "         [0., 0., 0., ..., 0., 0., 0.],\n",
       "         [0., 0., 0., ..., 0., 0., 0.],\n",
       "         ...,\n",
       "         [0., 0., 0., ..., 0., 0., 0.],\n",
       "         [0., 0., 0., ..., 0., 0., 0.],\n",
       "         [0., 0., 0., ..., 0., 0., 0.]],\n",
       " \n",
       "        [[0., 0., 0., ..., 0., 0., 0.],\n",
       "         [0., 0., 0., ..., 0., 0., 0.],\n",
       "         [0., 0., 0., ..., 0., 0., 0.],\n",
       "         ...,\n",
       "         [0., 0., 0., ..., 0., 0., 0.],\n",
       "         [0., 0., 0., ..., 0., 0., 0.],\n",
       "         [0., 0., 0., ..., 0., 0., 0.]],\n",
       " \n",
       "        [[0., 0., 0., ..., 0., 0., 0.],\n",
       "         [0., 0., 0., ..., 0., 0., 0.],\n",
       "         [0., 0., 0., ..., 0., 0., 0.],\n",
       "         ...,\n",
       "         [0., 0., 0., ..., 0., 0., 0.],\n",
       "         [0., 0., 0., ..., 0., 0., 0.],\n",
       "         [0., 0., 0., ..., 0., 0., 0.]],\n",
       " \n",
       "        ...,\n",
       " \n",
       "        [[0., 0., 0., ..., 0., 0., 0.],\n",
       "         [0., 0., 0., ..., 0., 0., 0.],\n",
       "         [0., 0., 0., ..., 0., 0., 0.],\n",
       "         ...,\n",
       "         [0., 0., 0., ..., 0., 0., 0.],\n",
       "         [0., 0., 0., ..., 0., 0., 0.],\n",
       "         [0., 0., 0., ..., 0., 0., 0.]],\n",
       " \n",
       "        [[0., 0., 0., ..., 0., 0., 0.],\n",
       "         [0., 0., 0., ..., 0., 0., 0.],\n",
       "         [0., 0., 0., ..., 0., 0., 0.],\n",
       "         ...,\n",
       "         [0., 0., 0., ..., 0., 0., 0.],\n",
       "         [0., 0., 0., ..., 0., 0., 0.],\n",
       "         [0., 0., 0., ..., 0., 0., 0.]],\n",
       " \n",
       "        [[0., 0., 0., ..., 0., 0., 0.],\n",
       "         [0., 0., 0., ..., 0., 0., 0.],\n",
       "         [0., 0., 0., ..., 0., 0., 0.],\n",
       "         ...,\n",
       "         [0., 0., 0., ..., 0., 0., 0.],\n",
       "         [0., 0., 0., ..., 0., 0., 0.],\n",
       "         [0., 0., 0., ..., 0., 0., 0.]]])}"
      ]
     },
     "execution_count": 10,
     "metadata": {},
     "output_type": "execute_result"
    }
   ],
   "source": [
    "records = data_manager.get_records(mode=\"train\")\n",
    "next(records)\n",
    "\n"
   ]
  },
  {
   "cell_type": "markdown",
   "metadata": {},
   "source": [
    "# build&compile model"
   ]
  },
  {
   "cell_type": "code",
   "execution_count": 11,
   "metadata": {
    "ExecuteTime": {
     "end_time": "2021-11-22T07:26:21.296712Z",
     "start_time": "2021-11-22T07:26:18.800531Z"
    }
   },
   "outputs": [
    {
     "data": {
      "text/plain": [
       "{'pretrained_model_tag': 'bert',\n",
       " 'pretrained_model_path': '/nfs/pony/chenhao/pretrain/chinese_rbt4_L-4_H-768_A-12'}"
      ]
     },
     "execution_count": 11,
     "metadata": {},
     "output_type": "execute_result"
    },
    {
     "name": "stderr",
     "output_type": "stream",
     "text": [
      "2021-11-22 15:26:18.842672: I tensorflow/core/platform/cpu_feature_guard.cc:143] Your CPU supports instructions that this TensorFlow binary was not compiled to use: AVX2 FMA\n",
      "2021-11-22 15:26:18.850692: I tensorflow/core/platform/profile_utils/cpu_utils.cc:102] CPU Frequency: 3597740000 Hz\n",
      "2021-11-22 15:26:18.851187: I tensorflow/compiler/xla/service/service.cc:168] XLA service 0x5627b0b5b310 initialized for platform Host (this does not guarantee that XLA will be used). Devices:\n",
      "2021-11-22 15:26:18.851208: I tensorflow/compiler/xla/service/service.cc:176]   StreamExecutor device (0): Host, Default Version\n",
      "2021-11-22 15:26:18.989935: I tensorflow/compiler/xla/service/service.cc:168] XLA service 0x5627b0bf5820 initialized for platform CUDA (this does not guarantee that XLA will be used). Devices:\n",
      "2021-11-22 15:26:18.989962: I tensorflow/compiler/xla/service/service.cc:176]   StreamExecutor device (0): NVIDIA TITAN X (Pascal), Compute Capability 6.1\n",
      "2021-11-22 15:26:18.990972: I tensorflow/core/common_runtime/gpu/gpu_device.cc:1561] Found device 0 with properties: \n",
      "pciBusID: 0000:06:00.0 name: NVIDIA TITAN X (Pascal) computeCapability: 6.1\n",
      "coreClock: 1.531GHz coreCount: 28 deviceMemorySize: 11.91GiB deviceMemoryBandwidth: 447.48GiB/s\n",
      "2021-11-22 15:26:18.991019: I tensorflow/stream_executor/platform/default/dso_loader.cc:44] Successfully opened dynamic library libcudart.so.10.1\n",
      "2021-11-22 15:26:18.991035: I tensorflow/stream_executor/platform/default/dso_loader.cc:44] Successfully opened dynamic library libcublas.so.10\n",
      "2021-11-22 15:26:18.991049: I tensorflow/stream_executor/platform/default/dso_loader.cc:44] Successfully opened dynamic library libcufft.so.10\n",
      "2021-11-22 15:26:18.991063: I tensorflow/stream_executor/platform/default/dso_loader.cc:44] Successfully opened dynamic library libcurand.so.10\n",
      "2021-11-22 15:26:18.991077: I tensorflow/stream_executor/platform/default/dso_loader.cc:44] Successfully opened dynamic library libcusolver.so.10\n",
      "2021-11-22 15:26:18.991090: I tensorflow/stream_executor/platform/default/dso_loader.cc:44] Successfully opened dynamic library libcusparse.so.10\n",
      "2021-11-22 15:26:18.991104: I tensorflow/stream_executor/platform/default/dso_loader.cc:44] Successfully opened dynamic library libcudnn.so.7\n",
      "2021-11-22 15:26:18.992719: I tensorflow/core/common_runtime/gpu/gpu_device.cc:1703] Adding visible gpu devices: 0\n",
      "2021-11-22 15:26:18.992758: I tensorflow/stream_executor/platform/default/dso_loader.cc:44] Successfully opened dynamic library libcudart.so.10.1\n",
      "2021-11-22 15:26:18.994102: I tensorflow/core/common_runtime/gpu/gpu_device.cc:1102] Device interconnect StreamExecutor with strength 1 edge matrix:\n",
      "2021-11-22 15:26:18.994116: I tensorflow/core/common_runtime/gpu/gpu_device.cc:1108]      0 \n",
      "2021-11-22 15:26:18.994123: I tensorflow/core/common_runtime/gpu/gpu_device.cc:1121] 0:   N \n",
      "2021-11-22 15:26:18.995830: I tensorflow/core/common_runtime/gpu/gpu_device.cc:1247] Created TensorFlow device (/job:localhost/replica:0/task:0/device:GPU:0 with 9850 MB memory) -> physical GPU (device: 0, name: NVIDIA TITAN X (Pascal), pci bus id: 0000:06:00.0, compute capability: 6.1)\n",
      "2021-11-22 15:26:18 [INFO][mirrored_strategy.py:500]:Using MirroredStrategy with devices ('/job:localhost/replica:0/task:0/device:GPU:0',)\n",
      "2021-11-22 15:26:18 [INFO][tf_core.py:126]:number of devices: 1, use SINGLE scope\n",
      "2021-11-22 15:26:19 [INFO][nn_models.py:56]:loading from pretrained weights: /nfs/pony/chenhao/pretrain/chinese_rbt4_L-4_H-768_A-12/model.ckpt\n",
      "2021-11-22 15:26:21 [INFO][global_pointer.py:68]:nn model's summary:\n",
      "2021-11-22 15:26:21 [INFO][layer_utils.py:192]:Model: \"token_classify_model\"\n",
      "2021-11-22 15:26:21 [INFO][layer_utils.py:193]:__________________________________________________________________________________________________\n",
      "2021-11-22 15:26:21 [INFO][layer_utils.py:190]:Layer (type)                    Output Shape         Param #     Connected to                     \n",
      "2021-11-22 15:26:21 [INFO][layer_utils.py:195]:==================================================================================================\n",
      "2021-11-22 15:26:21 [INFO][layer_utils.py:190]:token_ids (InputLayer)          [(None, None)]       0                                            \n",
      "2021-11-22 15:26:21 [INFO][layer_utils.py:259]:__________________________________________________________________________________________________\n",
      "2021-11-22 15:26:21 [INFO][layer_utils.py:190]:segment_ids (InputLayer)        [(None, None)]       0                                            \n",
      "2021-11-22 15:26:21 [INFO][layer_utils.py:259]:__________________________________________________________________________________________________\n",
      "2021-11-22 15:26:21 [INFO][layer_utils.py:190]:model (Model)                   (None, None, 768)    44974080    token_ids[0][0]                  \n",
      "2021-11-22 15:26:21 [INFO][layer_utils.py:190]:                                                                 segment_ids[0][0]                \n",
      "2021-11-22 15:26:21 [INFO][layer_utils.py:259]:__________________________________________________________________________________________________\n",
      "2021-11-22 15:26:21 [INFO][layer_utils.py:190]:global_pointer (GlobalPointer)  (None, 10, None, Non 984320      model[1][0]                      \n",
      "2021-11-22 15:26:21 [INFO][layer_utils.py:259]:__________________________________________________________________________________________________\n",
      "2021-11-22 15:26:21 [INFO][layer_utils.py:190]:pos_weight_layer (Lambda)       (None, 10, None, Non 0           global_pointer[0][0]             \n",
      "2021-11-22 15:26:21 [INFO][layer_utils.py:257]:==================================================================================================\n",
      "2021-11-22 15:26:21 [INFO][layer_utils.py:268]:Total params: 45,958,400\n",
      "2021-11-22 15:26:21 [INFO][layer_utils.py:269]:Trainable params: 45,958,400\n",
      "2021-11-22 15:26:21 [INFO][layer_utils.py:270]:Non-trainable params: 0\n",
      "2021-11-22 15:26:21 [INFO][layer_utils.py:271]:__________________________________________________________________________________________________\n"
     ]
    },
    {
     "data": {
      "text/plain": [
       "<tensorflow.python.keras.engine.training.Model at 0x7f120c7152e0>"
      ]
     },
     "execution_count": 11,
     "metadata": {},
     "output_type": "execute_result"
    }
   ],
   "source": [
    "nn_model_args = dict(**config[\"nn_model_config\"])\n",
    "# nn_model_args.update(transformer_kwargs=dict(dropout_rate=0.3))\n",
    "nn_model_args\n",
    "\n",
    "model.build_model(**nn_model_args)\n",
    "\n"
   ]
  },
  {
   "cell_type": "code",
   "execution_count": 12,
   "metadata": {
    "ExecuteTime": {
     "end_time": "2021-11-22T07:26:24.813057Z",
     "start_time": "2021-11-22T07:26:23.513619Z"
    }
   },
   "outputs": [
    {
     "data": {
      "text/plain": [
       "{'optimizer_name': 'adam', 'optimizer_args': {'learning_rate': 3e-05}}"
      ]
     },
     "execution_count": 12,
     "metadata": {},
     "output_type": "execute_result"
    },
    {
     "name": "stderr",
     "output_type": "stream",
     "text": [
      "2021-11-22 15:26:23 [INFO][global_pointer.py:75]:compile model with optimizer_name:adam, optimizer_args:{'learning_rate': 3e-05}\n",
      "2021-11-22 15:26:23 [INFO][tf_core.py:126]:number of devices: 1, use SINGLE scope\n",
      "2021-11-22 15:26:24 [INFO][global_pointer.py:92]:training model's summary:\n",
      "2021-11-22 15:26:24 [INFO][layer_utils.py:192]:Model: \"model_1\"\n",
      "2021-11-22 15:26:24 [INFO][layer_utils.py:193]:__________________________________________________________________________________________________\n",
      "2021-11-22 15:26:24 [INFO][layer_utils.py:190]:Layer (type)                    Output Shape         Param #     Connected to                     \n",
      "2021-11-22 15:26:24 [INFO][layer_utils.py:195]:==================================================================================================\n",
      "2021-11-22 15:26:24 [INFO][layer_utils.py:190]:token_ids (InputLayer)          [(None, None)]       0                                            \n",
      "2021-11-22 15:26:24 [INFO][layer_utils.py:259]:__________________________________________________________________________________________________\n",
      "2021-11-22 15:26:24 [INFO][layer_utils.py:190]:segment_ids (InputLayer)        [(None, None)]       0                                            \n",
      "2021-11-22 15:26:24 [INFO][layer_utils.py:259]:__________________________________________________________________________________________________\n",
      "2021-11-22 15:26:24 [INFO][layer_utils.py:190]:classify_output (InputLayer)    [(None, 10, None, No 0                                            \n",
      "2021-11-22 15:26:24 [INFO][layer_utils.py:259]:__________________________________________________________________________________________________\n",
      "2021-11-22 15:26:24 [INFO][layer_utils.py:190]:token_classify_model (Model)    (None, 10, None, Non 45958400    token_ids[0][0]                  \n",
      "2021-11-22 15:26:24 [INFO][layer_utils.py:190]:                                                                 segment_ids[0][0]                \n",
      "2021-11-22 15:26:24 [INFO][layer_utils.py:259]:__________________________________________________________________________________________________\n",
      "2021-11-22 15:26:24 [INFO][layer_utils.py:190]:loss_layer (LossLayer)          ()                   0           classify_output[0][0]            \n",
      "2021-11-22 15:26:24 [INFO][layer_utils.py:190]:                                                                 token_classify_model[1][0]       \n",
      "2021-11-22 15:26:24 [INFO][layer_utils.py:259]:__________________________________________________________________________________________________\n",
      "2021-11-22 15:26:24 [INFO][layer_utils.py:190]:add_loss (AddLoss)              ()                   0           loss_layer[0][0]                 \n",
      "2021-11-22 15:26:24 [INFO][layer_utils.py:259]:__________________________________________________________________________________________________\n",
      "2021-11-22 15:26:24 [INFO][layer_utils.py:190]:metric_layer (MetricLayer)      ()                   0           classify_output[0][0]            \n",
      "2021-11-22 15:26:24 [INFO][layer_utils.py:190]:                                                                 token_classify_model[1][0]       \n",
      "2021-11-22 15:26:24 [INFO][layer_utils.py:259]:__________________________________________________________________________________________________\n",
      "2021-11-22 15:26:24 [INFO][layer_utils.py:190]:add_metric (AddMetric)          ()                   0           metric_layer[0][0]               \n",
      "2021-11-22 15:26:24 [INFO][layer_utils.py:257]:==================================================================================================\n",
      "2021-11-22 15:26:24 [INFO][layer_utils.py:268]:Total params: 45,958,400\n",
      "2021-11-22 15:26:24 [INFO][layer_utils.py:269]:Trainable params: 45,958,400\n",
      "2021-11-22 15:26:24 [INFO][layer_utils.py:270]:Non-trainable params: 0\n",
      "2021-11-22 15:26:24 [INFO][layer_utils.py:271]:__________________________________________________________________________________________________\n"
     ]
    }
   ],
   "source": [
    "compile_args = dict(**config[\"compile_config\"])\n",
    "# compile_args.update(rdrop_alpha=4)\n",
    "compile_args\n",
    "model.compile_model(**compile_args)\n"
   ]
  },
  {
   "cell_type": "code",
   "execution_count": 13,
   "metadata": {
    "ExecuteTime": {
     "end_time": "2021-11-22T07:26:27.254696Z",
     "start_time": "2021-11-22T07:26:27.185544Z"
    }
   },
   "outputs": [
    {
     "data": {
      "text/plain": [
       "[<tf.Tensor 'token_ids:0' shape=(None, None) dtype=int32>,\n",
       " <tf.Tensor 'segment_ids:0' shape=(None, None) dtype=int32>,\n",
       " <tf.Tensor 'classify_output:0' shape=(None, 10, None, None) dtype=float32>]"
      ]
     },
     "execution_count": 13,
     "metadata": {},
     "output_type": "execute_result"
    },
    {
     "data": {
      "text/plain": [
       "[<tf.Tensor 'token_classify_model/Identity:0' shape=(None, 10, None, None) dtype=float32>]"
      ]
     },
     "execution_count": 13,
     "metadata": {},
     "output_type": "execute_result"
    },
    {
     "data": {
      "text/plain": [
       "[<tf.Tensor 'loss_layer/Identity:0' shape=() dtype=float32>]"
      ]
     },
     "execution_count": 13,
     "metadata": {},
     "output_type": "execute_result"
    },
    {
     "data": {
      "text/plain": [
       "[<tensorflow.python.keras.metrics.Mean at 0x7f120c3d1d30>]"
      ]
     },
     "execution_count": 13,
     "metadata": {},
     "output_type": "execute_result"
    }
   ],
   "source": [
    "model.train_model.inputs\n",
    "model.train_model.outputs\n",
    "model.train_model.losses\n",
    "model.train_model.metrics\n"
   ]
  },
  {
   "cell_type": "code",
   "execution_count": 14,
   "metadata": {
    "ExecuteTime": {
     "end_time": "2021-11-22T07:26:28.239772Z",
     "start_time": "2021-11-22T07:26:28.208165Z"
    }
   },
   "outputs": [
    {
     "data": {
      "text/plain": [
       "({'token_ids': 'int32', 'segment_ids': 'int32', 'classify_output': 'float32'},\n",
       " {'token_ids': (None,),\n",
       "  'segment_ids': (None,),\n",
       "  'classify_output': (10, None, None)})"
      ]
     },
     "execution_count": 14,
     "metadata": {},
     "output_type": "execute_result"
    },
    {
     "data": {
      "text/plain": [
       "({'token_ids': 'int32', 'segment_ids': 'int32'},\n",
       " {'token_ids': (None,), 'segment_ids': (None,)})"
      ]
     },
     "execution_count": 14,
     "metadata": {},
     "output_type": "execute_result"
    }
   ],
   "source": [
    "model.get_dataset_info(\"train\")\n",
    "model.get_dataset_info(\"test\")"
   ]
  },
  {
   "cell_type": "code",
   "execution_count": 15,
   "metadata": {
    "ExecuteTime": {
     "end_time": "2021-11-22T07:26:29.354336Z",
     "start_time": "2021-11-22T07:26:29.264888Z"
    },
    "scrolled": true
   },
   "outputs": [
    {
     "data": {
      "text/plain": [
       "{'token_ids': array([[ 101, 3851, 1555, 7213, 6121,  821,  689,  928, 6587, 6956, 1383,\n",
       "         5439, 3424, 1300, 1894, 1156,  794, 1369,  671,  702, 6235, 2428,\n",
       "         2190,  758, 6887, 7305, 3546, 6822, 6121,  749, 6237, 6438,  511,\n",
       "         1383, 5439, 3424, 6371,  711, 8024, 2190, 4680, 1184, 1744, 1079,\n",
       "         1555,  689, 7213, 6121, 5445, 6241, 8024,  102]], dtype=int32),\n",
       " 'segment_ids': array([[0, 0, 0, 0, 0, 0, 0, 0, 0, 0, 0, 0, 0, 0, 0, 0, 0, 0, 0, 0, 0, 0,\n",
       "         0, 0, 0, 0, 0, 0, 0, 0, 0, 0, 0, 0, 0, 0, 0, 0, 0, 0, 0, 0, 0, 0,\n",
       "         0, 0, 0, 0, 0, 0, 0, 0]], dtype=int32),\n",
       " 'classify_output': array([[[[0., 0., 0., ..., 0., 0., 0.],\n",
       "          [0., 0., 0., ..., 0., 0., 0.],\n",
       "          [0., 0., 0., ..., 0., 0., 0.],\n",
       "          ...,\n",
       "          [0., 0., 0., ..., 0., 0., 0.],\n",
       "          [0., 0., 0., ..., 0., 0., 0.],\n",
       "          [0., 0., 0., ..., 0., 0., 0.]],\n",
       " \n",
       "         [[0., 0., 0., ..., 0., 0., 0.],\n",
       "          [0., 0., 0., ..., 0., 0., 0.],\n",
       "          [0., 0., 0., ..., 0., 0., 0.],\n",
       "          ...,\n",
       "          [0., 0., 0., ..., 0., 0., 0.],\n",
       "          [0., 0., 0., ..., 0., 0., 0.],\n",
       "          [0., 0., 0., ..., 0., 0., 0.]],\n",
       " \n",
       "         [[0., 0., 0., ..., 0., 0., 0.],\n",
       "          [0., 0., 0., ..., 0., 0., 0.],\n",
       "          [0., 0., 0., ..., 0., 0., 0.],\n",
       "          ...,\n",
       "          [0., 0., 0., ..., 0., 0., 0.],\n",
       "          [0., 0., 0., ..., 0., 0., 0.],\n",
       "          [0., 0., 0., ..., 0., 0., 0.]],\n",
       " \n",
       "         ...,\n",
       " \n",
       "         [[0., 0., 0., ..., 0., 0., 0.],\n",
       "          [0., 0., 0., ..., 0., 0., 0.],\n",
       "          [0., 0., 0., ..., 0., 0., 0.],\n",
       "          ...,\n",
       "          [0., 0., 0., ..., 0., 0., 0.],\n",
       "          [0., 0., 0., ..., 0., 0., 0.],\n",
       "          [0., 0., 0., ..., 0., 0., 0.]],\n",
       " \n",
       "         [[0., 0., 0., ..., 0., 0., 0.],\n",
       "          [0., 0., 0., ..., 0., 0., 0.],\n",
       "          [0., 0., 0., ..., 0., 0., 0.],\n",
       "          ...,\n",
       "          [0., 0., 0., ..., 0., 0., 0.],\n",
       "          [0., 0., 0., ..., 0., 0., 0.],\n",
       "          [0., 0., 0., ..., 0., 0., 0.]],\n",
       " \n",
       "         [[0., 0., 0., ..., 0., 0., 0.],\n",
       "          [0., 0., 0., ..., 0., 0., 0.],\n",
       "          [0., 0., 0., ..., 0., 0., 0.],\n",
       "          ...,\n",
       "          [0., 0., 0., ..., 0., 0., 0.],\n",
       "          [0., 0., 0., ..., 0., 0., 0.],\n",
       "          [0., 0., 0., ..., 0., 0., 0.]]]], dtype=float32)}"
      ]
     },
     "execution_count": 15,
     "metadata": {},
     "output_type": "execute_result"
    }
   ],
   "source": [
    "dataset = data_manager.get_train_dataset(batch_size=1)\n",
    "\n",
    "item = next(dataset.as_numpy_iterator())\n",
    "item\n"
   ]
  },
  {
   "cell_type": "markdown",
   "metadata": {},
   "source": [
    "# train_model"
   ]
  },
  {
   "cell_type": "code",
   "execution_count": 16,
   "metadata": {
    "ExecuteTime": {
     "end_time": "2021-11-22T07:27:07.031761Z",
     "start_time": "2021-11-22T07:26:37.376849Z"
    },
    "scrolled": true
   },
   "outputs": [
    {
     "data": {
      "text/plain": [
       "{'epochs': 4, 'batch_size': 8, 'overwrite_cache': False, 'steps_per_epoch': 50}"
      ]
     },
     "execution_count": 16,
     "metadata": {},
     "output_type": "execute_result"
    },
    {
     "name": "stderr",
     "output_type": "stream",
     "text": [
      "100%|██████████| 4/4 [00:00<00:00, 2691.24it/s]\n",
      "2021-11-22 15:26:37 [INFO][tf_core.py:173]:train on 4 tensors\n"
     ]
    },
    {
     "name": "stdout",
     "output_type": "stream",
     "text": [
      "Epoch 1/4\n"
     ]
    },
    {
     "name": "stderr",
     "output_type": "stream",
     "text": [
      "2021-11-22 15:26:42.211625: I tensorflow/stream_executor/platform/default/dso_loader.cc:44] Successfully opened dynamic library libcublas.so.10\n"
     ]
    },
    {
     "name": "stdout",
     "output_type": "stream",
     "text": [
      "50/50 [==============================] - 6s 118ms/step - loss: 2.9485 - global_pointer_f1_score: 0.0412\n",
      "Epoch 2/4\n",
      "50/50 [==============================] - 6s 123ms/step - loss: 0.1394 - global_pointer_f1_score: 0.8803\n",
      "Epoch 3/4\n",
      "50/50 [==============================] - 6s 124ms/step - loss: 0.0141 - global_pointer_f1_score: 1.0000\n",
      "Epoch 4/4\n",
      "50/50 [==============================] - 6s 119ms/step - loss: 0.0066 - global_pointer_f1_score: 1.0000\n"
     ]
    },
    {
     "name": "stderr",
     "output_type": "stream",
     "text": [
      "2021-11-22 15:27:07 [INFO][tf_core.py:189]:training finished\n"
     ]
    }
   ],
   "source": [
    "train_args = dict(**config[\"train_config\"])\n",
    "# train_args.update(epochs=4,steps_per_epoch=50, batch_size=8, verbose=1)\n",
    "train_args\n",
    "\n",
    "model.train(train_data=train_data, **train_args)"
   ]
  },
  {
   "cell_type": "markdown",
   "metadata": {},
   "source": [
    "# predict&evaluate"
   ]
  },
  {
   "cell_type": "code",
   "execution_count": 17,
   "metadata": {
    "ExecuteTime": {
     "end_time": "2021-11-22T07:27:09.777531Z",
     "start_time": "2021-11-22T07:27:09.653586Z"
    }
   },
   "outputs": [
    {
     "data": {
      "text/plain": [
       "[LabeledTextSpanClassifyExample(text='浙商银行企业信贷部叶老桂博士则从另一个角度对五道门槛进行了解读。叶老桂认为，对目前国内商业银行而言，', text_spans=[TextSpan(text='叶老桂', span=(9, 12), label='name', prob=1.0), TextSpan(text='浙商银行', span=(0, 4), label='company', prob=1.0)]),\n",
       " LabeledTextSpanClassifyExample(text='生生不息CSOL生化狂潮让你填弹狂扫', text_spans=[TextSpan(text='CSOL', span=(4, 8), label='game', prob=1.0)]),\n",
       " LabeledTextSpanClassifyExample(text='那不勒斯vs锡耶纳以及桑普vs热那亚之上呢？', text_spans=[TextSpan(text='那不勒斯', span=(0, 4), label='organization', prob=1.0), TextSpan(text='锡耶纳', span=(6, 9), label='organization', prob=1.0), TextSpan(text='桑普', span=(11, 13), label='organization', prob=1.0), TextSpan(text='热那亚', span=(15, 18), label='organization', prob=1.0)]),\n",
       " LabeledTextSpanClassifyExample(text='加勒比海盗3：世界尽头》的去年同期成绩死死甩在身后，后者则即将赶超《变形金刚》，', text_spans=[TextSpan(text='加勒比海盗3：世界尽头》', span=(0, 12), label='movie', prob=1.0), TextSpan(text='《变形金刚》', span=(33, 39), label='movie', prob=1.0)])]"
      ]
     },
     "execution_count": 17,
     "metadata": {},
     "output_type": "execute_result"
    },
    {
     "name": "stderr",
     "output_type": "stream",
     "text": [
      "100%|██████████| 4/4 [00:00<00:00, 2690.38it/s]\n",
      "2021-11-22 15:27:09 [INFO][tf_core.py:204]:predicting with tf model...\n",
      "1it [00:00, 16.10it/s]\n",
      "2021-11-22 15:27:09 [INFO][decorators.py:28]:function:_model_predict cost:0.064 seconds\n",
      "2021-11-22 15:27:09 [INFO][decorators.py:28]:function:_post_predict cost:0.006 seconds\n"
     ]
    },
    {
     "data": {
      "text/plain": [
       "[[TextSpan(text='浙商银行', span=(0, 4), label='company', prob=0.9997550845146179),\n",
       "  TextSpan(text='叶老桂', span=(9, 12), label='name', prob=0.9996330738067627)],\n",
       " [TextSpan(text='CSOL', span=(4, 8), label='game', prob=0.9998824596405029)],\n",
       " [TextSpan(text='那不勒斯', span=(0, 4), label='organization', prob=0.999836802482605),\n",
       "  TextSpan(text='锡耶纳', span=(6, 9), label='organization', prob=0.9998724460601807),\n",
       "  TextSpan(text='桑普', span=(11, 13), label='organization', prob=0.9997807145118713),\n",
       "  TextSpan(text='热那亚', span=(15, 18), label='organization', prob=0.9999070167541504)],\n",
       " [TextSpan(text='加勒比海盗3：世界尽头》', span=(0, 12), label='movie', prob=0.9996628761291504),\n",
       "  TextSpan(text='《变形金刚》', span=(33, 39), label='movie', prob=0.9997383952140808)]]"
      ]
     },
     "execution_count": 17,
     "metadata": {},
     "output_type": "execute_result"
    }
   ],
   "source": [
    "to_pred = train_data[:4]\n",
    "to_pred\n",
    "\n",
    "pred = model.predict(to_pred, show_detail=True)\n",
    "pred[:4]\n"
   ]
  },
  {
   "cell_type": "code",
   "execution_count": 18,
   "metadata": {
    "ExecuteTime": {
     "end_time": "2021-11-22T07:27:13.239679Z",
     "start_time": "2021-11-22T07:27:12.800169Z"
    }
   },
   "outputs": [
    {
     "data": {
      "text/plain": [
       "[{'text': '浙商银行企业信贷部叶老桂博士则从另一个角度对五道门槛进行了解读。叶老桂认为，对目前国内商业银行而言，',\n",
       "  'text_spans': [{'text': '叶老桂',\n",
       "    'span': (9, 12),\n",
       "    'label': 'name',\n",
       "    'prob': 1.0},\n",
       "   {'text': '浙商银行', 'span': (0, 4), 'label': 'company', 'prob': 1.0}],\n",
       "  'predict': [TextSpan(text='浙商银行', span=(0, 4), label='company', prob=0.9997550845146179),\n",
       "   TextSpan(text='叶老桂', span=(9, 12), label='name', prob=0.9996330738067627)],\n",
       "  'tp_set': {('叶老桂', 'name', (9, 12)), ('浙商银行', 'company', (0, 4))},\n",
       "  'fp_set': set(),\n",
       "  'fn_set': set()},\n",
       " {'text': '生生不息CSOL生化狂潮让你填弹狂扫',\n",
       "  'text_spans': [{'text': 'CSOL',\n",
       "    'span': (4, 8),\n",
       "    'label': 'game',\n",
       "    'prob': 1.0}],\n",
       "  'predict': [TextSpan(text='CSOL', span=(4, 8), label='game', prob=0.9998824596405029)],\n",
       "  'tp_set': {('CSOL', 'game', (4, 8))},\n",
       "  'fp_set': set(),\n",
       "  'fn_set': set()},\n",
       " {'text': '那不勒斯vs锡耶纳以及桑普vs热那亚之上呢？',\n",
       "  'text_spans': [{'text': '那不勒斯',\n",
       "    'span': (0, 4),\n",
       "    'label': 'organization',\n",
       "    'prob': 1.0},\n",
       "   {'text': '锡耶纳', 'span': (6, 9), 'label': 'organization', 'prob': 1.0},\n",
       "   {'text': '桑普', 'span': (11, 13), 'label': 'organization', 'prob': 1.0},\n",
       "   {'text': '热那亚', 'span': (15, 18), 'label': 'organization', 'prob': 1.0}],\n",
       "  'predict': [TextSpan(text='那不勒斯', span=(0, 4), label='organization', prob=0.999836802482605),\n",
       "   TextSpan(text='锡耶纳', span=(6, 9), label='organization', prob=0.9998724460601807),\n",
       "   TextSpan(text='桑普', span=(11, 13), label='organization', prob=0.9997807145118713),\n",
       "   TextSpan(text='热那亚', span=(15, 18), label='organization', prob=0.9999070167541504)],\n",
       "  'tp_set': {('桑普', 'organization', (11, 13)),\n",
       "   ('热那亚', 'organization', (15, 18)),\n",
       "   ('那不勒斯', 'organization', (0, 4)),\n",
       "   ('锡耶纳', 'organization', (6, 9))},\n",
       "  'fp_set': set(),\n",
       "  'fn_set': set()},\n",
       " {'text': '加勒比海盗3：世界尽头》的去年同期成绩死死甩在身后，后者则即将赶超《变形金刚》，',\n",
       "  'text_spans': [{'text': '加勒比海盗3：世界尽头》',\n",
       "    'span': (0, 12),\n",
       "    'label': 'movie',\n",
       "    'prob': 1.0},\n",
       "   {'text': '《变形金刚》', 'span': (33, 39), 'label': 'movie', 'prob': 1.0}],\n",
       "  'predict': [TextSpan(text='加勒比海盗3：世界尽头》', span=(0, 12), label='movie', prob=0.9996628761291504),\n",
       "   TextSpan(text='《变形金刚》', span=(33, 39), label='movie', prob=0.9997383952140808)],\n",
       "  'tp_set': {('《变形金刚》', 'movie', (33, 39)),\n",
       "   ('加勒比海盗3：世界尽头》', 'movie', (0, 12))},\n",
       "  'fp_set': set(),\n",
       "  'fn_set': set()}]"
      ]
     },
     "execution_count": 18,
     "metadata": {},
     "output_type": "execute_result"
    }
   ],
   "source": [
    "output_data = get_text_span_classify_output(to_pred, pred)\n",
    "output_data[:4]"
   ]
  },
  {
   "cell_type": "code",
   "execution_count": 19,
   "metadata": {
    "ExecuteTime": {
     "end_time": "2021-11-22T07:27:15.097965Z",
     "start_time": "2021-11-22T07:27:15.013707Z"
    }
   },
   "outputs": [
    {
     "data": {
      "text/plain": [
       "{'detail': {'organization': {'tp': 4,\n",
       "   'fp': 0,\n",
       "   'fn': 0,\n",
       "   'precision': 1.0,\n",
       "   'recall': 1.0,\n",
       "   'f1': 1.0},\n",
       "  'name': {'tp': 1,\n",
       "   'fp': 0,\n",
       "   'fn': 0,\n",
       "   'precision': 1.0,\n",
       "   'recall': 1.0,\n",
       "   'f1': 1.0},\n",
       "  'movie': {'tp': 2,\n",
       "   'fp': 0,\n",
       "   'fn': 0,\n",
       "   'precision': 1.0,\n",
       "   'recall': 1.0,\n",
       "   'f1': 1.0},\n",
       "  'game': {'tp': 1,\n",
       "   'fp': 0,\n",
       "   'fn': 0,\n",
       "   'precision': 1.0,\n",
       "   'recall': 1.0,\n",
       "   'f1': 1.0},\n",
       "  'company': {'tp': 1,\n",
       "   'fp': 0,\n",
       "   'fn': 0,\n",
       "   'precision': 1.0,\n",
       "   'recall': 1.0,\n",
       "   'f1': 1.0}},\n",
       " 'micro': {'tp': 9,\n",
       "  'fp': 0,\n",
       "  'fn': 0,\n",
       "  'precision': 1.0,\n",
       "  'recall': 1.0,\n",
       "  'f1': 1.0},\n",
       " 'macro': {'precision': 1.0, 'recall': 1.0, 'f1': 1.0}}"
      ]
     },
     "execution_count": 19,
     "metadata": {},
     "output_type": "execute_result"
    }
   ],
   "source": [
    "true_spans = [e.text_spans for e in to_pred]\n",
    "eval_rs = eval_text_span_classify(true_spans, pred)\n",
    "eval_rs"
   ]
  },
  {
   "cell_type": "markdown",
   "metadata": {},
   "source": [
    "# save&load"
   ]
  },
  {
   "cell_type": "code",
   "execution_count": 20,
   "metadata": {
    "ExecuteTime": {
     "end_time": "2021-11-22T07:27:20.528306Z",
     "start_time": "2021-11-22T07:27:18.503662Z"
    }
   },
   "outputs": [
    {
     "data": {
      "text/plain": [
       "{'format': 'h5'}"
      ]
     },
     "execution_count": 20,
     "metadata": {},
     "output_type": "execute_result"
    },
    {
     "data": {
      "text/plain": [
       "'/nfs/pony/chenhao/experiment/config_ai_example/global_pointer_example/model'"
      ]
     },
     "execution_count": 20,
     "metadata": {},
     "output_type": "execute_result"
    },
    {
     "name": "stderr",
     "output_type": "stream",
     "text": [
      "2021-11-22 15:27:18 [INFO][core.py:79]:saving model to /nfs/pony/chenhao/experiment/config_ai_example/global_pointer_example/model\n",
      "2021-11-22 15:27:18 [INFO][tf_core.py:55]:saving keras model to path:/nfs/pony/chenhao/experiment/config_ai_example/global_pointer_example/model/nn_model/nn_model.h5\n",
      "2021-11-22 15:27:20 [INFO][core.py:144]:save model done\n"
     ]
    }
   ],
   "source": [
    "model_path = os.path.join(config[\"common_config\"][\"experiment_dir\"],\n",
    "                          config[\"common_config\"][\"project_name\"],\n",
    "                          config[\"common_config\"][\"model_name\"],\"model\")\n",
    "\n",
    "save_args = dict(**config[\"common_config\"][\"save_args\"])\n",
    "del save_args[\"tf_serving_version\"]\n",
    "\n",
    "save_args\n",
    "model_path\n",
    "\n",
    "\n",
    "model.save(path=model_path, **save_args)\n",
    "\n",
    "\n"
   ]
  },
  {
   "cell_type": "code",
   "execution_count": 21,
   "metadata": {
    "ExecuteTime": {
     "end_time": "2021-11-22T07:27:28.317375Z",
     "start_time": "2021-11-22T07:27:24.836273Z"
    }
   },
   "outputs": [
    {
     "name": "stderr",
     "output_type": "stream",
     "text": [
      "2021-11-22 15:27:24 [INFO][core.py:90]:loading model from path:/nfs/pony/chenhao/experiment/config_ai_example/global_pointer_example/model\n",
      "2021-11-22 15:27:24 [INFO][core.py:47]:init model with config:\n",
      "2021-11-22 15:27:24 [INFO][core.py:124]:initializing tokenizer with config:\n",
      "{\n",
      "    \"tokenizer_name\": \"bert_word_piece\",\n",
      "    \"tokenizer_args\": {\n",
      "        \"vocabs\": \"/nfs/pony/chenhao/pretrain/chinese_rbt4_L-4_H-768_A-12/vocab.txt\"\n",
      "    }\n",
      "}\n",
      "2021-11-22 15:27:24 [INFO][core.py:138]:tokenizer initialized with 21128 vocabs\n",
      "2021-11-22 15:27:24 [INFO][tf_core.py:157]:loading keras model from path:/nfs/pony/chenhao/experiment/config_ai_example/global_pointer_example/model/nn_model/nn_model.h5 with format:h5\n",
      "2021-11-22 15:27:28 [INFO][layer_utils.py:192]:Model: \"token_classify_model\"\n",
      "2021-11-22 15:27:28 [INFO][layer_utils.py:193]:__________________________________________________________________________________________________\n",
      "2021-11-22 15:27:28 [INFO][layer_utils.py:190]:Layer (type)                    Output Shape         Param #     Connected to                     \n",
      "2021-11-22 15:27:28 [INFO][layer_utils.py:195]:==================================================================================================\n",
      "2021-11-22 15:27:28 [INFO][layer_utils.py:190]:token_ids (InputLayer)          [(None, None)]       0                                            \n",
      "2021-11-22 15:27:28 [INFO][layer_utils.py:259]:__________________________________________________________________________________________________\n",
      "2021-11-22 15:27:28 [INFO][layer_utils.py:190]:segment_ids (InputLayer)        [(None, None)]       0                                            \n",
      "2021-11-22 15:27:28 [INFO][layer_utils.py:259]:__________________________________________________________________________________________________\n",
      "2021-11-22 15:27:28 [INFO][layer_utils.py:190]:model (Model)                   (None, None, 768)    44974080    token_ids[0][0]                  \n",
      "2021-11-22 15:27:28 [INFO][layer_utils.py:190]:                                                                 segment_ids[0][0]                \n",
      "2021-11-22 15:27:28 [INFO][layer_utils.py:259]:__________________________________________________________________________________________________\n",
      "2021-11-22 15:27:28 [INFO][layer_utils.py:190]:global_pointer (GlobalPointer)  (None, 10, None, Non 984320      model[1][0]                      \n",
      "2021-11-22 15:27:28 [INFO][layer_utils.py:259]:__________________________________________________________________________________________________\n",
      "2021-11-22 15:27:28 [INFO][layer_utils.py:190]:pos_weight_layer (Lambda)       (None, 10, None, Non 0           global_pointer[0][0]             \n",
      "2021-11-22 15:27:28 [INFO][layer_utils.py:257]:==================================================================================================\n",
      "2021-11-22 15:27:28 [INFO][layer_utils.py:268]:Total params: 45,958,400\n",
      "2021-11-22 15:27:28 [INFO][layer_utils.py:269]:Trainable params: 45,958,400\n",
      "2021-11-22 15:27:28 [INFO][layer_utils.py:270]:Non-trainable params: 0\n",
      "2021-11-22 15:27:28 [INFO][layer_utils.py:271]:__________________________________________________________________________________________________\n",
      "2021-11-22 15:27:28 [INFO][core.py:158]:load model done\n"
     ]
    },
    {
     "data": {
      "text/plain": [
       "<config_ai.models.text_span_classify.global_pointer.GlobalPointerModel at 0x7f1271e6bf40>"
      ]
     },
     "execution_count": 21,
     "metadata": {},
     "output_type": "execute_result"
    }
   ],
   "source": [
    "loaded_model = load_model(path=model_path)\n",
    "loaded_model"
   ]
  },
  {
   "cell_type": "code",
   "execution_count": 22,
   "metadata": {
    "ExecuteTime": {
     "end_time": "2021-11-22T07:27:31.099910Z",
     "start_time": "2021-11-22T07:27:31.027285Z"
    }
   },
   "outputs": [
    {
     "name": "stderr",
     "output_type": "stream",
     "text": [
      "100%|██████████| 4/4 [00:00<00:00, 4593.98it/s]\n",
      "2021-11-22 15:27:31 [INFO][tf_core.py:204]:predicting with tf model...\n",
      "2021-11-22 15:27:31 [INFO][decorators.py:28]:function:_model_predict cost:0.039 seconds\n",
      "2021-11-22 15:27:31 [INFO][decorators.py:28]:function:_post_predict cost:0.004 seconds\n"
     ]
    },
    {
     "data": {
      "text/plain": [
       "[[TextSpan(text='浙商银行', span=(0, 4), label='company', prob=0.9997550845146179),\n",
       "  TextSpan(text='叶老桂', span=(9, 12), label='name', prob=0.9996330738067627)],\n",
       " [TextSpan(text='CSOL', span=(4, 8), label='game', prob=0.9998824596405029)],\n",
       " [TextSpan(text='那不勒斯', span=(0, 4), label='organization', prob=0.999836802482605),\n",
       "  TextSpan(text='锡耶纳', span=(6, 9), label='organization', prob=0.9998724460601807),\n",
       "  TextSpan(text='桑普', span=(11, 13), label='organization', prob=0.9997807145118713),\n",
       "  TextSpan(text='热那亚', span=(15, 18), label='organization', prob=0.9999070167541504)],\n",
       " [TextSpan(text='加勒比海盗3：世界尽头》', span=(0, 12), label='movie', prob=0.9996628761291504),\n",
       "  TextSpan(text='《变形金刚》', span=(33, 39), label='movie', prob=0.9997383952140808)]]"
      ]
     },
     "execution_count": 22,
     "metadata": {},
     "output_type": "execute_result"
    }
   ],
   "source": [
    "loaded_pred = loaded_model.predict(data=to_pred)\n",
    "loaded_pred"
   ]
  },
  {
   "cell_type": "code",
   "execution_count": null,
   "metadata": {},
   "outputs": [],
   "source": []
  }
 ],
 "metadata": {
  "hide_input": false,
  "kernelspec": {
   "display_name": "config_ai",
   "language": "python",
   "name": "config_ai"
  },
  "language_info": {
   "codemirror_mode": {
    "name": "ipython",
    "version": 3
   },
   "file_extension": ".py",
   "mimetype": "text/x-python",
   "name": "python",
   "nbconvert_exporter": "python",
   "pygments_lexer": "ipython3",
   "version": "3.8.12"
  },
  "toc": {
   "base_numbering": 1,
   "nav_menu": {},
   "number_sections": true,
   "sideBar": true,
   "skip_h1_title": false,
   "title_cell": "Table of Contents",
   "title_sidebar": "Contents",
   "toc_cell": false,
   "toc_position": {},
   "toc_section_display": true,
   "toc_window_display": false
  },
  "varInspector": {
   "cols": {
    "lenName": 16,
    "lenType": 16,
    "lenVar": 40
   },
   "kernels_config": {
    "python": {
     "delete_cmd_postfix": "",
     "delete_cmd_prefix": "del ",
     "library": "var_list.py",
     "varRefreshCmd": "print(var_dic_list())"
    },
    "r": {
     "delete_cmd_postfix": ") ",
     "delete_cmd_prefix": "rm(",
     "library": "var_list.r",
     "varRefreshCmd": "cat(var_dic_list()) "
    }
   },
   "position": {
    "height": "508px",
    "left": "1088px",
    "right": "20px",
    "top": "120px",
    "width": "333px"
   },
   "types_to_exclude": [
    "module",
    "function",
    "builtin_function_or_method",
    "instance",
    "_Feature"
   ],
   "window_display": false
  }
 },
 "nbformat": 4,
 "nbformat_minor": 4
}
